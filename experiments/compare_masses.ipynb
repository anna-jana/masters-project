{
 "cells": [
  {
   "cell_type": "code",
   "execution_count": 31,
   "id": "f22ee590-f93f-4ad4-8734-ba77dd330502",
   "metadata": {},
   "outputs": [],
   "source": [
    "import numpy as np, matplotlib.pyplot as plt\n",
    "from scipy.optimize import root, root_scalar\n",
    "import sys\n",
    "sys.append(\"../transport_eq_in_time/\")\n",
    "from observables import T_CMB, g_star_0, rho_c, h\n",
    "from decay_process import g_star, M_pl"
   ]
  },
  {
   "cell_type": "code",
   "execution_count": 20,
   "id": "a46a66fc-dbf8-43d2-9ec7-9585f1b53b2b",
   "metadata": {},
   "outputs": [],
   "source": [
    "def calc_T_osc(m_a):\n",
    "    return  ((10 * m_a**2 * M_pl**2) / (np.pi**2 * g_star))**(1/4)"
   ]
  },
  {
   "cell_type": "code",
   "execution_count": 21,
   "id": "4d1cf61e-4547-4309-8254-4da583464874",
   "metadata": {},
   "outputs": [],
   "source": [
    "def calc_misalignment_relic_density(m_a, f_a, theta_i):\n",
    "    return (\n",
    "        g_star_0 / g_star * T_CMB**3 / calc_T_osc(m_a)**3 * \n",
    "        m_a**2 * f_a**2 * theta_i**2 / 2 \n",
    "    )"
   ]
  },
  {
   "cell_type": "code",
   "execution_count": 27,
   "id": "3c9f9bc4-b55d-4af3-a164-b4c421b65843",
   "metadata": {},
   "outputs": [],
   "source": [
    "def calc_H_top(m_a, theta_dot_i):\n",
    "    return m_a / 3 * (2 * m_a / theta_dot_i)**(2/3)\n",
    "\n",
    "def calc_T_stop(m_a, theta_dot_i):\n",
    "    return (\n",
    "        30 / (no.pi**2 * g_star) * 3 * M_pl**2 * calc_H_top(m_a, theta_dot_i)**2\n",
    "    )**(1/4)"
   ]
  },
  {
   "cell_type": "code",
   "execution_count": 28,
   "id": "870300ee-023f-41a1-9695-67a010674840",
   "metadata": {},
   "outputs": [],
   "source": [
    "def calc_kinetic_realignment_relic_density(m_a, f_a, theta_dot_i):\n",
    "    return (\n",
    "        g_star_0 / g_star * T_CMB**3 / calc_T_stop(m_a, theta_dot_i)**3\n",
    "        * 2 * f_a**2 * m_a**2\n",
    "    )"
   ]
  },
  {
   "cell_type": "code",
   "execution_count": 29,
   "id": "6797c873-ee60-4ae4-a972-d3a066209223",
   "metadata": {},
   "outputs": [],
   "source": [
    "def is_kinetic(m_a, theta_dot_i):\n",
    "    return m_a >= 3 * calc_H_top(m_a, theta_dot_i)"
   ]
  },
  {
   "cell_type": "code",
   "execution_count": 32,
   "id": "5815ec0d-0111-46e8-abba-010dde4fb864",
   "metadata": {},
   "outputs": [],
   "source": [
    "def relic_density(m_a, f_a, theta_i, theta_dot_i):\n",
    "    if is_kinetic(m_a, theta_dot_i):\n",
    "        rho = calc_kinetic_realignment_relic_density(m_a, f_a, theta_dot_i)\n",
    "    else:\n",
    "        rho = calc_misalignment_relic_density(m_a, f_a, theta_i)\n",
    "    return rho / rho_c * h**2"
   ]
  },
  {
   "cell_type": "code",
   "execution_count": null,
   "id": "59f689f3-8f24-44bc-a7ed-5e64406146cf",
   "metadata": {},
   "outputs": [],
   "source": []
  },
  {
   "cell_type": "code",
   "execution_count": 36,
   "id": "c0a7359d-9377-40fd-99f7-49aec6928d60",
   "metadata": {},
   "outputs": [],
   "source": [
    "T_D = 1e13\n",
    "def calc_asymmetry_realignment(m_a):\n",
    "    return 1e-3 * m_a / T_D\n",
    "\n",
    "def calc_asymmetry_kinetic():\n",
    "    return "
   ]
  },
  {
   "cell_type": "code",
   "execution_count": 35,
   "id": "309f27f9-7646-45f5-a57c-17b6792a4b06",
   "metadata": {},
   "outputs": [],
   "source": [
    "def can_overcome_potential(m_a, f_a, theta_i, theta_dot_i):\n",
    "    K = 0.5*f_a**2*theta_dot_i**2\n",
    "    V_max = 2*m_a**2\n",
    "    return K > V_max"
   ]
  },
  {
   "cell_type": "code",
   "execution_count": null,
   "id": "d955582f-1b68-44dc-bb98-16416d3acb0b",
   "metadata": {},
   "outputs": [],
   "source": []
  }
 ],
 "metadata": {
  "kernelspec": {
   "display_name": "Python 3 (ipykernel)",
   "language": "python",
   "name": "python3"
  },
  "language_info": {
   "codemirror_mode": {
    "name": "ipython",
    "version": 3
   },
   "file_extension": ".py",
   "mimetype": "text/x-python",
   "name": "python",
   "nbconvert_exporter": "python",
   "pygments_lexer": "ipython3",
   "version": "3.10.4"
  }
 },
 "nbformat": 4,
 "nbformat_minor": 5
}
