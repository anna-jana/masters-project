{
 "cells": [
  {
   "cell_type": "code",
   "execution_count": 1,
   "id": "76f66e24-f368-435d-b2f5-39e4022e2a8a",
   "metadata": {},
   "outputs": [],
   "source": [
    "import sympy as sp, numpy as np, matplotlib.pyplot as plt"
   ]
  },
  {
   "cell_type": "markdown",
   "id": "dc118e8d-88a1-461f-88fa-fa8fd9f60ba9",
   "metadata": {},
   "source": [
    "## Rewrtiting clockwork action"
   ]
  },
  {
   "cell_type": "code",
   "execution_count": 9,
   "id": "8b62e36d-702e-4e82-8644-3e664d03f66f",
   "metadata": {},
   "outputs": [
    {
     "data": {
      "text/latex": [
       "$\\displaystyle -1 + \\frac{2}{x^{2} + 1}$"
      ],
      "text/plain": [
       "-1 + 2/(x**2 + 1)"
      ]
     },
     "execution_count": 9,
     "metadata": {},
     "output_type": "execute_result"
    }
   ],
   "source": [
    "x = sp.symbols(\"x\")\n",
    "A = sp.cos(sp.atan(x) * 2)\n",
    "A.expand(trig=True)"
   ]
  },
  {
   "cell_type": "code",
   "execution_count": 10,
   "id": "74356ef5-bcde-4052-97c6-bd8b7b895f74",
   "metadata": {},
   "outputs": [
    {
     "data": {
      "text/latex": [
       "$\\displaystyle \\frac{2 x}{x^{2} + 1}$"
      ],
      "text/plain": [
       "2*x/(x**2 + 1)"
      ]
     },
     "execution_count": 10,
     "metadata": {},
     "output_type": "execute_result"
    }
   ],
   "source": [
    "A = sp.sin(sp.atan(x) * 2)\n",
    "A.expand(trig=True)"
   ]
  },
  {
   "cell_type": "markdown",
   "id": "8b08cd14-df80-41d8-a83b-78292a4ce856",
   "metadata": {},
   "source": [
    "## Integrate y direction out in clockwork"
   ]
  },
  {
   "cell_type": "code",
   "execution_count": 2,
   "id": "beaba846-87f8-495d-bdd5-970cb13272c2",
   "metadata": {},
   "outputs": [
    {
     "data": {
      "text/latex": [
       "$\\displaystyle \\frac{2 e^{2 \\pi R m} - 2}{m \\left(\\phi^{2} + 1\\right) \\left(\\phi^{2} e^{2 \\pi R m} + 1\\right)}$"
      ],
      "text/plain": [
       "(2*exp(2*pi*R*m) - 2)/(m*(phi**2 + 1)*(phi**2*exp(2*pi*R*m) + 1))"
      ]
     },
     "execution_count": 2,
     "metadata": {},
     "output_type": "execute_result"
    }
   ],
   "source": [
    "R, m, y, phi = sp.symbols(\"R, m, y, phi\")  \n",
    "I = 4 * sp.exp(2*m*y) / (1 + sp.exp(2*m*y) * phi**2)**2\n",
    "ans = sp.integrate(I, (y, 0, sp.pi*R))\n",
    "ans.simplify()"
   ]
  },
  {
   "cell_type": "markdown",
   "id": "72d29c56-047a-4c76-8109-d3c43bc1c88b",
   "metadata": {},
   "source": [
    "## approximation of coth"
   ]
  },
  {
   "cell_type": "code",
   "execution_count": 17,
   "id": "8342c010-32aa-49a1-ac8f-03e0f618fae3",
   "metadata": {},
   "outputs": [],
   "source": [
    "epsilon = sp.symbols(\"epsilon\")"
   ]
  },
  {
   "cell_type": "code",
   "execution_count": 18,
   "id": "12d90b49-50e4-4fb3-80a8-e5fcd81c00d3",
   "metadata": {},
   "outputs": [
    {
     "data": {
      "text/latex": [
       "$\\displaystyle 1 + 2 \\epsilon^{2} + O\\left(\\epsilon^{3}\\right)$"
      ],
      "text/plain": [
       "1 + 2*epsilon**2 + O(epsilon**3)"
      ]
     },
     "execution_count": 18,
     "metadata": {},
     "output_type": "execute_result"
    }
   ],
   "source": [
    "sp.series((1 + epsilon**2) / (1 - epsilon**2), epsilon, 0, 3)"
   ]
  },
  {
   "cell_type": "markdown",
   "id": "1a949d01-0880-40c3-956e-176dc62b7691",
   "metadata": {},
   "source": [
    "## Pertubation of equation of state in tracking solutions"
   ]
  },
  {
   "cell_type": "code",
   "execution_count": 4,
   "id": "28bab036-5477-4624-bb58-3c152e5a1181",
   "metadata": {
    "tags": []
   },
   "outputs": [],
   "source": [
    "w, delta_w = sp.symbols(\"w, delta_w\")"
   ]
  },
  {
   "cell_type": "code",
   "execution_count": 5,
   "id": "d21d70a0-317b-4a99-b49d-0f9456e67355",
   "metadata": {},
   "outputs": [],
   "source": [
    "x = (1 - w) / (1 + w)"
   ]
  },
  {
   "cell_type": "code",
   "execution_count": 6,
   "id": "f416d71e-b8c1-4bf9-be50-900b2d6d09a6",
   "metadata": {},
   "outputs": [
    {
     "data": {
      "text/latex": [
       "$\\displaystyle \\frac{1}{w + 1} - \\frac{w}{w + 1} - \\frac{2 \\delta_{w}}{\\left(w + 1\\right)^{2}} + O\\left(\\delta_{w}^{2}\\right)$"
      ],
      "text/plain": [
       "1/(w + 1) - w/(w + 1) - 2*delta_w/(w + 1)**2 + O(delta_w**2)"
      ]
     },
     "execution_count": 6,
     "metadata": {},
     "output_type": "execute_result"
    }
   ],
   "source": [
    "x.subs(w, w + delta_w).series(delta_w, 0, 2).simplify()"
   ]
  },
  {
   "cell_type": "code",
   "execution_count": 8,
   "id": "81ab07a9-3e39-44ea-bc65-6058998f1cf6",
   "metadata": {},
   "outputs": [],
   "source": [
    "y = sp.symbols(\"y\")"
   ]
  },
  {
   "cell_type": "code",
   "execution_count": 9,
   "id": "8790036b-bdcd-4b6e-ac93-cfe8f571c192",
   "metadata": {},
   "outputs": [
    {
     "data": {
      "text/latex": [
       "$\\displaystyle \\frac{w + 1}{1 - w} + \\frac{2 \\delta_{w}}{\\left(1 - w\\right)^{2}} + O\\left(\\delta_{w}^{2}\\right)$"
      ],
      "text/plain": [
       "(w + 1)/(1 - w) + 2*delta_w/(1 - w)**2 + O(delta_w**2)"
      ]
     },
     "execution_count": 9,
     "metadata": {},
     "output_type": "execute_result"
    }
   ],
   "source": [
    "S = 1 / (y - 2 / (w + 1)**2 * delta_w)\n",
    "S.series(delta_w, 0, 2).subs(y, x)"
   ]
  },
  {
   "cell_type": "code",
   "execution_count": 10,
   "id": "f56bcc39-4222-4c82-a2bd-2e5d4cb82ebd",
   "metadata": {},
   "outputs": [
    {
     "data": {
      "text/latex": [
       "$\\displaystyle - \\frac{1}{w - 1} - \\frac{w}{w - 1} + \\frac{2 \\delta_{w}}{\\left(w - 1\\right)^{2}} + O\\left(\\delta_{w}^{2}\\right)$"
      ],
      "text/plain": [
       "-1/(w - 1) - w/(w - 1) + 2*delta_w/(w - 1)**2 + O(delta_w**2)"
      ]
     },
     "execution_count": 10,
     "metadata": {},
     "output_type": "execute_result"
    }
   ],
   "source": [
    "(1 / x.subs(w, w + delta_w)).series(delta_w, 0, 2).simplify()"
   ]
  },
  {
   "cell_type": "code",
   "execution_count": 11,
   "id": "218c10ba-9d40-4971-89a4-b7e194c04a32",
   "metadata": {},
   "outputs": [],
   "source": [
    "a = sp.symbols(\"a\")"
   ]
  },
  {
   "cell_type": "code",
   "execution_count": 19,
   "id": "8145b96e-eb89-4eb3-a87c-307ef9d29285",
   "metadata": {},
   "outputs": [
    {
     "data": {
      "text/latex": [
       "$\\displaystyle \\frac{\\left(w + 1\\right)^{\\frac{3}{2}} - \\frac{\\delta_{w} \\sqrt{w + 1} \\cdot \\left(3 \\left(w + 1\\right) \\log{\\left(a \\right)} + 1\\right)}{2} + O\\left(\\delta_{w}^{2}\\right)}{\\left(w + 1\\right)^{2}}$"
      ],
      "text/plain": [
       "((w + 1)**(3/2) - delta_w*sqrt(w + 1)*(3*(w + 1)*log(a) + 1)/2 + O(delta_w**2))/(w + 1)**2"
      ]
     },
     "execution_count": 19,
     "metadata": {},
     "output_type": "execute_result"
    }
   ],
   "source": [
    "S = sp.sqrt((1 - sp.log(a)*3*delta_w) / (1 + w + delta_w))\n",
    "S.series(delta_w, 0, 2).simplify()"
   ]
  },
  {
   "cell_type": "markdown",
   "id": "ff3c0737-23e9-4a1e-a85e-c52b00906927",
   "metadata": {},
   "source": [
    "## multi axions"
   ]
  },
  {
   "cell_type": "code",
   "execution_count": 9,
   "id": "b82ab173-2ab8-423c-aeb2-f2da6457a0a1",
   "metadata": {},
   "outputs": [
    {
     "data": {
      "text/latex": [
       "$\\displaystyle \\Lambda_{0}^{4} \\cdot \\left(1 - \\cos{\\left(\\frac{Q_{00} \\phi_{0}}{f_{0}} + \\frac{Q_{01} \\phi_{1}}{f_{1}} \\right)}\\right) + \\Lambda_{1}^{4} \\cdot \\left(1 - \\cos{\\left(\\frac{Q_{10} \\phi_{0}}{f_{0}} + \\frac{Q_{11} \\phi_{1}}{f_{1}} \\right)}\\right)$"
      ],
      "text/plain": [
       "Lambda_0**4*(1 - cos(Q_00*phi_0/f_0 + Q_01*phi_1/f_1)) + Lambda_1**4*(1 - cos(Q_10*phi_0/f_0 + Q_11*phi_1/f_1))"
      ]
     },
     "execution_count": 9,
     "metadata": {},
     "output_type": "execute_result"
    }
   ],
   "source": [
    "n = 2\n",
    "Q = np.array([[sp.Symbol(f\"Q_{i}{j}\", real=True) for j in range(n)] for i in range(n)])\n",
    "phi = [sp.Symbol(f\"phi_{i}\", real=True) for i in range(n)]\n",
    "f = [sp.Symbol(f\"f_{i}\", positive=True) for i in range(n)]\n",
    "Lambda = [sp.Symbol(f\"Lambda_{i}\", positive=True) for i in range(n)]\n",
    "V = sum(Lambda[i]**4 * (1 - sp.cos(sum(Q[i, j] * phi[j] / f[j] for j in range(n)))) for i in range(n))\n",
    "V"
   ]
  },
  {
   "cell_type": "code",
   "execution_count": 27,
   "id": "e79b0841-9bd4-474d-90ea-5ae242e51682",
   "metadata": {},
   "outputs": [],
   "source": [
    "def my_series(f, x, x0, n):\n",
    "    return sum(sp.diff(f, x, i).subs(x, x0) / sp.factorial(i) * (x - x0)**i for i in range(n)) \n",
    "V_approx = V\n",
    "for i in range(n):\n",
    "    V_approx = my_series(V_approx, phi[i], 0, 3)\n",
    "V_approx = V_approx.simplify().expand()"
   ]
  },
  {
   "cell_type": "code",
   "execution_count": 31,
   "id": "fd48ebe1-542b-457f-9973-b0316f19910f",
   "metadata": {},
   "outputs": [
    {
     "name": "stdout",
     "output_type": "stream",
     "text": [
      "- \\frac{\\Lambda_{0}^{4} Q_{00}^{2} Q_{01}^{2} \\phi_{0}^{2} \\phi_{1}^{2}}{4 f_{0}^{2} f_{1}^{2}} + \\frac{\\Lambda_{0}^{4} Q_{00}^{2} \\phi_{0}^{2}}{2 f_{0}^{2}} + \\frac{\\Lambda_{0}^{4} Q_{00} Q_{01} \\phi_{0} \\phi_{1}}{f_{0} f_{1}} + \\frac{\\Lambda_{0}^{4} Q_{01}^{2} \\phi_{1}^{2}}{2 f_{1}^{2}} - \\frac{\\Lambda_{1}^{4} Q_{10}^{2} Q_{11}^{2} \\phi_{0}^{2} \\phi_{1}^{2}}{4 f_{0}^{2} f_{1}^{2}} + \\frac{\\Lambda_{1}^{4} Q_{10}^{2} \\phi_{0}^{2}}{2 f_{0}^{2}} + \\frac{\\Lambda_{1}^{4} Q_{10} Q_{11} \\phi_{0} \\phi_{1}}{f_{0} f_{1}} + \\frac{\\Lambda_{1}^{4} Q_{11}^{2} \\phi_{1}^{2}}{2 f_{1}^{2}}\n"
     ]
    }
   ],
   "source": [
    "print(sp.latex(V_approx))"
   ]
  },
  {
   "cell_type": "code",
   "execution_count": 42,
   "id": "ac123585-4e90-4b6b-a850-5ce26ee0e75d",
   "metadata": {},
   "outputs": [
    {
     "data": {
      "text/latex": [
       "$\\displaystyle \\left[\\begin{matrix}\\frac{2 \\left(\\Lambda_{0}^{4} Q_{00}^{2} + \\Lambda_{1}^{4} Q_{10}^{2}\\right)}{f_{0}^{2}} & \\frac{2 \\left(\\Lambda_{0}^{4} Q_{00} Q_{01} + \\Lambda_{1}^{4} Q_{10} Q_{11}\\right)}{f_{0} f_{1}}\\\\\\frac{2 \\left(\\Lambda_{0}^{4} Q_{00} Q_{01} + \\Lambda_{1}^{4} Q_{10} Q_{11}\\right)}{f_{0} f_{1}} & \\frac{2 \\left(\\Lambda_{0}^{4} Q_{01}^{2} + \\Lambda_{1}^{4} Q_{11}^{2}\\right)}{f_{1}^{2}}\\end{matrix}\\right]$"
      ],
      "text/plain": [
       "Matrix([\n",
       "[       2*(Lambda_0**4*Q_00**2 + Lambda_1**4*Q_10**2)/f_0**2, 2*(Lambda_0**4*Q_00*Q_01 + Lambda_1**4*Q_10*Q_11)/(f_0*f_1)],\n",
       "[2*(Lambda_0**4*Q_00*Q_01 + Lambda_1**4*Q_10*Q_11)/(f_0*f_1),        2*(Lambda_0**4*Q_01**2 + Lambda_1**4*Q_11**2)/f_1**2]])"
      ]
     },
     "execution_count": 42,
     "metadata": {},
     "output_type": "execute_result"
    }
   ],
   "source": [
    "M = sp.Matrix([[V_approx.diff(phi[i]).diff(phi[j]).subs(phi[0], 0).subs(phi[1], 0).simplify() * 2 \n",
    "            for j in range(n)] for i in range(n)])\n",
    "M"
   ]
  },
  {
   "cell_type": "code",
   "execution_count": 44,
   "id": "800f0624-34e0-49a6-89ae-3ff5da309ac0",
   "metadata": {},
   "outputs": [],
   "source": [
    "EV = M.eigenvects()"
   ]
  },
  {
   "cell_type": "code",
   "execution_count": 107,
   "id": "d26205c3-9e56-489a-9d67-cab79c9f1f40",
   "metadata": {},
   "outputs": [
    {
     "data": {
      "text/latex": [
       "$\\displaystyle f_{0}^{2} \\left(\\Lambda_{0}^{4} Q_{01}^{2} + \\Lambda_{1}^{4} Q_{11}^{2}\\right) + f_{1}^{2} \\left(\\Lambda_{0}^{4} Q_{00}^{2} + \\Lambda_{1}^{4} Q_{10}^{2}\\right)$"
      ],
      "text/plain": [
       "f_0**2*(Lambda_0**4*Q_01**2 + Lambda_1**4*Q_11**2) + f_1**2*(Lambda_0**4*Q_00**2 + Lambda_1**4*Q_10**2)"
      ]
     },
     "execution_count": 107,
     "metadata": {},
     "output_type": "execute_result"
    }
   ],
   "source": [
    "S = [f[1]**2, f[0]**2] @ (Q.T**2 @ np.array(Lambda)**4)\n",
    "S"
   ]
  },
  {
   "cell_type": "code",
   "execution_count": 117,
   "id": "b207ebd6-e08b-4698-a263-213fedef22de",
   "metadata": {},
   "outputs": [],
   "source": [
    "eigen_vals = sp.Matrix([eigval.expand() for eigval, _, _ in EV])\n",
    "R = eigen_vals * f[0]**2 * f[1]**2 - sp.Matrix([S,  S])\n",
    "R.simplify()\n",
    "R2 = R[0]**2\n",
    "R3 = R2.factor()"
   ]
  },
  {
   "cell_type": "code",
   "execution_count": 130,
   "id": "99eb9726-1280-4065-9d14-db1f0742ca69",
   "metadata": {},
   "outputs": [
    {
     "data": {
      "text/latex": [
       "$\\displaystyle \\left[\\begin{matrix}- \\sqrt{\\Lambda_{0}^{8} Q_{00}^{4} f_{1}^{4} + 2 \\Lambda_{0}^{8} Q_{00}^{2} Q_{01}^{2} f_{0}^{2} f_{1}^{2} + \\Lambda_{0}^{8} Q_{01}^{4} f_{0}^{4} + 2 \\Lambda_{0}^{4} \\Lambda_{1}^{4} Q_{00}^{2} Q_{10}^{2} f_{1}^{4} - 2 \\Lambda_{0}^{4} \\Lambda_{1}^{4} Q_{00}^{2} Q_{11}^{2} f_{0}^{2} f_{1}^{2} + 8 \\Lambda_{0}^{4} \\Lambda_{1}^{4} Q_{00} Q_{01} Q_{10} Q_{11} f_{0}^{2} f_{1}^{2} - 2 \\Lambda_{0}^{4} \\Lambda_{1}^{4} Q_{01}^{2} Q_{10}^{2} f_{0}^{2} f_{1}^{2} + 2 \\Lambda_{0}^{4} \\Lambda_{1}^{4} Q_{01}^{2} Q_{11}^{2} f_{0}^{4} + \\Lambda_{1}^{8} Q_{10}^{4} f_{1}^{4} + 2 \\Lambda_{1}^{8} Q_{10}^{2} Q_{11}^{2} f_{0}^{2} f_{1}^{2} + \\Lambda_{1}^{8} Q_{11}^{4} f_{0}^{4}}\\\\\\sqrt{\\Lambda_{0}^{8} Q_{00}^{4} f_{1}^{4} + 2 \\Lambda_{0}^{8} Q_{00}^{2} Q_{01}^{2} f_{0}^{2} f_{1}^{2} + \\Lambda_{0}^{8} Q_{01}^{4} f_{0}^{4} + 2 \\Lambda_{0}^{4} \\Lambda_{1}^{4} Q_{00}^{2} Q_{10}^{2} f_{1}^{4} - 2 \\Lambda_{0}^{4} \\Lambda_{1}^{4} Q_{00}^{2} Q_{11}^{2} f_{0}^{2} f_{1}^{2} + 8 \\Lambda_{0}^{4} \\Lambda_{1}^{4} Q_{00} Q_{01} Q_{10} Q_{11} f_{0}^{2} f_{1}^{2} - 2 \\Lambda_{0}^{4} \\Lambda_{1}^{4} Q_{01}^{2} Q_{10}^{2} f_{0}^{2} f_{1}^{2} + 2 \\Lambda_{0}^{4} \\Lambda_{1}^{4} Q_{01}^{2} Q_{11}^{2} f_{0}^{4} + \\Lambda_{1}^{8} Q_{10}^{4} f_{1}^{4} + 2 \\Lambda_{1}^{8} Q_{10}^{2} Q_{11}^{2} f_{0}^{2} f_{1}^{2} + \\Lambda_{1}^{8} Q_{11}^{4} f_{0}^{4}}\\end{matrix}\\right]$"
      ],
      "text/plain": [
       "Matrix([\n",
       "[-sqrt(Lambda_0**8*Q_00**4*f_1**4 + 2*Lambda_0**8*Q_00**2*Q_01**2*f_0**2*f_1**2 + Lambda_0**8*Q_01**4*f_0**4 + 2*Lambda_0**4*Lambda_1**4*Q_00**2*Q_10**2*f_1**4 - 2*Lambda_0**4*Lambda_1**4*Q_00**2*Q_11**2*f_0**2*f_1**2 + 8*Lambda_0**4*Lambda_1**4*Q_00*Q_01*Q_10*Q_11*f_0**2*f_1**2 - 2*Lambda_0**4*Lambda_1**4*Q_01**2*Q_10**2*f_0**2*f_1**2 + 2*Lambda_0**4*Lambda_1**4*Q_01**2*Q_11**2*f_0**4 + Lambda_1**8*Q_10**4*f_1**4 + 2*Lambda_1**8*Q_10**2*Q_11**2*f_0**2*f_1**2 + Lambda_1**8*Q_11**4*f_0**4)],\n",
       "[ sqrt(Lambda_0**8*Q_00**4*f_1**4 + 2*Lambda_0**8*Q_00**2*Q_01**2*f_0**2*f_1**2 + Lambda_0**8*Q_01**4*f_0**4 + 2*Lambda_0**4*Lambda_1**4*Q_00**2*Q_10**2*f_1**4 - 2*Lambda_0**4*Lambda_1**4*Q_00**2*Q_11**2*f_0**2*f_1**2 + 8*Lambda_0**4*Lambda_1**4*Q_00*Q_01*Q_10*Q_11*f_0**2*f_1**2 - 2*Lambda_0**4*Lambda_1**4*Q_01**2*Q_10**2*f_0**2*f_1**2 + 2*Lambda_0**4*Lambda_1**4*Q_01**2*Q_11**2*f_0**4 + Lambda_1**8*Q_10**4*f_1**4 + 2*Lambda_1**8*Q_10**2*Q_11**2*f_0**2*f_1**2 + Lambda_1**8*Q_11**4*f_0**4)]])"
      ]
     },
     "execution_count": 130,
     "metadata": {},
     "output_type": "execute_result"
    }
   ],
   "source": [
    "R"
   ]
  },
  {
   "cell_type": "code",
   "execution_count": 122,
   "id": "affd198f-3d06-4cdf-9cca-5c9cd403e6de",
   "metadata": {},
   "outputs": [
    {
     "data": {
      "text/latex": [
       "$\\displaystyle \\Lambda_{0}^{4} Q_{00}^{2} f_{1}^{2} + \\Lambda_{0}^{4} Q_{01}^{2} f_{0}^{2} - 2 \\Lambda_{0}^{2} \\Lambda_{1}^{2} Q_{00} Q_{11} f_{0} f_{1} + 2 \\Lambda_{0}^{2} \\Lambda_{1}^{2} Q_{01} Q_{10} f_{0} f_{1} + \\Lambda_{1}^{4} Q_{10}^{2} f_{1}^{2} + \\Lambda_{1}^{4} Q_{11}^{2} f_{0}^{2}$"
      ],
      "text/plain": [
       "Lambda_0**4*Q_00**2*f_1**2 + Lambda_0**4*Q_01**2*f_0**2 - 2*Lambda_0**2*Lambda_1**2*Q_00*Q_11*f_0*f_1 + 2*Lambda_0**2*Lambda_1**2*Q_01*Q_10*f_0*f_1 + Lambda_1**4*Q_10**2*f_1**2 + Lambda_1**4*Q_11**2*f_0**2"
      ]
     },
     "execution_count": 122,
     "metadata": {},
     "output_type": "execute_result"
    }
   ],
   "source": [
    "R3._args[0]"
   ]
  },
  {
   "cell_type": "code",
   "execution_count": 123,
   "id": "a4e73054-42a9-4e8d-9e00-a981967bdcae",
   "metadata": {},
   "outputs": [
    {
     "data": {
      "text/latex": [
       "$\\displaystyle \\Lambda_{0}^{4} Q_{00}^{2} f_{1}^{2} + \\Lambda_{0}^{4} Q_{01}^{2} f_{0}^{2} + 2 \\Lambda_{0}^{2} \\Lambda_{1}^{2} Q_{00} Q_{11} f_{0} f_{1} - 2 \\Lambda_{0}^{2} \\Lambda_{1}^{2} Q_{01} Q_{10} f_{0} f_{1} + \\Lambda_{1}^{4} Q_{10}^{2} f_{1}^{2} + \\Lambda_{1}^{4} Q_{11}^{2} f_{0}^{2}$"
      ],
      "text/plain": [
       "Lambda_0**4*Q_00**2*f_1**2 + Lambda_0**4*Q_01**2*f_0**2 + 2*Lambda_0**2*Lambda_1**2*Q_00*Q_11*f_0*f_1 - 2*Lambda_0**2*Lambda_1**2*Q_01*Q_10*f_0*f_1 + Lambda_1**4*Q_10**2*f_1**2 + Lambda_1**4*Q_11**2*f_0**2"
      ]
     },
     "execution_count": 123,
     "metadata": {},
     "output_type": "execute_result"
    }
   ],
   "source": [
    "R3._args[1]"
   ]
  },
  {
   "cell_type": "code",
   "execution_count": 126,
   "id": "c941214b-71b9-4452-99fe-e868781387f1",
   "metadata": {},
   "outputs": [
    {
     "data": {
      "text/latex": [
       "$\\displaystyle 4 \\Lambda_{0}^{2} \\Lambda_{1}^{2} f_{0} f_{1} \\left(- Q_{00} Q_{11} + Q_{01} Q_{10}\\right)$"
      ],
      "text/plain": [
       "4*Lambda_0**2*Lambda_1**2*f_0*f_1*(-Q_00*Q_11 + Q_01*Q_10)"
      ]
     },
     "execution_count": 126,
     "metadata": {},
     "output_type": "execute_result"
    }
   ],
   "source": [
    "D = (R3._args[0] - R3._args[1]).simplify()\n",
    "D"
   ]
  },
  {
   "cell_type": "code",
   "execution_count": 129,
   "id": "4cea1ca8-0588-4fdd-8253-829190e56d9d",
   "metadata": {},
   "outputs": [
    {
     "data": {
      "text/latex": [
       "$\\displaystyle \\Lambda_{0}^{4} Q_{00}^{2} f_{1}^{2} + \\Lambda_{0}^{4} Q_{01}^{2} f_{0}^{2} + \\Lambda_{1}^{4} Q_{10}^{2} f_{1}^{2} + \\Lambda_{1}^{4} Q_{11}^{2} f_{0}^{2}$"
      ],
      "text/plain": [
       "Lambda_0**4*Q_00**2*f_1**2 + Lambda_0**4*Q_01**2*f_0**2 + Lambda_1**4*Q_10**2*f_1**2 + Lambda_1**4*Q_11**2*f_0**2"
      ]
     },
     "execution_count": 129,
     "metadata": {},
     "output_type": "execute_result"
    }
   ],
   "source": [
    "(R3._args[0] - D/2).simplify()"
   ]
  },
  {
   "cell_type": "markdown",
   "id": "f7932f42-ef4e-4d59-838f-4b555f18b96d",
   "metadata": {},
   "source": [
    "## reheating"
   ]
  },
  {
   "cell_type": "code",
   "execution_count": 2,
   "id": "91cce0c7-d682-4344-bc08-927b729477a8",
   "metadata": {},
   "outputs": [],
   "source": [
    "t, t_0, t_prime = sp.symbols(\"t, t_0, t_prime\", positive=True)"
   ]
  },
  {
   "cell_type": "code",
   "execution_count": 3,
   "id": "9fa96e6b-a83d-46cc-99d6-11971c43c1c1",
   "metadata": {},
   "outputs": [
    {
     "data": {
      "text/latex": [
       "$\\displaystyle \\frac{e^{t_{0}} \\operatorname{E}_{2}\\left(t_{0}\\right)}{t_{0}} - \\frac{e^{t_{0}} \\operatorname{E}_{2}\\left(t\\right)}{t}$"
      ],
      "text/plain": [
       "exp(t_0)*expint(2, t_0)/t_0 - exp(t_0)*expint(2, t)/t"
      ]
     },
     "execution_count": 3,
     "metadata": {},
     "output_type": "execute_result"
    }
   ],
   "source": [
    "sp.integrate(1/t_prime**2 * sp.exp(-(t_prime - t_0)), (t_prime, t_0, t))"
   ]
  },
  {
   "cell_type": "code",
   "execution_count": null,
   "id": "8e796522-95ef-4d2b-b54a-523217c23d8d",
   "metadata": {},
   "outputs": [],
   "source": []
  }
 ],
 "metadata": {
  "kernelspec": {
   "display_name": "Python 3 (ipykernel)",
   "language": "python",
   "name": "python3"
  },
  "language_info": {
   "codemirror_mode": {
    "name": "ipython",
    "version": 3
   },
   "file_extension": ".py",
   "mimetype": "text/x-python",
   "name": "python",
   "nbconvert_exporter": "python",
   "pygments_lexer": "ipython3",
   "version": "3.10.4"
  }
 },
 "nbformat": 4,
 "nbformat_minor": 5
}
