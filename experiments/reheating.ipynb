{
 "cells": [
  {
   "cell_type": "code",
   "execution_count": 1,
   "metadata": {},
   "outputs": [],
   "source": [
    "import numpy as np\n",
    "import matplotlib.pyplot as plt\n",
    "from scipy.integrate import solve_ivp\n",
    "import sys\n",
    "if \"..\" not in sys.path: sys.path.append(\"..\")\n",
    "from common import cosmology"
   ]
  },
  {
   "cell_type": "code",
   "execution_count": 2,
   "metadata": {},
   "outputs": [],
   "source": [
    "def rhs(log_t, y, Gamma_phi):\n",
    "    rho_phi, rho_tot, R = np.exp(y)\n",
    "    t = np.exp(log_t)\n",
    "    rho_rad = rho_tot - rho_phi\n",
    "    T = cosmology.calc_temperature(rho_rad)\n",
    "    H = cosmology.calc_hubble_parameter(rho_tot)\n",
    "    d_log_R_d_log_t = t * H\n",
    "    d_log_rho_phi_d_log_t = - t * (3 * H + Gamma_phi)\n",
    "    d_log_rho_tot_d_log_t = - H * t * (4 - rho_phi / rho_tot)\n",
    "    return (d_log_rho_phi_d_log_t, d_log_rho_tot_d_log_t, d_log_R_d_log_t)"
   ]
  },
  {
   "cell_type": "code",
   "execution_count": 3,
   "metadata": {},
   "outputs": [],
   "source": [
    "def solve(H_inf, Gamma_phi):\n",
    "    R0 = 1.0\n",
    "    rho_phi_inf = cosmology.calc_energy_density_from_hubble(H_inf)\n",
    "    t_start = 1 / H_inf\n",
    "    start = np.log(t_start)\n",
    "    #T_RH = cosmology.calc_reheating_temperature(Gamma_phi)\n",
    "    t_end = 1 / Gamma_phi * 10 # T_RH**(-2)\n",
    "    end = np.log(t_end)\n",
    "    #steps = np.linspace(start, end, 50); steps[0] = start; steps[-1] = end\n",
    "    sol = solve_ivp(rhs, (start, end), (np.log(rho_phi_inf), np.log(rho_phi_inf), np.log(R0)),\n",
    "                   args=(Gamma_phi,), dense_output=True, rtol=1e-6)\n",
    "    \n",
    "    def T_fn(t):\n",
    "        y = sol.sol(np.log(t))\n",
    "        rho_phi, rho_tot, _ = np.exp(y)\n",
    "        rho_rad = rho_tot - rho_phi\n",
    "        T = cosmology.calc_temperature(rho_rad)\n",
    "        return T\n",
    "    \n",
    "    return (t_start, t_end), T_fn"
   ]
  },
  {
   "cell_type": "code",
   "execution_count": 4,
   "metadata": {},
   "outputs": [
    {
     "data": {
      "text/plain": [
       "[<matplotlib.lines.Line2D at 0x7f14c2e02040>]"
      ]
     },
     "execution_count": 4,
     "metadata": {},
     "output_type": "execute_result"
    },
    {
     "data": {
      "image/png": "[encoded data removed]",
      "text/plain": [
       "<Figure size 432x288 with 1 Axes>"
      ]
     },
     "metadata": {
      "needs_background": "light"
     },
     "output_type": "display_data"
    }
   ],
   "source": [
    "interval, T_fn = solve(1e12, 1e7)\n",
    "ts = np.geomspace(*interval, 100)\n",
    "plt.loglog(ts, T_fn(ts) / ts**(-0.5))"
   ]
  },
  {
   "cell_type": "code",
   "execution_count": null,
   "metadata": {},
   "outputs": [],
   "source": []
  }
 ],
 "metadata": {
  "kernelspec": {
   "display_name": "Python 3",
   "language": "python",
   "name": "python3"
  },
  "language_info": {
   "codemirror_mode": {
    "name": "ipython",
    "version": 3
   },
   "file_extension": ".py",
   "mimetype": "text/x-python",
   "name": "python",
   "nbconvert_exporter": "python",
   "pygments_lexer": "ipython3",
   "version": "3.8.5"
  }
 },
 "nbformat": 4,
 "nbformat_minor": 4
}
