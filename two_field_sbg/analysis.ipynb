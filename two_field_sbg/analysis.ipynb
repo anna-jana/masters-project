{
 "cells": [
  {
   "cell_type": "markdown",
   "metadata": {},
   "source": [
    "# OUTDATED!!!!!"
   ]
  },
  {
   "cell_type": "code",
   "execution_count": 1,
   "metadata": {},
   "outputs": [],
   "source": [
    "import sys\n",
    "import importlib\n",
    "import numpy as np\n",
    "import matplotlib.pyplot as plt\n",
    "from tqdm.notebook import tqdm\n",
    "if sys.path[-1] != \"..\": sys.path.append(\"..\")\n",
    "import model\n",
    "from common import cosmology, rh_neutrino, constants, constraints\n",
    "model = importlib.reload(model)\n",
    "cosmology = importlib.reload(cosmology)"
   ]
  },
  {
   "cell_type": "code",
   "execution_count": 2,
   "metadata": {},
   "outputs": [],
   "source": [
    "def calc_effective_mass(coupling, other_field, fundermental_mass):\n",
    "    return np.sqrt(fundermental_mass**2 + coupling * other_field**2)"
   ]
  },
  {
   "cell_type": "code",
   "execution_count": 3,
   "metadata": {},
   "outputs": [],
   "source": [
    "def make_bg_plots(m_a, f_a, Gamma_phi, H_inf, chi0, m_chi, g, **kwargs):\n",
    "    sol = model.simulate(m_a, f_a, Gamma_phi, H_inf, chi0, m_chi, g=g, **kwargs)\n",
    "\n",
    "    plt.loglog(sol.t, cosmology.n_L_to_eta_B_final(sol.T, sol.n_L))\n",
    "    plt.xlabel(r\"Time, $t / \\mathrm{GeV}^{-1}$\")\n",
    "    plt.ylabel(r\"Asymmetry, $\\eta_B$\")\n",
    "    plt.show()\n",
    "\n",
    "    plt.semilogx(sol.t, sol.theta, label=r\"Axion, $a / a_0$\")\n",
    "    plt.semilogx(sol.t, sol.chi / chi0, label=r\"Helper, $\\chi / \\chi_0$\")\n",
    "    plt.xlabel(r\"Time, $t / \\mathrm{GeV}^{-1}$\")\n",
    "    plt.ylabel(r\"Normalized Field Value\")\n",
    "    plt.legend()\n",
    "    plt.show()\n",
    "\n",
    "    sigma_eff = rh_neutrino.paper_sigma_eff\n",
    "    plt.loglog(sol.t, rh_neutrino.calc_Gamma_L(sol.T, sigma_eff))\n",
    "    plt.xlabel(r\"Time, $t / \\mathrm{GeV}^{-1}$\")\n",
    "    plt.ylabel(r\"Lepton Rate, $\\Gamma_L / \\mathrm{GeV}$\")\n",
    "    plt.show()\n",
    "\n",
    "    plt.loglog(sol.t, sol.H, label=r\"Hubble Parameter, $H$\")\n",
    "    la, = plt.loglog(sol.t, calc_effective_mass(g, sol.chi, m_a), label=r\"Eff. Axion Mass, $m_\\mathrm{a,eff}$\")\n",
    "    lh, = plt.loglog(sol.t, calc_effective_mass(g, f_a * sol.theta, m_chi), \n",
    "               label=r\"Eff. Helper Field Mass, $m_\\mathrm{\\chi,eff}$\")\n",
    "    plt.axhline(m_a, color=la.get_color(), ls=\"--\", label=\"Fund. Axion Mass\")\n",
    "    plt.axhline(m_chi, color=lh.get_color(), ls=\"--\", label=r\"Fund. $\\chi$ Mass\")\n",
    "    plt.xlabel(r\"Time, $t / \\mathrm{GeV}^{-1}$\")\n",
    "    plt.ylabel(\"Energy / GeV\")\n",
    "    plt.legend()\n",
    "    plt.show()\n",
    "    \n",
    "    return sol"
   ]
  },
  {
   "cell_type": "code",
   "execution_count": 65,
   "metadata": {},
   "outputs": [
    {
     "data": {
      "application/vnd.jupyter.widget-view+json": {
       "model_id": "02180248d5c34b04b5bb9174e525c10f",
       "version_major": 2,
       "version_minor": 0
      },
      "text/plain": [
       "HBox(children=(HTML(value=''), FloatProgress(value=0.0, max=10.0), HTML(value='')))"
      ]
     },
     "metadata": {},
     "output_type": "display_data"
    },
    {
     "name": "stdout",
     "output_type": "stream",
     "text": [
      "\n"
     ]
    }
   ],
   "source": [
    "f_a = 1e6\n",
    "m_chi = 1e6\n",
    "m_a = 1e3 # this is irrelevant \n",
    "H_inf = 2e10\n",
    "chi0_range = np.geomspace(5e5, 1e9, 10)\n",
    "Gamma_phi_range = np.geomspace(5e5, 1e10, 10)\n",
    "eta_B = np.array([[model.compute_B_asymmetry(m_a, f_a, Gamma_phi, H_inf, chi0, m_chi) \n",
    "                    for chi0 in chi0_range] for Gamma_phi in tqdm(Gamma_phi_range)])"
   ]
  },
  {
   "cell_type": "code",
   "execution_count": 61,
   "metadata": {},
   "outputs": [],
   "source": [
    "def plot_eta_B_contour(eta_B, x_range, y_range,\n",
    "                      xlabel=r\"$\\chi_0 / \\mathrm{GeV}$\", ylabel=r\"$\\Gamma_\\phi / \\mathrm{GeV}$\",\n",
    "                      title=None):\n",
    "    vals = eta_B.reshape(-1)\n",
    "    pows = np.log10(vals[np.isfinite(vals) & (vals > 0)])\n",
    "    min_level = np.round(np.min(pows))\n",
    "    max_level = np.round(np.max(pows))\n",
    "    levels = np.sort(np.concatenate([np.arange(min_level, max_level + 1), [np.log10(constants.eta_B_observed)]]))\n",
    "\n",
    "    CS2 = plt.contour(x_range, y_range, np.log10(eta_B), levels=levels)\n",
    "    plt.colorbar().set_label(r\"$\\log_{10} \\eta_B^0$\")\n",
    "    CS2.collections[np.where(CS2.levels == np.log10(model.eta_B_observed))[0][0]].set_color(\"red\")\n",
    "\n",
    "    plt.xscale(\"log\"); plt.yscale(\"log\")\n",
    "    plt.xlabel(xlabel)\n",
    "    plt.ylabel(ylabel)\n",
    "    plt.tight_layout()\n",
    "    plt.title(title)"
   ]
  },
  {
   "cell_type": "code",
   "execution_count": 66,
   "metadata": {},
   "outputs": [
    {
     "name": "stderr",
     "output_type": "stream",
     "text": [
      "<ipython-input-61-e8dcdf647d2f>:10: RuntimeWarning: invalid value encountered in log10\n",
      "  CS2 = plt.contour(x_range, y_range, np.log10(eta_B), levels=levels)\n"
     ]
    },
    {
     "data": {
      "image/png": "[encoded data removed]",
      "text/plain": [
       "<Figure size 432x288 with 2 Axes>"
      ]
     },
     "metadata": {
      "needs_background": "light"
     },
     "output_type": "display_data"
    }
   ],
   "source": [
    "plot_eta_B_contour(eta_B, chi0_range, Gamma_phi_range)"
   ]
  },
  {
   "cell_type": "code",
   "execution_count": 69,
   "metadata": {},
   "outputs": [
    {
     "data": {
      "text/plain": [
       "0.0016666666666666668"
      ]
     },
     "execution_count": 69,
     "metadata": {},
     "output_type": "execute_result"
    }
   ],
   "source": [
    "cosmology.calc_start_time(constraints.calc_H_inf_max(f_a)) "
   ]
  },
  {
   "cell_type": "code",
   "execution_count": 18,
   "metadata": {},
   "outputs": [],
   "source": [
    "constraints.calc_H_inf_max??\n",
    "# H_inf^max = 6e11 * (f_a / 1e15) > chi0\n",
    "chi0_max =  * 1e15 / 6e11"
   ]
  },
  {
   "cell_type": "code",
   "execution_count": 24,
   "metadata": {},
   "outputs": [
    {
     "data": {
      "text/plain": [
       "<matplotlib.legend.Legend at 0x7fc1bd40b460>"
      ]
     },
     "execution_count": 24,
     "metadata": {},
     "output_type": "execute_result"
    },
    {
     "data": {
      "image/png": "[encoded data removed]",
      "text/plain": [
       "<Figure size 432x288 with 1 Axes>"
      ]
     },
     "metadata": {
      "needs_background": "light"
     },
     "output_type": "display_data"
    }
   ],
   "source": [
    "Gamma_phi = 1e7\n",
    "f_a_range = np.geomspace(1e6, 1e16, 100)\n",
    "chi0 = np.geomspace(1, 1e16, 100)\n",
    "ff, chichi = np.meshgrid(f_a_range, chi0)\n",
    "H_inf_max = constraints.calc_H_inf_max(ff)\n",
    "#plt.pcolormesh(f_a_range, chi0, ff < chichi, cmap=\"winter\", alpha=0.5)\n",
    "plt.plot(f_a_range, constraints.calc_H_inf_max(f_a_range), label=\"chi0 < H_inf^max\")\n",
    "plt.plot(f_a_range, f_a_range, label=\"f_a < chi0\")\n",
    "plt.plot(f_a_range, )\n",
    "plt.xscale(\"log\"); plt.yscale(\"log\")\n",
    "plt.xlabel(\"f_a / GeV\")\n",
    "plt.ylabel(\"chi0_max / GeV\")\n",
    "plt.legend()"
   ]
  },
  {
   "cell_type": "code",
   "execution_count": 10,
   "metadata": {},
   "outputs": [],
   "source": []
  },
  {
   "cell_type": "markdown",
   "metadata": {},
   "source": [
    "axion soll nicht softor oszillieren\n",
    "chi0 < H_inf -- because m_a << chi0\n",
    "chi should not oscillate\n",
    "f_a < H_inf (*)\n",
    "and m_chi < H_inf\n",
    "\n",
    "f_a < chi0\n",
    "H_inf_max =  6e-4 * f_a < f_a \n",
    "H_inf_max' =  6e-4 * chi0 < 0\n",
    "from (*) : H_inf_max = 6e-4 * f_a\n",
    "H_inf < H_inf_max\n",
    "H_inf > Gamma_phi\n",
    "easy:\n",
    "H_inf > m_a\n",
    "H_inf > m_chi"
   ]
  },
  {
   "cell_type": "code",
   "execution_count": null,
   "metadata": {},
   "outputs": [],
   "source": [
    "min(1,2)"
   ]
  },
  {
   "cell_type": "code",
   "execution_count": 35,
   "metadata": {},
   "outputs": [
    {
     "data": {
      "text/plain": [
       "600.0"
      ]
     },
     "execution_count": 35,
     "metadata": {},
     "output_type": "execute_result"
    }
   ],
   "source": [
    "H_inf_max"
   ]
  },
  {
   "cell_type": "code",
   "execution_count": 36,
   "metadata": {},
   "outputs": [
    {
     "ename": "KeyboardInterrupt",
     "evalue": "",
     "output_type": "error",
     "traceback": [
      "\u001b[0;31m---------------------------------------------------------------------------\u001b[0m",
      "\u001b[0;31mKeyboardInterrupt\u001b[0m                         Traceback (most recent call last)",
      "\u001b[0;32m<ipython-input-36-eed754d02a97>\u001b[0m in \u001b[0;36m<module>\u001b[0;34m\u001b[0m\n\u001b[1;32m      5\u001b[0m \u001b[0;31m# ===> no leptogenesis\u001b[0m\u001b[0;34m\u001b[0m\u001b[0;34m\u001b[0m\u001b[0;34m\u001b[0m\u001b[0m\n\u001b[1;32m      6\u001b[0m \u001b[0mstart\u001b[0m \u001b[0;34m=\u001b[0m \u001b[0mcosmology\u001b[0m\u001b[0;34m.\u001b[0m\u001b[0mcalc_start_time\u001b[0m\u001b[0;34m(\u001b[0m\u001b[0mH_inf_max\u001b[0m\u001b[0;34m)\u001b[0m\u001b[0;34m\u001b[0m\u001b[0;34m\u001b[0m\u001b[0m\n\u001b[0;32m----> 7\u001b[0;31m make_bg_plots(m_a=1e-3, m_chi=1e-3, g=1.0, chi0=chi0, f_a=f_a, \n\u001b[0m\u001b[1;32m      8\u001b[0m               Gamma_phi=H_inf_max, H_inf=H_inf_max, end=1.0001*start)\n",
      "\u001b[0;32m<ipython-input-3-92dbe5c44150>\u001b[0m in \u001b[0;36mmake_bg_plots\u001b[0;34m(m_a, f_a, Gamma_phi, H_inf, chi0, m_chi, g, **kwargs)\u001b[0m\n\u001b[1;32m      1\u001b[0m \u001b[0;32mdef\u001b[0m \u001b[0mmake_bg_plots\u001b[0m\u001b[0;34m(\u001b[0m\u001b[0mm_a\u001b[0m\u001b[0;34m,\u001b[0m \u001b[0mf_a\u001b[0m\u001b[0;34m,\u001b[0m \u001b[0mGamma_phi\u001b[0m\u001b[0;34m,\u001b[0m \u001b[0mH_inf\u001b[0m\u001b[0;34m,\u001b[0m \u001b[0mchi0\u001b[0m\u001b[0;34m,\u001b[0m \u001b[0mm_chi\u001b[0m\u001b[0;34m,\u001b[0m \u001b[0mg\u001b[0m\u001b[0;34m,\u001b[0m \u001b[0;34m**\u001b[0m\u001b[0mkwargs\u001b[0m\u001b[0;34m)\u001b[0m\u001b[0;34m:\u001b[0m\u001b[0;34m\u001b[0m\u001b[0;34m\u001b[0m\u001b[0m\n\u001b[0;32m----> 2\u001b[0;31m     \u001b[0msol\u001b[0m \u001b[0;34m=\u001b[0m \u001b[0mmodel\u001b[0m\u001b[0;34m.\u001b[0m\u001b[0msimulate\u001b[0m\u001b[0;34m(\u001b[0m\u001b[0mm_a\u001b[0m\u001b[0;34m,\u001b[0m \u001b[0mf_a\u001b[0m\u001b[0;34m,\u001b[0m \u001b[0mGamma_phi\u001b[0m\u001b[0;34m,\u001b[0m \u001b[0mH_inf\u001b[0m\u001b[0;34m,\u001b[0m \u001b[0mchi0\u001b[0m\u001b[0;34m,\u001b[0m \u001b[0mm_chi\u001b[0m\u001b[0;34m,\u001b[0m \u001b[0mg\u001b[0m\u001b[0;34m=\u001b[0m\u001b[0mg\u001b[0m\u001b[0;34m,\u001b[0m \u001b[0;34m**\u001b[0m\u001b[0mkwargs\u001b[0m\u001b[0;34m)\u001b[0m\u001b[0;34m\u001b[0m\u001b[0;34m\u001b[0m\u001b[0m\n\u001b[0m\u001b[1;32m      3\u001b[0m \u001b[0;34m\u001b[0m\u001b[0m\n\u001b[1;32m      4\u001b[0m     \u001b[0mplt\u001b[0m\u001b[0;34m.\u001b[0m\u001b[0mloglog\u001b[0m\u001b[0;34m(\u001b[0m\u001b[0msol\u001b[0m\u001b[0;34m.\u001b[0m\u001b[0mt\u001b[0m\u001b[0;34m,\u001b[0m \u001b[0mcosmology\u001b[0m\u001b[0;34m.\u001b[0m\u001b[0mn_L_to_eta_B_final\u001b[0m\u001b[0;34m(\u001b[0m\u001b[0msol\u001b[0m\u001b[0;34m.\u001b[0m\u001b[0mT\u001b[0m\u001b[0;34m,\u001b[0m \u001b[0msol\u001b[0m\u001b[0;34m.\u001b[0m\u001b[0mn_L\u001b[0m\u001b[0;34m)\u001b[0m\u001b[0;34m)\u001b[0m\u001b[0;34m\u001b[0m\u001b[0;34m\u001b[0m\u001b[0m\n\u001b[1;32m      5\u001b[0m     \u001b[0mplt\u001b[0m\u001b[0;34m.\u001b[0m\u001b[0mxlabel\u001b[0m\u001b[0;34m(\u001b[0m\u001b[0;34mr\"Time, $t / \\mathrm{GeV}^{-1}$\"\u001b[0m\u001b[0;34m)\u001b[0m\u001b[0;34m\u001b[0m\u001b[0;34m\u001b[0m\u001b[0m\n",
      "\u001b[0;32m~/Documents/master-project/two_field_sbg/model.py\u001b[0m in \u001b[0;36msimulate\u001b[0;34m(m_a, f_a, Gamma_phi, H_inf, chi0, m_chi, g, theta0, sigma_eff, step_factor, start, end, solver, samples, fixed_samples, converge, convergence_epsilon, debug)\u001b[0m\n\u001b[1;32m     95\u001b[0m         \u001b[0;32mif\u001b[0m \u001b[0mdebug\u001b[0m\u001b[0;34m:\u001b[0m\u001b[0;34m\u001b[0m\u001b[0;34m\u001b[0m\u001b[0m\n\u001b[1;32m     96\u001b[0m             \u001b[0mprint\u001b[0m\u001b[0;34m(\u001b[0m\u001b[0;34m\"interval:\"\u001b[0m\u001b[0;34m,\u001b[0m \u001b[0minterval\u001b[0m\u001b[0;34m,\u001b[0m \u001b[0;34m\"initial conditions:\"\u001b[0m\u001b[0;34m,\u001b[0m \u001b[0minitial_conditions\u001b[0m\u001b[0;34m,\u001b[0m \u001b[0;34m\"arguments:\"\u001b[0m\u001b[0;34m,\u001b[0m \u001b[0;34m(\u001b[0m\u001b[0mGamma_phi\u001b[0m\u001b[0;34m,\u001b[0m \u001b[0mm_a\u001b[0m\u001b[0;34m,\u001b[0m \u001b[0msigma_eff\u001b[0m\u001b[0;34m,\u001b[0m \u001b[0mchi0\u001b[0m\u001b[0;34m)\u001b[0m\u001b[0;34m)\u001b[0m\u001b[0;34m\u001b[0m\u001b[0;34m\u001b[0m\u001b[0m\n\u001b[0;32m---> 97\u001b[0;31m         sol = solve_ivp(rhs, np.log(interval), initial_conditions,\n\u001b[0m\u001b[1;32m     98\u001b[0m                         \u001b[0margs\u001b[0m\u001b[0;34m=\u001b[0m\u001b[0;34m(\u001b[0m\u001b[0mGamma_phi\u001b[0m\u001b[0;34m,\u001b[0m \u001b[0mm_a\u001b[0m\u001b[0;34m,\u001b[0m \u001b[0mf_a\u001b[0m\u001b[0;34m,\u001b[0m \u001b[0msigma_eff\u001b[0m\u001b[0;34m,\u001b[0m \u001b[0mm_chi\u001b[0m\u001b[0;34m,\u001b[0m \u001b[0mg\u001b[0m\u001b[0;34m)\u001b[0m\u001b[0;34m,\u001b[0m\u001b[0;34m\u001b[0m\u001b[0;34m\u001b[0m\u001b[0m\n\u001b[1;32m     99\u001b[0m                         \u001b[0mt_eval\u001b[0m\u001b[0;34m=\u001b[0m\u001b[0mnp\u001b[0m\u001b[0;34m.\u001b[0m\u001b[0mlog\u001b[0m\u001b[0;34m(\u001b[0m\u001b[0mnp\u001b[0m\u001b[0;34m.\u001b[0m\u001b[0mgeomspace\u001b[0m\u001b[0;34m(\u001b[0m\u001b[0;34m*\u001b[0m\u001b[0minterval\u001b[0m\u001b[0;34m,\u001b[0m \u001b[0msamples\u001b[0m\u001b[0;34m)\u001b[0m\u001b[0;34m)\u001b[0m\u001b[0;34m[\u001b[0m\u001b[0;34m:\u001b[0m\u001b[0;34m-\u001b[0m\u001b[0;36m1\u001b[0m\u001b[0;34m]\u001b[0m \u001b[0;32mif\u001b[0m \u001b[0mfixed_samples\u001b[0m \u001b[0;32melse\u001b[0m \u001b[0;32mNone\u001b[0m\u001b[0;34m,\u001b[0m\u001b[0;34m\u001b[0m\u001b[0;34m\u001b[0m\u001b[0m\n",
      "\u001b[0;32m~/anaconda3/lib/python3.8/site-packages/scipy/integrate/_ivp/ivp.py\u001b[0m in \u001b[0;36msolve_ivp\u001b[0;34m(fun, t_span, y0, method, t_eval, dense_output, events, vectorized, args, **options)\u001b[0m\n\u001b[1;32m    574\u001b[0m     \u001b[0mstatus\u001b[0m \u001b[0;34m=\u001b[0m \u001b[0;32mNone\u001b[0m\u001b[0;34m\u001b[0m\u001b[0;34m\u001b[0m\u001b[0m\n\u001b[1;32m    575\u001b[0m     \u001b[0;32mwhile\u001b[0m \u001b[0mstatus\u001b[0m \u001b[0;32mis\u001b[0m \u001b[0;32mNone\u001b[0m\u001b[0;34m:\u001b[0m\u001b[0;34m\u001b[0m\u001b[0;34m\u001b[0m\u001b[0m\n\u001b[0;32m--> 576\u001b[0;31m         \u001b[0mmessage\u001b[0m \u001b[0;34m=\u001b[0m \u001b[0msolver\u001b[0m\u001b[0;34m.\u001b[0m\u001b[0mstep\u001b[0m\u001b[0;34m(\u001b[0m\u001b[0;34m)\u001b[0m\u001b[0;34m\u001b[0m\u001b[0;34m\u001b[0m\u001b[0m\n\u001b[0m\u001b[1;32m    577\u001b[0m \u001b[0;34m\u001b[0m\u001b[0m\n\u001b[1;32m    578\u001b[0m         \u001b[0;32mif\u001b[0m \u001b[0msolver\u001b[0m\u001b[0;34m.\u001b[0m\u001b[0mstatus\u001b[0m \u001b[0;34m==\u001b[0m \u001b[0;34m'finished'\u001b[0m\u001b[0;34m:\u001b[0m\u001b[0;34m\u001b[0m\u001b[0;34m\u001b[0m\u001b[0m\n",
      "\u001b[0;32m~/anaconda3/lib/python3.8/site-packages/scipy/integrate/_ivp/base.py\u001b[0m in \u001b[0;36mstep\u001b[0;34m(self)\u001b[0m\n\u001b[1;32m    179\u001b[0m         \u001b[0;32melse\u001b[0m\u001b[0;34m:\u001b[0m\u001b[0;34m\u001b[0m\u001b[0;34m\u001b[0m\u001b[0m\n\u001b[1;32m    180\u001b[0m             \u001b[0mt\u001b[0m \u001b[0;34m=\u001b[0m \u001b[0mself\u001b[0m\u001b[0;34m.\u001b[0m\u001b[0mt\u001b[0m\u001b[0;34m\u001b[0m\u001b[0;34m\u001b[0m\u001b[0m\n\u001b[0;32m--> 181\u001b[0;31m             \u001b[0msuccess\u001b[0m\u001b[0;34m,\u001b[0m \u001b[0mmessage\u001b[0m \u001b[0;34m=\u001b[0m \u001b[0mself\u001b[0m\u001b[0;34m.\u001b[0m\u001b[0m_step_impl\u001b[0m\u001b[0;34m(\u001b[0m\u001b[0;34m)\u001b[0m\u001b[0;34m\u001b[0m\u001b[0;34m\u001b[0m\u001b[0m\n\u001b[0m\u001b[1;32m    182\u001b[0m \u001b[0;34m\u001b[0m\u001b[0m\n\u001b[1;32m    183\u001b[0m             \u001b[0;32mif\u001b[0m \u001b[0;32mnot\u001b[0m \u001b[0msuccess\u001b[0m\u001b[0;34m:\u001b[0m\u001b[0;34m\u001b[0m\u001b[0;34m\u001b[0m\u001b[0m\n",
      "\u001b[0;32m~/anaconda3/lib/python3.8/site-packages/scipy/integrate/_ivp/rk.py\u001b[0m in \u001b[0;36m_step_impl\u001b[0;34m(self)\u001b[0m\n\u001b[1;32m    109\u001b[0m         \u001b[0;32mreturn\u001b[0m \u001b[0mnorm\u001b[0m\u001b[0;34m(\u001b[0m\u001b[0mself\u001b[0m\u001b[0;34m.\u001b[0m\u001b[0m_estimate_error\u001b[0m\u001b[0;34m(\u001b[0m\u001b[0mK\u001b[0m\u001b[0;34m,\u001b[0m \u001b[0mh\u001b[0m\u001b[0;34m)\u001b[0m \u001b[0;34m/\u001b[0m \u001b[0mscale\u001b[0m\u001b[0;34m)\u001b[0m\u001b[0;34m\u001b[0m\u001b[0;34m\u001b[0m\u001b[0m\n\u001b[1;32m    110\u001b[0m \u001b[0;34m\u001b[0m\u001b[0m\n\u001b[0;32m--> 111\u001b[0;31m     \u001b[0;32mdef\u001b[0m \u001b[0m_step_impl\u001b[0m\u001b[0;34m(\u001b[0m\u001b[0mself\u001b[0m\u001b[0;34m)\u001b[0m\u001b[0;34m:\u001b[0m\u001b[0;34m\u001b[0m\u001b[0;34m\u001b[0m\u001b[0m\n\u001b[0m\u001b[1;32m    112\u001b[0m         \u001b[0mt\u001b[0m \u001b[0;34m=\u001b[0m \u001b[0mself\u001b[0m\u001b[0;34m.\u001b[0m\u001b[0mt\u001b[0m\u001b[0;34m\u001b[0m\u001b[0;34m\u001b[0m\u001b[0m\n\u001b[1;32m    113\u001b[0m         \u001b[0my\u001b[0m \u001b[0;34m=\u001b[0m \u001b[0mself\u001b[0m\u001b[0;34m.\u001b[0m\u001b[0my\u001b[0m\u001b[0;34m\u001b[0m\u001b[0;34m\u001b[0m\u001b[0m\n",
      "\u001b[0;31mKeyboardInterrupt\u001b[0m: "
     ]
    }
   ],
   "source": [
    "f_a = 1e6\n",
    "chi0 = 1e6\n",
    "H_inf_max = min(constraints.calc_H_inf_max(f_a), constraints.calc_H_inf_max(chi0))\n",
    "# H_inf_max is always be larger than f_a and chi0! ==> The field will oscillate right at the end of inflation\n",
    "# ===> no leptogenesis \n",
    "start = cosmology.calc_start_time(H_inf_max)\n",
    "make_bg_plots(m_a=1e-3, m_chi=1e-3, g=1.0, chi0=chi0, f_a=f_a, \n",
    "              Gamma_phi=H_inf_max, H_inf=H_inf_max, end=1.0001*start)"
   ]
  },
  {
   "cell_type": "code",
   "execution_count": 9,
   "metadata": {},
   "outputs": [
    {
     "name": "stdout",
     "output_type": "stream",
     "text": [
      "start = 0.0016666666666666668\n",
      "H_inf = 600.0\n"
     ]
    }
   ],
   "source": [
    "f_a = 1e6\n",
    "chi0 = 500\n",
    "Gamma_phi = 1e7\n",
    "H_inf = constraints.calc_H_inf_max(f_a)\n",
    "start = cosmology.calc_start_time(H_inf)\n",
    "print(\"start =\", start)\n",
    "print(\"H_inf =\", H_inf)\n",
    "\n",
    "sol = make_bg_plots(m_a=1e3, f_a=f_a, Gamma_phi=Gamma_phi, \n",
    "                H_inf=H_inf, chi0=chi0, m_chi=1e3, g=1.0,\n",
    "                converge=False, end=start*10)"
   ]
  }
 ],
 "metadata": {
  "kernelspec": {
   "display_name": "Python 3",
   "language": "python",
   "name": "python3"
  },
  "language_info": {
   "codemirror_mode": {
    "name": "ipython",
    "version": 3
   },
   "file_extension": ".py",
   "mimetype": "text/x-python",
   "name": "python",
   "nbconvert_exporter": "python",
   "pygments_lexer": "ipython3",
   "version": "3.8.5"
  }
 },
 "nbformat": 4,
 "nbformat_minor": 4
}
