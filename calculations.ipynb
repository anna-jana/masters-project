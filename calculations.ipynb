{
 "cells": [
  {
   "cell_type": "code",
   "execution_count": 1,
   "id": "76f66e24-f368-435d-b2f5-39e4022e2a8a",
   "metadata": {},
   "outputs": [],
   "source": [
    "import sympy as sp"
   ]
  },
  {
   "cell_type": "code",
   "execution_count": 9,
   "id": "8b62e36d-702e-4e82-8644-3e664d03f66f",
   "metadata": {},
   "outputs": [
    {
     "data": {
      "text/latex": [
       "$\\displaystyle -1 + \\frac{2}{x^{2} + 1}$"
      ],
      "text/plain": [
       "-1 + 2/(x**2 + 1)"
      ]
     },
     "execution_count": 9,
     "metadata": {},
     "output_type": "execute_result"
    }
   ],
   "source": [
    "x = sp.symbols(\"x\")\n",
    "A = sp.cos(sp.atan(x) * 2)\n",
    "A.expand(trig=True)"
   ]
  },
  {
   "cell_type": "code",
   "execution_count": 10,
   "id": "74356ef5-bcde-4052-97c6-bd8b7b895f74",
   "metadata": {},
   "outputs": [
    {
     "data": {
      "text/latex": [
       "$\\displaystyle \\frac{2 x}{x^{2} + 1}$"
      ],
      "text/plain": [
       "2*x/(x**2 + 1)"
      ]
     },
     "execution_count": 10,
     "metadata": {},
     "output_type": "execute_result"
    }
   ],
   "source": [
    "A = sp.sin(sp.atan(x) * 2)\n",
    "A.expand(trig=True)"
   ]
  },
  {
   "cell_type": "code",
   "execution_count": 2,
   "id": "beaba846-87f8-495d-bdd5-970cb13272c2",
   "metadata": {},
   "outputs": [
    {
     "data": {
      "text/latex": [
       "$\\displaystyle \\frac{2 e^{2 \\pi R m} - 2}{m \\left(\\phi^{2} + 1\\right) \\left(\\phi^{2} e^{2 \\pi R m} + 1\\right)}$"
      ],
      "text/plain": [
       "(2*exp(2*pi*R*m) - 2)/(m*(phi**2 + 1)*(phi**2*exp(2*pi*R*m) + 1))"
      ]
     },
     "execution_count": 2,
     "metadata": {},
     "output_type": "execute_result"
    }
   ],
   "source": [
    "R, m, y, phi = sp.symbols(\"R, m, y, phi\")  \n",
    "I = 4 * sp.exp(2*m*y) / (1 + sp.exp(2*m*y) * phi**2)**2\n",
    "ans = sp.integrate(I, (y, 0, sp.pi*R))\n",
    "ans.simplify()"
   ]
  },
  {
   "cell_type": "code",
   "execution_count": 17,
   "id": "8342c010-32aa-49a1-ac8f-03e0f618fae3",
   "metadata": {},
   "outputs": [],
   "source": [
    "epsilon = sp.symbols(\"epsilon\")"
   ]
  },
  {
   "cell_type": "code",
   "execution_count": 18,
   "id": "12d90b49-50e4-4fb3-80a8-e5fcd81c00d3",
   "metadata": {},
   "outputs": [
    {
     "data": {
      "text/latex": [
       "$\\displaystyle 1 + 2 \\epsilon^{2} + O\\left(\\epsilon^{3}\\right)$"
      ],
      "text/plain": [
       "1 + 2*epsilon**2 + O(epsilon**3)"
      ]
     },
     "execution_count": 18,
     "metadata": {},
     "output_type": "execute_result"
    }
   ],
   "source": [
    "sp.series((1 + epsilon**2) / (1 - epsilon**2), epsilon, 0, 3)"
   ]
  },
  {
   "cell_type": "code",
   "execution_count": null,
   "id": "28bab036-5477-4624-bb58-3c152e5a1181",
   "metadata": {
    "tags": []
   },
   "outputs": [],
   "source": []
  }
 ],
 "metadata": {
  "kernelspec": {
   "display_name": "Python 3 (ipykernel)",
   "language": "python",
   "name": "python3"
  },
  "language_info": {
   "codemirror_mode": {
    "name": "ipython",
    "version": 3
   },
   "file_extension": ".py",
   "mimetype": "text/x-python",
   "name": "python",
   "nbconvert_exporter": "python",
   "pygments_lexer": "ipython3",
   "version": "3.10.4"
  }
 },
 "nbformat": 4,
 "nbformat_minor": 5
}
