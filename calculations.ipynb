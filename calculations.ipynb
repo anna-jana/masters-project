{
 "cells": [
  {
   "cell_type": "code",
   "execution_count": 1,
   "id": "76f66e24-f368-435d-b2f5-39e4022e2a8a",
   "metadata": {},
   "outputs": [],
   "source": [
    "import sympy as sp, numpy as np, matplotlib.pyplot as plt"
   ]
  },
  {
   "cell_type": "markdown",
   "id": "dc118e8d-88a1-461f-88fa-fa8fd9f60ba9",
   "metadata": {},
   "source": [
    "## Rewrtiting clockwork action"
   ]
  },
  {
   "cell_type": "code",
   "execution_count": 9,
   "id": "8b62e36d-702e-4e82-8644-3e664d03f66f",
   "metadata": {},
   "outputs": [
    {
     "data": {
      "text/latex": [
       "$\\displaystyle -1 + \\frac{2}{x^{2} + 1}$"
      ],
      "text/plain": [
       "-1 + 2/(x**2 + 1)"
      ]
     },
     "execution_count": 9,
     "metadata": {},
     "output_type": "execute_result"
    }
   ],
   "source": [
    "x = sp.symbols(\"x\")\n",
    "A = sp.cos(sp.atan(x) * 2)\n",
    "A.expand(trig=True)"
   ]
  },
  {
   "cell_type": "code",
   "execution_count": 10,
   "id": "74356ef5-bcde-4052-97c6-bd8b7b895f74",
   "metadata": {},
   "outputs": [
    {
     "data": {
      "text/latex": [
       "$\\displaystyle \\frac{2 x}{x^{2} + 1}$"
      ],
      "text/plain": [
       "2*x/(x**2 + 1)"
      ]
     },
     "execution_count": 10,
     "metadata": {},
     "output_type": "execute_result"
    }
   ],
   "source": [
    "A = sp.sin(sp.atan(x) * 2)\n",
    "A.expand(trig=True)"
   ]
  },
  {
   "cell_type": "markdown",
   "id": "8b08cd14-df80-41d8-a83b-78292a4ce856",
   "metadata": {},
   "source": [
    "## Integrate y direction out in clockwork"
   ]
  },
  {
   "cell_type": "code",
   "execution_count": 2,
   "id": "beaba846-87f8-495d-bdd5-970cb13272c2",
   "metadata": {},
   "outputs": [
    {
     "data": {
      "text/latex": [
       "$\\displaystyle \\frac{2 e^{2 \\pi R m} - 2}{m \\left(\\phi^{2} + 1\\right) \\left(\\phi^{2} e^{2 \\pi R m} + 1\\right)}$"
      ],
      "text/plain": [
       "(2*exp(2*pi*R*m) - 2)/(m*(phi**2 + 1)*(phi**2*exp(2*pi*R*m) + 1))"
      ]
     },
     "execution_count": 2,
     "metadata": {},
     "output_type": "execute_result"
    }
   ],
   "source": [
    "R, m, y, phi = sp.symbols(\"R, m, y, phi\")  \n",
    "I = 4 * sp.exp(2*m*y) / (1 + sp.exp(2*m*y) * phi**2)**2\n",
    "ans = sp.integrate(I, (y, 0, sp.pi*R))\n",
    "ans.simplify()"
   ]
  },
  {
   "cell_type": "markdown",
   "id": "72d29c56-047a-4c76-8109-d3c43bc1c88b",
   "metadata": {},
   "source": [
    "## approximation of coth"
   ]
  },
  {
   "cell_type": "code",
   "execution_count": 17,
   "id": "8342c010-32aa-49a1-ac8f-03e0f618fae3",
   "metadata": {},
   "outputs": [],
   "source": [
    "epsilon = sp.symbols(\"epsilon\")"
   ]
  },
  {
   "cell_type": "code",
   "execution_count": 18,
   "id": "12d90b49-50e4-4fb3-80a8-e5fcd81c00d3",
   "metadata": {},
   "outputs": [
    {
     "data": {
      "text/latex": [
       "$\\displaystyle 1 + 2 \\epsilon^{2} + O\\left(\\epsilon^{3}\\right)$"
      ],
      "text/plain": [
       "1 + 2*epsilon**2 + O(epsilon**3)"
      ]
     },
     "execution_count": 18,
     "metadata": {},
     "output_type": "execute_result"
    }
   ],
   "source": [
    "sp.series((1 + epsilon**2) / (1 - epsilon**2), epsilon, 0, 3)"
   ]
  },
  {
   "cell_type": "markdown",
   "id": "1a949d01-0880-40c3-956e-176dc62b7691",
   "metadata": {},
   "source": [
    "## Pertubation of equation of state in tracking solutions"
   ]
  },
  {
   "cell_type": "code",
   "execution_count": 4,
   "id": "28bab036-5477-4624-bb58-3c152e5a1181",
   "metadata": {
    "tags": []
   },
   "outputs": [],
   "source": [
    "w, delta_w = sp.symbols(\"w, delta_w\")"
   ]
  },
  {
   "cell_type": "code",
   "execution_count": 5,
   "id": "d21d70a0-317b-4a99-b49d-0f9456e67355",
   "metadata": {},
   "outputs": [],
   "source": [
    "x = (1 - w) / (1 + w)"
   ]
  },
  {
   "cell_type": "code",
   "execution_count": 6,
   "id": "f416d71e-b8c1-4bf9-be50-900b2d6d09a6",
   "metadata": {},
   "outputs": [
    {
     "data": {
      "text/latex": [
       "$\\displaystyle \\frac{1}{w + 1} - \\frac{w}{w + 1} - \\frac{2 \\delta_{w}}{\\left(w + 1\\right)^{2}} + O\\left(\\delta_{w}^{2}\\right)$"
      ],
      "text/plain": [
       "1/(w + 1) - w/(w + 1) - 2*delta_w/(w + 1)**2 + O(delta_w**2)"
      ]
     },
     "execution_count": 6,
     "metadata": {},
     "output_type": "execute_result"
    }
   ],
   "source": [
    "x.subs(w, w + delta_w).series(delta_w, 0, 2).simplify()"
   ]
  },
  {
   "cell_type": "code",
   "execution_count": 8,
   "id": "81ab07a9-3e39-44ea-bc65-6058998f1cf6",
   "metadata": {},
   "outputs": [],
   "source": [
    "y = sp.symbols(\"y\")"
   ]
  },
  {
   "cell_type": "code",
   "execution_count": 9,
   "id": "8790036b-bdcd-4b6e-ac93-cfe8f571c192",
   "metadata": {},
   "outputs": [
    {
     "data": {
      "text/latex": [
       "$\\displaystyle \\frac{w + 1}{1 - w} + \\frac{2 \\delta_{w}}{\\left(1 - w\\right)^{2}} + O\\left(\\delta_{w}^{2}\\right)$"
      ],
      "text/plain": [
       "(w + 1)/(1 - w) + 2*delta_w/(1 - w)**2 + O(delta_w**2)"
      ]
     },
     "execution_count": 9,
     "metadata": {},
     "output_type": "execute_result"
    }
   ],
   "source": [
    "S = 1 / (y - 2 / (w + 1)**2 * delta_w)\n",
    "S.series(delta_w, 0, 2).subs(y, x)"
   ]
  },
  {
   "cell_type": "code",
   "execution_count": 10,
   "id": "f56bcc39-4222-4c82-a2bd-2e5d4cb82ebd",
   "metadata": {},
   "outputs": [
    {
     "data": {
      "text/latex": [
       "$\\displaystyle - \\frac{1}{w - 1} - \\frac{w}{w - 1} + \\frac{2 \\delta_{w}}{\\left(w - 1\\right)^{2}} + O\\left(\\delta_{w}^{2}\\right)$"
      ],
      "text/plain": [
       "-1/(w - 1) - w/(w - 1) + 2*delta_w/(w - 1)**2 + O(delta_w**2)"
      ]
     },
     "execution_count": 10,
     "metadata": {},
     "output_type": "execute_result"
    }
   ],
   "source": [
    "(1 / x.subs(w, w + delta_w)).series(delta_w, 0, 2).simplify()"
   ]
  },
  {
   "cell_type": "code",
   "execution_count": 11,
   "id": "218c10ba-9d40-4971-89a4-b7e194c04a32",
   "metadata": {},
   "outputs": [],
   "source": [
    "a = sp.symbols(\"a\")"
   ]
  },
  {
   "cell_type": "code",
   "execution_count": 19,
   "id": "8145b96e-eb89-4eb3-a87c-307ef9d29285",
   "metadata": {},
   "outputs": [
    {
     "data": {
      "text/latex": [
       "$\\displaystyle \\frac{\\left(w + 1\\right)^{\\frac{3}{2}} - \\frac{\\delta_{w} \\sqrt{w + 1} \\cdot \\left(3 \\left(w + 1\\right) \\log{\\left(a \\right)} + 1\\right)}{2} + O\\left(\\delta_{w}^{2}\\right)}{\\left(w + 1\\right)^{2}}$"
      ],
      "text/plain": [
       "((w + 1)**(3/2) - delta_w*sqrt(w + 1)*(3*(w + 1)*log(a) + 1)/2 + O(delta_w**2))/(w + 1)**2"
      ]
     },
     "execution_count": 19,
     "metadata": {},
     "output_type": "execute_result"
    }
   ],
   "source": [
    "S = sp.sqrt((1 - sp.log(a)*3*delta_w) / (1 + w + delta_w))\n",
    "S.series(delta_w, 0, 2).simplify()"
   ]
  },
  {
   "cell_type": "markdown",
   "id": "ff3c0737-23e9-4a1e-a85e-c52b00906927",
   "metadata": {},
   "source": [
    "## tracking eq"
   ]
  },
  {
   "cell_type": "code",
   "execution_count": null,
   "id": "b82ab173-2ab8-423c-aeb2-f2da6457a0a1",
   "metadata": {},
   "outputs": [],
   "source": []
  }
 ],
 "metadata": {
  "kernelspec": {
   "display_name": "Python 3 (ipykernel)",
   "language": "python",
   "name": "python3"
  },
  "language_info": {
   "codemirror_mode": {
    "name": "ipython",
    "version": 3
   },
   "file_extension": ".py",
   "mimetype": "text/x-python",
   "name": "python",
   "nbconvert_exporter": "python",
   "pygments_lexer": "ipython3",
   "version": "3.10.4"
  }
 },
 "nbformat": 4,
 "nbformat_minor": 5
}
