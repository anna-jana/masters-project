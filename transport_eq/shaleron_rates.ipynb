{
 "cells": [
  {
   "cell_type": "code",
   "execution_count": 1,
   "id": "18fb75cf",
   "metadata": {},
   "outputs": [],
   "source": [
    "import numpy as np\n",
    "import matplotlib.pyplot as plt\n",
    "from scipy.optimize import root\n",
    "import sys\n",
    "if \"..\" not in sys.path: sys.path.append(\"..\")\n",
    "from common import constants, cosmology"
   ]
  },
  {
   "cell_type": "code",
   "execution_count": 19,
   "id": "3c328ea6",
   "metadata": {},
   "outputs": [],
   "source": [
    "def strong_sphaleron_rate(T):\n",
    "    N_f = 6\n",
    "    N_c = 3\n",
    "    N_H = 1\n",
    "\n",
    "    B = (11*N_c - 2*n_f) / (12*np.pi)\n",
    "    alpha_s_at_M_Z = 0.1189\n",
    "    M_Z = 91.187\n",
    "\n",
    "    def alpha_s(q):\n",
    "        return alpha_s_at_M_Z / (1. + 2.0*B * alpha_s_at_M_Z * np.log(q / M_Z))\n",
    "    \n",
    "    some_number = 3.041\n",
    "    g = np.sqrt(4*np.pi*alpha_s(T))\n",
    "    m_D = np.sqrt((2*N_c + N_f + N_H) / 6 * g**2 * T**2)\n",
    "\n",
    "    def gamma_eq(gamma):\n",
    "        return gamma - N_c * alpha_s(T) * T * (np.log(m_D / gamma) + some_number)\n",
    "    p = - some_number * N_c * alpha_s(T) * T\n",
    "    q = - N_c * alpha_s(T) * T * m_D\n",
    "    guess = -p/2 + np.sqrt((p/2)**2 - q)\n",
    "    sol = root(gamma_eq, guess)\n",
    "    if not sol.success: return np.nan\n",
    "    gamma = sol.x[0]\n",
    "\n",
    "    Gamma_sphal = ( \n",
    "        0.21 / 2 * (N_c * g**2 * T**2 / m_D**2) * \n",
    "        (np.log(m_D / gamma) + some_number) * \n",
    "        (N_c**2 - 1) / N_c**2 * \n",
    "        (N_c * alpha_s(T))**5 * T**4\n",
    "    )\n",
    "    return Gamma_sphal"
   ]
  },
  {
   "cell_type": "code",
   "execution_count": 16,
   "id": "ad3addda",
   "metadata": {},
   "outputs": [],
   "source": [
    "g2 = 0.55\n",
    "g3 = 0.6\n",
    "\n",
    "def g_to_alpha(g): return g**2 / (4*np.pi)\n",
    "\n",
    "alpha_2 = g_to_alpha(g2)\n",
    "alpha_3 = g_to_alpha(g3)\n",
    "\n",
    "kappa_WS = 24 # for 1e12 GeV\n",
    "kappa_SS = 2.7e2 # for 1e13 GeV\n",
    "\n",
    "def calc_weak_sphaleron_rate(T):\n",
    "    return kappa_WS / 2 * alpha_2**5 * T**4\n",
    "\n",
    "def calc_strong_sphaleron_rate(T):\n",
    "    return kappa_SS / 2 * alpha_3**5 * T**4"
   ]
  },
  {
   "cell_type": "code",
   "execution_count": 14,
   "id": "b8f215e4",
   "metadata": {},
   "outputs": [],
   "source": [
    "T_range = np.geomspace(1e15, 1e10, 400)\n",
    "SS_rate = [strong_sphaleron_rate(T) for T in T_range]"
   ]
  },
  {
   "cell_type": "code",
   "execution_count": 18,
   "id": "c0f9070b",
   "metadata": {},
   "outputs": [
    {
     "data": {
      "text/plain": [
       "Text(0, 0.5, '$\\\\Gamma_\\\\mathrm{SS} * \\\\mathrm{GeV}^4$')"
      ]
     },
     "execution_count": 18,
     "metadata": {},
     "output_type": "execute_result"
    },
    {
     "data": {
      "image/png": "[encoded data removed]",
      "text/plain": [
       "<Figure size 432x288 with 1 Axes>"
      ]
     },
     "metadata": {
      "needs_background": "light"
     },
     "output_type": "display_data"
    }
   ],
   "source": [
    "plt.loglog(T_range, SS_rate, label=\"own\")\n",
    "plt.loglog(T_range, calc_strong_sphaleron_rate(T_range), label=\"paper\")\n",
    "plt.legend()\n",
    "plt.xlabel(\"T / GeV\")\n",
    "plt.ylabel(\"$\\Gamma_\\mathrm{SS} * \\mathrm{GeV}^4$\")"
   ]
  },
  {
   "cell_type": "code",
   "execution_count": null,
   "id": "ab1af482",
   "metadata": {},
   "outputs": [],
   "source": []
  }
 ],
 "metadata": {
  "kernelspec": {
   "display_name": "Python 3",
   "language": "python",
   "name": "python3"
  },
  "language_info": {
   "codemirror_mode": {
    "name": "ipython",
    "version": 3
   },
   "file_extension": ".py",
   "mimetype": "text/x-python",
   "name": "python",
   "nbconvert_exporter": "python",
   "pygments_lexer": "ipython3",
   "version": "3.8.8"
  }
 },
 "nbformat": 4,
 "nbformat_minor": 5
}
