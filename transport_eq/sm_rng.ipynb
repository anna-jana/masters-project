{
 "cells": [
  {
   "cell_type": "code",
   "execution_count": 1,
   "metadata": {},
   "outputs": [],
   "source": [
    "import numpy as np\n",
    "import matplotlib.pyplot as plt\n",
    "from scipy.integrate import solve_ivp\n",
    "from scipy.optimize import root\n",
    "import scipy.linalg as la\n",
    "import sys\n",
    "if \"..\" not in sys.path: sys.path.append(\"..\")\n",
    "from common import constants, cosmology"
   ]
  },
  {
   "cell_type": "code",
   "execution_count": 7,
   "metadata": {},
   "outputs": [],
   "source": [
    "def alpha_YM(q, q0, alpha0, N, N_f=6):\n",
    "    # from Schwartz QFT and the SM\n",
    "    C_F = (N**2 - 1) / (2*N)\n",
    "    T_F = 1/2\n",
    "    C_A = N\n",
    "    L = np.log(q / q0)\n",
    "    beta0 = 11/3 * C_A - 4/3 * T_F * N_f\n",
    "    beta1 = 34/3 * C_A**2 - 20/3 * C_A * T_F * N_f - 4 * C_F * T_F * N_f\n",
    "    return (\n",
    "        alpha0 \n",
    "        - alpha0**2 / (2*np.pi) * beta0 * L\n",
    "        + alpha0**3 / (8*np.pi**2) * (-beta1 * L + 2 * beta0**2 * L**2)\n",
    "    )\n",
    "\n",
    "def alpha2_running(q):\n",
    "    return alpha_YM(q, constants.M_Z, constants.alpha_2, 2)\n",
    "\n",
    "def alpha3_running(q):\n",
    "    return alpha_YM(q, constants.M_Z, constants.alpha_3, 3)"
   ]
  },
  {
   "cell_type": "code",
   "execution_count": 8,
   "metadata": {},
   "outputs": [],
   "source": [
    "def alpha1_running(q):\n",
    "    e0_sq = 4*np.pi*constants.alpha_1\n",
    "    q0 = constants.M_Z\n",
    "    # 1 loop :(\n",
    "    e_sq = 1 / (1 / e0_sq - 1 / (12*np.pi**2) * np.log(q**2 / q0**2))\n",
    "    return e_sq / (4*np.pi)"
   ]
  },
  {
   "cell_type": "code",
   "execution_count": 19,
   "metadata": {},
   "outputs": [],
   "source": [
    "#qs = np.geomspace(constants.M_Z, 1e3 * constants.M_Z, 100)\n",
    "#plt.plot(qs, 1 / (1 / (4*np.pi*constants.alpha_1) - 1 / (12*np.pi**2) * np.log(qs**2 / constants.M_Z**2)), \n",
    "#         label=\"direct U(1) running\")\n",
    "#g_2_sq = 4 * np.pi * alpha2_running(qs)\n",
    "#e_EM_sq_M_Z = 4 * np.pi * (1 / 127)\n",
    "#e_EM_sq = 1 / (1 / e_EM_sq_M_Z - 1 / (12*np.pi**2) * np.log(qs**2 / constants.M_Z**2))\n",
    "#plt.plot(qs, g_2_sq * e_EM_sq / (g_2_sq - e_EM_sq),\n",
    "#        label=\"indirect via SU(2) and U_EM(1) running\")\n",
    "#plt.axhline(constants.alpha_2 * constants.alpha_1 / (constants.alpha_1 + constants.alpha_2),)\n",
    "#plt.axhline(1 / 127)\n",
    "#plt.xscale(\"log\")\n",
    "#plt.yscale(\"log\")"
   ]
  },
  {
   "cell_type": "markdown",
   "metadata": {},
   "source": [
    "## SM RNG @ 3-Loops:\n",
    "* https://arxiv.org/abs/1212.6829\n",
    "* https://arxiv.org/abs/1303.4364\n",
    "* https://arxiv.org/abs/1210.6873\n",
    "* https://arxiv.org/abs/1310.3806"
   ]
  },
  {
   "cell_type": "code",
   "execution_count": 12,
   "metadata": {},
   "outputs": [],
   "source": [
    "def calc_RNG_eq_Yukawa_rhs(ln_q, a_vec):\n",
    "    # https://arxiv.org/abs/1212.6829\n",
    "    \n",
    "    q = np.exp(ln_q)\n",
    "    # lam = lambda / (16 * np.pi**2) \n",
    "    \n",
    "    at, ab, atau = a_vec\n",
    "    a1 = 5 / 3 * alpha1_running(q)\n",
    "    a2 = alpha2_running(q)\n",
    "    a3 = alpha3_running(q)\n",
    "    \n",
    "    NG = 3 # number of generations\n",
    "    \n",
    "    h = 1\n",
    "    lam = \n",
    "    \n",
    "    #  beta-function for Top Yukawa *squared* : at = Yt**2/(16 Pi**2)\n",
    "    bat = (\n",
    "        at*((-17*a1)/20 - (9*a2)/4 + (3*ab)/2 - 8*a3 + (9*at)/2 + atau)*h**2 +\n",
    "         at*h**4*((9*a1**2)/200 - (9*a1*a2)/20 - (35*a2**2)/4 + (7*a1*ab)/80 +\n",
    "           (99*a2*ab)/16 - ab**2/4 + (19*a1*a3)/15 + 9*a2*a3 + 4*ab*a3 -\n",
    "           (404*a3**2)/3 + (393*a1*at)/80 + (225*a2*at)/16 - (11*ab*at)/4 +\n",
    "           36*a3*at - 12*at**2 + (15*a1*atau)/8 + (15*a2*atau)/8 + (5*ab*atau)/4 -\n",
    "           (9*at*atau)/4 - (9*atau**2)/4 - 12*at*lam + 6*lam**2 + (29*a1**2*NG)/45 +\n",
    "           a2**2*NG + (80*a3**2*NG)/9)\n",
    "    )**0.5\n",
    "\n",
    "    # beta-function for Bottom Yukawa *squared* : ab = Yb**2/(16 Pi**2)\n",
    "    bab = (\n",
    "        ab*(-a1/4 - (9*a2)/4 + (9*ab)/2 - 8*a3 + (3*at)/2 + atau)*h**2 +\n",
    "         ab*h**4*((-29*a1**2)/200 - (27*a1*a2)/20 - (35*a2**2)/4 + (237*a1*ab)/80 +\n",
    "           (225*a2*ab)/16 - 12*ab**2 + (31*a1*a3)/15 + 9*a2*a3 + 36*ab*a3 -\n",
    "           (404*a3**2)/3 + (91*a1*at)/80 + (99*a2*at)/16 - (11*ab*at)/4 +\n",
    "           4*a3*at - at**2/4 + (15*a1*atau)/8 + (15*a2*atau)/8 - (9*ab*atau)/4 +\n",
    "           (5*at*atau)/4 - (9*atau**2)/4 - 12*ab*lam + 6*lam**2 - (a1**2*NG)/45 +\n",
    "           a2**2*NG + (80*a3**2*NG)/9)\n",
    "    )**0.5\n",
    "\n",
    "    #  beta-function for Tau Yukawa *squared* : atau = Ytau**2/(16 Pi**2)\n",
    "    batau = (\n",
    "        atau*((-9*a1)/4 - (9*a2)/4 + 3*ab + 3*at + (5*atau)/2)*h**2 +\n",
    "         atau*h**4*((51*a1**2)/200 + (27*a1*a2)/20 - (35*a2**2)/4 + (5*a1*ab)/8 +\n",
    "           (45*a2*ab)/8 - (27*ab**2)/4 + 20*ab*a3 + (17*a1*at)/8 + (45*a2*at)/8 +\n",
    "           (3*ab*at)/2 + 20*a3*at - (27*at**2)/4 + (537*a1*atau)/80 +\n",
    "           (165*a2*atau)/16 - (27*ab*atau)/4 - (27*at*atau)/4 - 3*atau**2 -\n",
    "        12*atau*lam + 6*lam**2 + (11*a1**2*NG)/5 + a2**2*NG)\n",
    "    )**0.5\n",
    "    \n",
    "    # RNG eq: \n",
    "    # mu * d alpha / d mu =: beta(alpha)\n",
    "    \n",
    "    bs = np.array((bat, bab, batau)) / 2 # / 2 from definition of the beta functions\n",
    "    return bs"
   ]
  },
  {
   "cell_type": "code",
   "execution_count": 13,
   "metadata": {},
   "outputs": [],
   "source": [
    "masses = np.array((constants.m_top, constants.m_bottom, constants.m_tau))\n",
    "Yukawa_couplings = masses / constants.higgs_vev\n",
    "a_initial = Yukawa_couplings**2 / (16 * np.pi**2)"
   ]
  },
  {
   "cell_type": "code",
   "execution_count": 14,
   "metadata": {},
   "outputs": [
    {
     "ename": "NameError",
     "evalue": "name 'lam' is not defined",
     "output_type": "error",
     "traceback": [
      "\u001b[0;31m---------------------------------------------------------------------------\u001b[0m",
      "\u001b[0;31mNameError\u001b[0m                                 Traceback (most recent call last)",
      "\u001b[0;32m<ipython-input-14-e86546a8502d>\u001b[0m in \u001b[0;36m<module>\u001b[0;34m\u001b[0m\n\u001b[1;32m      1\u001b[0m \u001b[0mq_range\u001b[0m \u001b[0;34m=\u001b[0m \u001b[0;34m(\u001b[0m\u001b[0mconstants\u001b[0m\u001b[0;34m.\u001b[0m\u001b[0mM_Z\u001b[0m\u001b[0;34m,\u001b[0m \u001b[0;36m1e15\u001b[0m\u001b[0;34m)\u001b[0m\u001b[0;34m\u001b[0m\u001b[0;34m\u001b[0m\u001b[0m\n\u001b[0;32m----> 2\u001b[0;31m \u001b[0msolve_ivp\u001b[0m\u001b[0;34m(\u001b[0m\u001b[0mcalc_RNG_eq_Yukawa_rhs\u001b[0m\u001b[0;34m,\u001b[0m \u001b[0mnp\u001b[0m\u001b[0;34m.\u001b[0m\u001b[0mlog\u001b[0m\u001b[0;34m(\u001b[0m\u001b[0mq_range\u001b[0m\u001b[0;34m)\u001b[0m\u001b[0;34m,\u001b[0m \u001b[0ma_initial\u001b[0m\u001b[0;34m)\u001b[0m\u001b[0;34m\u001b[0m\u001b[0;34m\u001b[0m\u001b[0m\n\u001b[0m",
      "\u001b[0;32m~/anaconda3/lib/python3.8/site-packages/scipy/integrate/_ivp/ivp.py\u001b[0m in \u001b[0;36msolve_ivp\u001b[0;34m(fun, t_span, y0, method, t_eval, dense_output, events, vectorized, args, **options)\u001b[0m\n\u001b[1;32m    540\u001b[0m         \u001b[0mmethod\u001b[0m \u001b[0;34m=\u001b[0m \u001b[0mMETHODS\u001b[0m\u001b[0;34m[\u001b[0m\u001b[0mmethod\u001b[0m\u001b[0;34m]\u001b[0m\u001b[0;34m\u001b[0m\u001b[0;34m\u001b[0m\u001b[0m\n\u001b[1;32m    541\u001b[0m \u001b[0;34m\u001b[0m\u001b[0m\n\u001b[0;32m--> 542\u001b[0;31m     \u001b[0msolver\u001b[0m \u001b[0;34m=\u001b[0m \u001b[0mmethod\u001b[0m\u001b[0;34m(\u001b[0m\u001b[0mfun\u001b[0m\u001b[0;34m,\u001b[0m \u001b[0mt0\u001b[0m\u001b[0;34m,\u001b[0m \u001b[0my0\u001b[0m\u001b[0;34m,\u001b[0m \u001b[0mtf\u001b[0m\u001b[0;34m,\u001b[0m \u001b[0mvectorized\u001b[0m\u001b[0;34m=\u001b[0m\u001b[0mvectorized\u001b[0m\u001b[0;34m,\u001b[0m \u001b[0;34m**\u001b[0m\u001b[0moptions\u001b[0m\u001b[0;34m)\u001b[0m\u001b[0;34m\u001b[0m\u001b[0;34m\u001b[0m\u001b[0m\n\u001b[0m\u001b[1;32m    543\u001b[0m \u001b[0;34m\u001b[0m\u001b[0m\n\u001b[1;32m    544\u001b[0m     \u001b[0;32mif\u001b[0m \u001b[0mt_eval\u001b[0m \u001b[0;32mis\u001b[0m \u001b[0;32mNone\u001b[0m\u001b[0;34m:\u001b[0m\u001b[0;34m\u001b[0m\u001b[0;34m\u001b[0m\u001b[0m\n",
      "\u001b[0;32m~/anaconda3/lib/python3.8/site-packages/scipy/integrate/_ivp/rk.py\u001b[0m in \u001b[0;36m__init__\u001b[0;34m(self, fun, t0, y0, t_bound, max_step, rtol, atol, vectorized, first_step, **extraneous)\u001b[0m\n\u001b[1;32m     92\u001b[0m         \u001b[0mself\u001b[0m\u001b[0;34m.\u001b[0m\u001b[0mmax_step\u001b[0m \u001b[0;34m=\u001b[0m \u001b[0mvalidate_max_step\u001b[0m\u001b[0;34m(\u001b[0m\u001b[0mmax_step\u001b[0m\u001b[0;34m)\u001b[0m\u001b[0;34m\u001b[0m\u001b[0;34m\u001b[0m\u001b[0m\n\u001b[1;32m     93\u001b[0m         \u001b[0mself\u001b[0m\u001b[0;34m.\u001b[0m\u001b[0mrtol\u001b[0m\u001b[0;34m,\u001b[0m \u001b[0mself\u001b[0m\u001b[0;34m.\u001b[0m\u001b[0matol\u001b[0m \u001b[0;34m=\u001b[0m \u001b[0mvalidate_tol\u001b[0m\u001b[0;34m(\u001b[0m\u001b[0mrtol\u001b[0m\u001b[0;34m,\u001b[0m \u001b[0matol\u001b[0m\u001b[0;34m,\u001b[0m \u001b[0mself\u001b[0m\u001b[0;34m.\u001b[0m\u001b[0mn\u001b[0m\u001b[0;34m)\u001b[0m\u001b[0;34m\u001b[0m\u001b[0;34m\u001b[0m\u001b[0m\n\u001b[0;32m---> 94\u001b[0;31m         \u001b[0mself\u001b[0m\u001b[0;34m.\u001b[0m\u001b[0mf\u001b[0m \u001b[0;34m=\u001b[0m \u001b[0mself\u001b[0m\u001b[0;34m.\u001b[0m\u001b[0mfun\u001b[0m\u001b[0;34m(\u001b[0m\u001b[0mself\u001b[0m\u001b[0;34m.\u001b[0m\u001b[0mt\u001b[0m\u001b[0;34m,\u001b[0m \u001b[0mself\u001b[0m\u001b[0;34m.\u001b[0m\u001b[0my\u001b[0m\u001b[0;34m)\u001b[0m\u001b[0;34m\u001b[0m\u001b[0;34m\u001b[0m\u001b[0m\n\u001b[0m\u001b[1;32m     95\u001b[0m         \u001b[0;32mif\u001b[0m \u001b[0mfirst_step\u001b[0m \u001b[0;32mis\u001b[0m \u001b[0;32mNone\u001b[0m\u001b[0;34m:\u001b[0m\u001b[0;34m\u001b[0m\u001b[0;34m\u001b[0m\u001b[0m\n\u001b[1;32m     96\u001b[0m             self.h_abs = select_initial_step(\n",
      "\u001b[0;32m~/anaconda3/lib/python3.8/site-packages/scipy/integrate/_ivp/base.py\u001b[0m in \u001b[0;36mfun\u001b[0;34m(t, y)\u001b[0m\n\u001b[1;32m    136\u001b[0m         \u001b[0;32mdef\u001b[0m \u001b[0mfun\u001b[0m\u001b[0;34m(\u001b[0m\u001b[0mt\u001b[0m\u001b[0;34m,\u001b[0m \u001b[0my\u001b[0m\u001b[0;34m)\u001b[0m\u001b[0;34m:\u001b[0m\u001b[0;34m\u001b[0m\u001b[0;34m\u001b[0m\u001b[0m\n\u001b[1;32m    137\u001b[0m             \u001b[0mself\u001b[0m\u001b[0;34m.\u001b[0m\u001b[0mnfev\u001b[0m \u001b[0;34m+=\u001b[0m \u001b[0;36m1\u001b[0m\u001b[0;34m\u001b[0m\u001b[0;34m\u001b[0m\u001b[0m\n\u001b[0;32m--> 138\u001b[0;31m             \u001b[0;32mreturn\u001b[0m \u001b[0mself\u001b[0m\u001b[0;34m.\u001b[0m\u001b[0mfun_single\u001b[0m\u001b[0;34m(\u001b[0m\u001b[0mt\u001b[0m\u001b[0;34m,\u001b[0m \u001b[0my\u001b[0m\u001b[0;34m)\u001b[0m\u001b[0;34m\u001b[0m\u001b[0;34m\u001b[0m\u001b[0m\n\u001b[0m\u001b[1;32m    139\u001b[0m \u001b[0;34m\u001b[0m\u001b[0m\n\u001b[1;32m    140\u001b[0m         \u001b[0mself\u001b[0m\u001b[0;34m.\u001b[0m\u001b[0mfun\u001b[0m \u001b[0;34m=\u001b[0m \u001b[0mfun\u001b[0m\u001b[0;34m\u001b[0m\u001b[0;34m\u001b[0m\u001b[0m\n",
      "\u001b[0;32m~/anaconda3/lib/python3.8/site-packages/scipy/integrate/_ivp/base.py\u001b[0m in \u001b[0;36mfun_wrapped\u001b[0;34m(t, y)\u001b[0m\n\u001b[1;32m     18\u001b[0m \u001b[0;34m\u001b[0m\u001b[0m\n\u001b[1;32m     19\u001b[0m     \u001b[0;32mdef\u001b[0m \u001b[0mfun_wrapped\u001b[0m\u001b[0;34m(\u001b[0m\u001b[0mt\u001b[0m\u001b[0;34m,\u001b[0m \u001b[0my\u001b[0m\u001b[0;34m)\u001b[0m\u001b[0;34m:\u001b[0m\u001b[0;34m\u001b[0m\u001b[0;34m\u001b[0m\u001b[0m\n\u001b[0;32m---> 20\u001b[0;31m         \u001b[0;32mreturn\u001b[0m \u001b[0mnp\u001b[0m\u001b[0;34m.\u001b[0m\u001b[0masarray\u001b[0m\u001b[0;34m(\u001b[0m\u001b[0mfun\u001b[0m\u001b[0;34m(\u001b[0m\u001b[0mt\u001b[0m\u001b[0;34m,\u001b[0m \u001b[0my\u001b[0m\u001b[0;34m)\u001b[0m\u001b[0;34m,\u001b[0m \u001b[0mdtype\u001b[0m\u001b[0;34m=\u001b[0m\u001b[0mdtype\u001b[0m\u001b[0;34m)\u001b[0m\u001b[0;34m\u001b[0m\u001b[0;34m\u001b[0m\u001b[0m\n\u001b[0m\u001b[1;32m     21\u001b[0m \u001b[0;34m\u001b[0m\u001b[0m\n\u001b[1;32m     22\u001b[0m     \u001b[0;32mreturn\u001b[0m \u001b[0mfun_wrapped\u001b[0m\u001b[0;34m,\u001b[0m \u001b[0my0\u001b[0m\u001b[0;34m\u001b[0m\u001b[0;34m\u001b[0m\u001b[0m\n",
      "\u001b[0;32m<ipython-input-12-0a359413921a>\u001b[0m in \u001b[0;36mcalc_RNG_eq_Yukawa_rhs\u001b[0;34m(ln_q, a_vec)\u001b[0m\n\u001b[1;32m     21\u001b[0m            \u001b[0;34m(\u001b[0m\u001b[0;36m404\u001b[0m\u001b[0;34m*\u001b[0m\u001b[0ma3\u001b[0m\u001b[0;34m**\u001b[0m\u001b[0;36m2\u001b[0m\u001b[0;34m)\u001b[0m\u001b[0;34m/\u001b[0m\u001b[0;36m3\u001b[0m \u001b[0;34m+\u001b[0m \u001b[0;34m(\u001b[0m\u001b[0;36m393\u001b[0m\u001b[0;34m*\u001b[0m\u001b[0ma1\u001b[0m\u001b[0;34m*\u001b[0m\u001b[0mat\u001b[0m\u001b[0;34m)\u001b[0m\u001b[0;34m/\u001b[0m\u001b[0;36m80\u001b[0m \u001b[0;34m+\u001b[0m \u001b[0;34m(\u001b[0m\u001b[0;36m225\u001b[0m\u001b[0;34m*\u001b[0m\u001b[0ma2\u001b[0m\u001b[0;34m*\u001b[0m\u001b[0mat\u001b[0m\u001b[0;34m)\u001b[0m\u001b[0;34m/\u001b[0m\u001b[0;36m16\u001b[0m \u001b[0;34m-\u001b[0m \u001b[0;34m(\u001b[0m\u001b[0;36m11\u001b[0m\u001b[0;34m*\u001b[0m\u001b[0mab\u001b[0m\u001b[0;34m*\u001b[0m\u001b[0mat\u001b[0m\u001b[0;34m)\u001b[0m\u001b[0;34m/\u001b[0m\u001b[0;36m4\u001b[0m \u001b[0;34m+\u001b[0m\u001b[0;34m\u001b[0m\u001b[0;34m\u001b[0m\u001b[0m\n\u001b[1;32m     22\u001b[0m            \u001b[0;36m36\u001b[0m\u001b[0;34m*\u001b[0m\u001b[0ma3\u001b[0m\u001b[0;34m*\u001b[0m\u001b[0mat\u001b[0m \u001b[0;34m-\u001b[0m \u001b[0;36m12\u001b[0m\u001b[0;34m*\u001b[0m\u001b[0mat\u001b[0m\u001b[0;34m**\u001b[0m\u001b[0;36m2\u001b[0m \u001b[0;34m+\u001b[0m \u001b[0;34m(\u001b[0m\u001b[0;36m15\u001b[0m\u001b[0;34m*\u001b[0m\u001b[0ma1\u001b[0m\u001b[0;34m*\u001b[0m\u001b[0matau\u001b[0m\u001b[0;34m)\u001b[0m\u001b[0;34m/\u001b[0m\u001b[0;36m8\u001b[0m \u001b[0;34m+\u001b[0m \u001b[0;34m(\u001b[0m\u001b[0;36m15\u001b[0m\u001b[0;34m*\u001b[0m\u001b[0ma2\u001b[0m\u001b[0;34m*\u001b[0m\u001b[0matau\u001b[0m\u001b[0;34m)\u001b[0m\u001b[0;34m/\u001b[0m\u001b[0;36m8\u001b[0m \u001b[0;34m+\u001b[0m \u001b[0;34m(\u001b[0m\u001b[0;36m5\u001b[0m\u001b[0;34m*\u001b[0m\u001b[0mab\u001b[0m\u001b[0;34m*\u001b[0m\u001b[0matau\u001b[0m\u001b[0;34m)\u001b[0m\u001b[0;34m/\u001b[0m\u001b[0;36m4\u001b[0m \u001b[0;34m-\u001b[0m\u001b[0;34m\u001b[0m\u001b[0;34m\u001b[0m\u001b[0m\n\u001b[0;32m---> 23\u001b[0;31m            \u001b[0;34m(\u001b[0m\u001b[0;36m9\u001b[0m\u001b[0;34m*\u001b[0m\u001b[0mat\u001b[0m\u001b[0;34m*\u001b[0m\u001b[0matau\u001b[0m\u001b[0;34m)\u001b[0m\u001b[0;34m/\u001b[0m\u001b[0;36m4\u001b[0m \u001b[0;34m-\u001b[0m \u001b[0;34m(\u001b[0m\u001b[0;36m9\u001b[0m\u001b[0;34m*\u001b[0m\u001b[0matau\u001b[0m\u001b[0;34m**\u001b[0m\u001b[0;36m2\u001b[0m\u001b[0;34m)\u001b[0m\u001b[0;34m/\u001b[0m\u001b[0;36m4\u001b[0m \u001b[0;34m-\u001b[0m \u001b[0;36m12\u001b[0m\u001b[0;34m*\u001b[0m\u001b[0mat\u001b[0m\u001b[0;34m*\u001b[0m\u001b[0mlam\u001b[0m \u001b[0;34m+\u001b[0m \u001b[0;36m6\u001b[0m\u001b[0;34m*\u001b[0m\u001b[0mlam\u001b[0m\u001b[0;34m**\u001b[0m\u001b[0;36m2\u001b[0m \u001b[0;34m+\u001b[0m \u001b[0;34m(\u001b[0m\u001b[0;36m29\u001b[0m\u001b[0;34m*\u001b[0m\u001b[0ma1\u001b[0m\u001b[0;34m**\u001b[0m\u001b[0;36m2\u001b[0m\u001b[0;34m*\u001b[0m\u001b[0mNG\u001b[0m\u001b[0;34m)\u001b[0m\u001b[0;34m/\u001b[0m\u001b[0;36m45\u001b[0m \u001b[0;34m+\u001b[0m\u001b[0;34m\u001b[0m\u001b[0;34m\u001b[0m\u001b[0m\n\u001b[0m\u001b[1;32m     24\u001b[0m            a2**2*NG + (80*a3**2*NG)/9)\n\u001b[1;32m     25\u001b[0m     )**0.5\n",
      "\u001b[0;31mNameError\u001b[0m: name 'lam' is not defined"
     ]
    }
   ],
   "source": [
    "q_range = (constants.M_Z, 1e15)\n",
    "solve_ivp(calc_RNG_eq_Yukawa_rhs, np.log(q_range), a_initial)"
   ]
  },
  {
   "cell_type": "code",
   "execution_count": null,
   "metadata": {},
   "outputs": [],
   "source": [
    "def yukawa_running(q, f, f_prime):\n",
    "    return ????"
   ]
  }
 ],
 "metadata": {
  "kernelspec": {
   "display_name": "Python 3",
   "language": "python",
   "name": "python3"
  },
  "language_info": {
   "codemirror_mode": {
    "name": "ipython",
    "version": 3
   },
   "file_extension": ".py",
   "mimetype": "text/x-python",
   "name": "python",
   "nbconvert_exporter": "python",
   "pygments_lexer": "ipython3",
   "version": "3.8.5"
  }
 },
 "nbformat": 4,
 "nbformat_minor": 4
}
