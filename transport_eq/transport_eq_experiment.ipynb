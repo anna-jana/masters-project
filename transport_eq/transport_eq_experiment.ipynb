{
 "cells": [
  {
   "cell_type": "code",
   "execution_count": 1,
   "metadata": {},
   "outputs": [],
   "source": [
    "import numpy as np\n",
    "import matplotlib.pyplot as plt\n",
    "from scipy.integrate import solve_ivp\n",
    "from scipy.optimize import root\n",
    "import scipy.linalg as la\n",
    "from scipy.interpolate import interp1d\n",
    "import sys\n",
    "if \"..\" not in sys.path: sys.path.append(\"..\")\n",
    "from common import constants, cosmology"
   ]
  },
  {
   "cell_type": "markdown",
   "metadata": {},
   "source": [
    "# $\\mathrm{B} - \\mathrm{L}$ Genesis"
   ]
  },
  {
   "cell_type": "markdown",
   "metadata": {},
   "source": [
    "## Warning: for different epoch change numbers!"
   ]
  },
  {
   "cell_type": "code",
   "execution_count": 68,
   "metadata": {},
   "outputs": [],
   "source": [
    "g2 = 0.55\n",
    "g3 = 0.6\n",
    "\n",
    "def g_to_alpha(g): return (g / (4*np.pi))**2\n",
    "\n",
    "alpha_2 = g_to_alpha(g2)\n",
    "alpha_3 = g_to_alpha(g3)\n",
    "\n",
    "Y_tau = 1e-2\n",
    "Y_top = 0.49\n",
    "Y_bottom = 6.8e-3\n",
    "\n",
    "kappa_tau = 1.7e-3\n",
    "\n",
    "def calc_yukawa_rate(T, kappa, Y):\n",
    "    return kappa * Y**2 * T**4\n",
    "\n",
    "def calc_yukawa_rate_tau(T):\n",
    "    return calc_yukawa_rate(T, kappa_tau, Y_tau)\n",
    "\n",
    "# log log -> no\n",
    "# log linear -> no\n",
    "\n",
    "kappa_quarks_uptype = np.array([8e-3, 1e-2, 1.2e-2]) # \\approx downtype\n",
    "T_for_kappa_quarks_uptype = np.array([1e15, 1e12, 1e9])\n",
    "kappa_quark_uptype_interp = interp1d(T_for_kappa_quarks_uptype, kappa_quarks_uptype)\n",
    "\n",
    "def calc_yukawa_rate_quark(T, Y):\n",
    "    kappa = kappa_quarks_uptype[1] # kappa_quark_interp(T)\n",
    "    return calc_yukawa_rate(T, kappa, Y)\n",
    "\n",
    "def calc_yukawa_rate_top(T):\n",
    "    return calc_yukawa_rate_quark(T, Y_top)\n",
    "\n",
    "def calc_yukawa_rate_bottom(T):\n",
    "    return calc_yukawa_rate_quark(T, Y_bottom)"
   ]
  },
  {
   "cell_type": "code",
   "execution_count": 3,
   "metadata": {},
   "outputs": [],
   "source": [
    "def calc_sphaleron_rate(T, N_H, N_c\n",
    "                        , alpha, N_f=6):\n",
    "    some_number = 3.041\n",
    "    g = np.sqrt(4*np.pi*alpha)\n",
    "    m_D = np.sqrt((2*N_c + N_f + N_H) / 6 * g**2 * T**2)\n",
    "\n",
    "    def gamma_eq(gamma):\n",
    "        return gamma - N_c * alpha * T * (np.log(m_D / gamma) + some_number)\n",
    "    p = - some_number * N_c * alpha * T\n",
    "    q = - N_c * alpha * T * m_D\n",
    "    guess = -p/2 + np.sqrt((p/2)**2 - q)\n",
    "    sol = root(gamma_eq, guess)\n",
    "    if not sol.success: return np.nan\n",
    "    gamma = sol.x[0]\n",
    "\n",
    "    Gamma_sphal = ( \n",
    "        0.21 / 2 * (N_c * g**2 * T**2 / m_D**2) * \n",
    "        (np.log(m_D / gamma) + some_number) * \n",
    "        (N_c**2 - 1) / N_c**2 * \n",
    "        (N_c * alpha)**5 * T**4\n",
    "    )\n",
    "    return Gamma_sphal\n",
    "\n",
    "kappa_WS = 24 # for 1e12 GeV\n",
    "kappa_SS = 2.7e2 # for 1e13 GeV\n",
    "\n",
    "def calc_weak_sphaleron_rate(T):\n",
    "    return kappa_WS / 2 * alpha_2**5 * T**4\n",
    "    # return calc_sphaleron_rate(T, N_H=1, N_c=2, alpha=alpha2_running(T))\n",
    "\n",
    "def calc_strong_sphaleron_rate(T):\n",
    "    return kappa_SS / 2 * alpha_3**5 * T**4\n",
    "    # return calc_sphaleron_rate(T, N_H=0, N_C=3, alpha=alpha3_running(T))"
   ]
  },
  {
   "cell_type": "code",
   "execution_count": null,
   "metadata": {},
   "outputs": [],
   "source": []
  },
  {
   "cell_type": "code",
   "execution_count": 441,
   "metadata": {},
   "outputs": [],
   "source": [
    "charge_vector = np.array((\n",
    "    # Interactions:\n",
    "    # tau, L12, L3, q12, t,  b,  Q12, Q3,  H\n",
    "    (0,    2,   1,  0,   0,  0,  6,   3,   0), # WS\n",
    "    (0,    0,   0, -4,  -1, -1,  4,   2,   0), # SS\n",
    "    (-1,   0,   1,  0,   0,  0,  0,   0,   1), # Y_tau\n",
    "    (0,    0,   0,  0,  -1,  0,  0,   1,   1), # Y_top\n",
    "    (0,    0,   0,  0,   0, -1,  0,   1,  -1), # Y_bottom\n",
    "    (0,    2,   0,  0,   0,  0,  0,   0,   2), # Weinberg_12\n",
    "    (0,    0,   2,  0,   0,  0,  0,   0,   2), # Weinberg_3\n",
    "    # Conserved Quantaties:\n",
    "    # tau, L12,  L3,   q12,   t,    b,  Q12,   Q3,  H\n",
    "    #( -1, -1/2, -1/2,  1/6,  2/3, -1/3, 1/6,  1/6, 1/2), # Y\n",
    "    #(  0,  0,    0,    1/3, -2/3, -2/3, 1/3, -2/3, 0),   # B12 - 2*B3\n",
    "))"
   ]
  },
  {
   "cell_type": "code",
   "execution_count": 442,
   "metadata": {},
   "outputs": [],
   "source": [
    "g = dofs = np.array([1,4,2,12,3,3,12,6,4])"
   ]
  },
  {
   "cell_type": "code",
   "execution_count": 443,
   "metadata": {},
   "outputs": [],
   "source": [
    "kappa_W = 3e-3\n",
    "nu_EW = 174 # [GeV]\n",
    "m_nu = 0.05 # np.sqrt(2.4e-3)\n",
    "def calc_weinberg_op_rate(T):\n",
    "    return kappa_W * m_nu**2 * T**6 / nu_EW**4"
   ]
  },
  {
   "cell_type": "code",
   "execution_count": 444,
   "metadata": {},
   "outputs": [],
   "source": [
    "def calc_rate_vector(T):\n",
    "    return np.array((\n",
    "        calc_weak_sphaleron_rate(T), # WS\n",
    "        calc_strong_sphaleron_rate(T), # SS\n",
    "        calc_yukawa_rate_tau(T), # Y_tau\n",
    "        calc_yukawa_rate_top(T), # Y_top\n",
    "        calc_yukawa_rate_bottom(T), # Y_bottom\n",
    "        2 * calc_weinberg_op_rate(T), # W_12\n",
    "        calc_weinberg_op_rate(T), # W_3\n",
    "    ))"
   ]
  },
  {
   "cell_type": "code",
   "execution_count": 445,
   "metadata": {},
   "outputs": [
    {
     "data": {
      "image/png": "[encoded data removed]",
      "text/plain": [
       "<Figure size 432x288 with 1 Axes>"
      ]
     },
     "metadata": {
      "needs_background": "light"
     },
     "output_type": "display_data"
    }
   ],
   "source": [
    "T_RH = 1e15\n",
    "process_names = [\"WS\", \"SS\", \"Y_tau\", \"Y_top\", \"Y_bottom\", \"W_12\", \"W_3\"]\n",
    "T_range = np.geomspace(T_RH, 1e10, 100)\n",
    "H = cosmology.calc_hubble_parameter(cosmology.calc_radiation_energy_density(T_range))\n",
    "for name, rate in zip(process_names, np.vstack([calc_rate_vector(T) / (T**3 / 6) for T in T_range]).T):\n",
    "    plt.loglog(T_range, rate / H, label=name)\n",
    "plt.legend(ncol=2, loc=2)\n",
    "plt.xlabel(\"T / GeV\", fontsize=15)\n",
    "plt.ylabel(r\"$\\gamma_\\alpha / H$\", fontsize=15)\n",
    "plt.gca().invert_xaxis()"
   ]
  },
  {
   "cell_type": "code",
   "execution_count": 446,
   "metadata": {},
   "outputs": [],
   "source": [
    "#                                           WS SS  Ytau Yt Yb  W12  W3 \n",
    "source_vector_B_minus_L_current = np.array((0,  0,  0,  0,  0, -2, -2))\n",
    "source_vector_weak_sphaleron    = np.array((1,  0,  0,  0,  0,  0,  0))\n",
    "source_vector_strong_sphaleron  = np.array((0,  1,  0,  0,  0,  0,  0))"
   ]
  },
  {
   "cell_type": "code",
   "execution_count": 447,
   "metadata": {},
   "outputs": [],
   "source": [
    "# a dot / f / T\n",
    "eta0 = 1e-9\n",
    "def calc_axion_motion(T):\n",
    "    return eta0"
   ]
  },
  {
   "cell_type": "code",
   "execution_count": 448,
   "metadata": {},
   "outputs": [],
   "source": [
    "charge_names = [\"tau\", \"L12\", \"L3\", \"q12\", \"t\", \"b\", \"Q12\", \"Q3\", \"H\"]"
   ]
  },
  {
   "cell_type": "code",
   "execution_count": 449,
   "metadata": {},
   "outputs": [],
   "source": [
    "charge_vector_B_minus_L = np.array((-1, -1, -1, 1/3, 1/3, 1/3, 1/3, 1/3, 0))\n",
    "def calc_B_minus_L(red_chems):\n",
    "    return np.dot(charge_vector_B_minus_L, red_chems)"
   ]
  },
  {
   "cell_type": "code",
   "execution_count": 450,
   "metadata": {},
   "outputs": [],
   "source": [
    "def rate_per_time_vol_to_rate_per_time(Gamma, T):\n",
    "    return Gamma / (T**3 / 6)"
   ]
  },
  {
   "cell_type": "code",
   "execution_count": 460,
   "metadata": {},
   "outputs": [],
   "source": [
    "def transport_eq_rhs(log_T, red_chem_pot, n_S):\n",
    "    n = charge_vector\n",
    "    T = np.exp(log_T)\n",
    "    H = cosmology.calc_hubble_parameter(cosmology.calc_radiation_energy_density(T))\n",
    "    Gamma = calc_rate_vector(T)\n",
    "    gamma = rate_per_time_vol_to_rate_per_time(Gamma, T)\n",
    "    axion_motion = calc_axion_motion(T)\n",
    "    d_red_chem_pot_d_ln_T = np.array([\n",
    "        1 / g[i] * sum(n[alpha, i] * gamma[alpha] / H * \n",
    "                       (# sum(n[alpha, j] * red_chem_pot[j] for j in range(n.shape[1])) \n",
    "                        n[alpha, :] @ red_chem_pot\n",
    "                        - n_S[alpha] * axion_motion) \n",
    "                    for alpha in range(n.shape[0]))\n",
    "            for i in range(n.shape[1])])\n",
    "    return d_red_chem_pot_d_ln_T"
   ]
  },
  {
   "cell_type": "code",
   "execution_count": 461,
   "metadata": {},
   "outputs": [],
   "source": [
    "initial = np.repeat(0, charge_vector.shape[1])\n",
    "T_RH = 1e15\n",
    "start = np.log(T_RH)\n",
    "end = np.log(1e10)\n",
    "num_steps = 500\n",
    "steps = np.linspace(start, end, num_steps)\n",
    "steps[0] = start; steps[-1] = end\n",
    "sol = solve_ivp(transport_eq_rhs, (start, end), initial, \n",
    "         args=(source_vector_weak_sphaleron,), \n",
    "         method=\"Radau\", rtol=1e-8, t_eval=steps) # methods: RK45, DOP853, Radau, BDF, LSODA"
   ]
  },
  {
   "cell_type": "code",
   "execution_count": 462,
   "metadata": {},
   "outputs": [
    {
     "data": {
      "image/png": "[encoded data removed]",
      "text/plain": [
       "<Figure size 432x288 with 1 Axes>"
      ]
     },
     "metadata": {
      "needs_background": "light"
     },
     "output_type": "display_data"
    }
   ],
   "source": [
    "for name, y in zip(charge_names, sol.y):\n",
    "    T = np.exp(sol.t)\n",
    "    plt.loglog(T, np.abs(y), label=name)\n",
    "plt.ylabel(r\"$|\\mu / T|$\")\n",
    "plt.xlabel(r\"T / GeV\")\n",
    "plt.gca().invert_xaxis()\n",
    "plt.legend(ncol=2)\n",
    "plt.show()"
   ]
  },
  {
   "cell_type": "code",
   "execution_count": 463,
   "metadata": {},
   "outputs": [
    {
     "data": {
      "image/png": "[encoded data removed]",
      "text/plain": [
       "<Figure size 432x288 with 1 Axes>"
      ]
     },
     "metadata": {
      "needs_background": "light"
     },
     "output_type": "display_data"
    }
   ],
   "source": [
    "red_chem_B_minus_L = calc_B_minus_L(sol.y)\n",
    "plt.loglog(np.exp(sol.t), np.abs(red_chem_B_minus_L))\n",
    "plt.ylabel(r\"$|\\mu_{\\mathrm{B} - \\mathrm{L}} / T|$\", fontsize=15)\n",
    "plt.xlabel(r\"T / GeV\", fontsize=15)\n",
    "plt.gca().invert_xaxis()\n",
    "plt.show()"
   ]
  },
  {
   "cell_type": "code",
   "execution_count": 352,
   "metadata": {},
   "outputs": [
    {
     "data": {
      "text/plain": [
       "array([ 0.00000000e+00, -8.35548423e-03, -6.96382603e-02, -1.53330043e-01,\n",
       "        1.40926829e+01,  3.03160046e+02,  1.31225339e+03,  3.45714887e+03,\n",
       "        4.72576049e+03,  6.52606703e+03,  7.50701255e+03,  1.34707527e+04,\n",
       "        1.88607490e+04,  1.81579080e+04,  1.75173033e+04,  1.69279315e+04,\n",
       "        1.63796267e+04,  1.58627121e+04,  1.53686189e+04,  1.48885976e+04,\n",
       "        1.44144981e+04,  1.39388892e+04,  1.34550175e+04,  1.30758163e+04,\n",
       "        1.27580943e+04,  1.24515107e+04,  1.21544549e+04,  1.18654402e+04,\n",
       "        1.15830965e+04,  1.13060891e+04,  1.10332847e+04,  1.07635352e+04,\n",
       "        1.04957155e+04,  1.02288040e+04,  9.96187565e+03,  9.69409698e+03,\n",
       "        9.42472039e+03,  9.15307903e+03,  8.91377868e+03,  8.71411219e+03,\n",
       "        8.51841994e+03,  8.32736676e+03,  8.14148689e+03,  7.96141344e+03,\n",
       "        7.78771235e+03,  7.62088638e+03,  7.46137889e+03,  7.30957740e+03,\n",
       "        7.16581707e+03,  7.02084425e+03,  6.85885575e+03,  6.70114677e+03,\n",
       "        6.54737964e+03,  6.39672228e+03,  6.24825362e+03,  6.10113951e+03,\n",
       "        5.95458678e+03,  5.80787028e+03,  5.66033456e+03,  5.51138532e+03,\n",
       "        5.36048219e+03,  5.20714186e+03,  5.05093664e+03,  4.89149117e+03,\n",
       "        4.72847907e+03,  4.61587497e+03,  4.51313492e+03,  4.41137707e+03,\n",
       "        4.31128564e+03,  4.21315447e+03,  4.11716383e+03,  4.02318033e+03,\n",
       "        3.93166891e+03,  3.84405567e+03,  3.76183944e+03,  3.68639977e+03,\n",
       "        3.61899924e+03,  3.56076699e+03,  3.51270661e+03,  3.47570370e+03,\n",
       "        3.45053312e+03,  3.38180129e+03,  3.30234458e+03,  3.22553535e+03,\n",
       "        3.14902122e+03,  3.07046420e+03,  2.98762547e+03,  2.89845337e+03,\n",
       "        2.80107381e+03,  2.69379300e+03,  2.61707020e+03,  2.55904695e+03,\n",
       "        2.50102233e+03,  2.44397311e+03,  2.38811661e+03,  2.33350245e+03,\n",
       "        2.28012429e+03,  2.22796054e+03,  2.17697981e+03,  2.12711181e+03,\n",
       "        2.07828177e+03,  2.03042151e+03,  1.98346717e+03,  1.93735963e+03,\n",
       "        1.89204405e+03,  1.84746962e+03,  1.80471061e+03,  1.76342256e+03,\n",
       "        1.72308343e+03,  1.68378714e+03,  1.64562628e+03,  1.60868317e+03,\n",
       "        1.57193946e+03,  1.53591764e+03,  1.50072593e+03,  1.46633708e+03,\n",
       "        1.43273395e+03,  1.39989710e+03,  1.36780934e+03,  1.33645348e+03,\n",
       "        1.30581265e+03,  1.27587056e+03,  1.24661395e+03,  1.21803483e+03,\n",
       "        1.19010109e+03,  1.16276326e+03,  1.13593821e+03,  1.10953823e+03,\n",
       "        1.08387802e+03,  1.05900374e+03,  1.03470310e+03,  1.01099638e+03,\n",
       "        9.87902379e+02,  9.65437462e+02,  9.43483381e+02,  9.21801359e+02,\n",
       "        9.00620924e+02,  8.79939168e+02,  8.59762609e+02,  8.40096308e+02,\n",
       "        8.20944029e+02,  8.02308314e+02,  7.84190515e+02,  7.66591055e+02,\n",
       "        7.49509297e+02,  7.32943667e+02,  7.16891742e+02,  7.01350314e+02,\n",
       "        6.86315445e+02,  6.71782529e+02,  6.57746340e+02,  6.44201088e+02,\n",
       "        6.31140465e+02,  6.18557688e+02,  6.06445547e+02,  5.94796444e+02,\n",
       "        5.81603540e+02,  5.68178138e+02,  5.55059493e+02,  5.42239443e+02,\n",
       "        5.29713194e+02,  5.17474515e+02,  5.05513936e+02,  4.93825652e+02,\n",
       "        4.82404231e+02,  4.71243354e+02,  4.60337071e+02,  4.49679617e+02,\n",
       "        4.39265354e+02,  4.29088781e+02,  4.19144512e+02,  4.09427286e+02,\n",
       "        3.99931958e+02,  3.90653502e+02,  3.81587004e+02,  3.72727663e+02,\n",
       "        3.64070785e+02,  3.55611782e+02,  3.47346171e+02,  3.39269570e+02,\n",
       "        3.31377696e+02,  3.23666362e+02,  3.16131470e+02,  3.08769028e+02,\n",
       "        3.01575127e+02,  2.94545944e+02,  2.87677744e+02,  2.80966876e+02,\n",
       "        2.74409772e+02,  2.68002943e+02,  2.61742983e+02,  2.55626558e+02,\n",
       "        2.49650412e+02,  2.43811364e+02,  2.38106302e+02,  2.32532186e+02,\n",
       "        2.27086041e+02,  2.21764951e+02,  2.16566097e+02,  2.11486701e+02,\n",
       "        2.06524050e+02,  2.01675491e+02,  1.96938432e+02,  1.92310339e+02,\n",
       "        1.87788735e+02,  1.83371200e+02,  1.79055370e+02,  1.74838935e+02,\n",
       "        1.70719637e+02,  1.66695268e+02,  1.62763669e+02,  1.58922730e+02,\n",
       "        1.55170390e+02,  1.51504632e+02,  1.47923488e+02,  1.44425031e+02,\n",
       "        1.41007369e+02,  1.37668678e+02,  1.34407161e+02,  1.31221059e+02,\n",
       "        1.28108655e+02,  1.25068270e+02,  1.22098262e+02,  1.19197027e+02,\n",
       "        1.16362998e+02,  1.13594643e+02,  1.10890464e+02,  1.08249006e+02,\n",
       "        1.05668827e+02,  1.03148530e+02,  1.00686750e+02,  9.82821516e+01,\n",
       "        9.59334307e+01,  9.36393121e+01,  9.13985497e+01,  8.92099253e+01,\n",
       "        8.70722484e+01,  8.49637781e+01,  8.28974056e+01,  8.08738184e+01,\n",
       "        7.89041934e+01,  7.69803999e+01,  7.51013512e+01,  7.32660441e+01,\n",
       "        7.14734969e+01,  6.97227406e+01,  6.80128363e+01,  6.63428702e+01,\n",
       "        6.47119470e+01,  6.31191908e+01,  6.15637617e+01,  6.00448019e+01,\n",
       "        5.85614842e+01,  5.71130089e+01,  5.56985934e+01,  5.43174720e+01,\n",
       "        5.29688953e+01,  5.16521302e+01,  5.03664592e+01,  4.91111803e+01,\n",
       "        4.78856068e+01,  4.66890666e+01,  4.55209024e+01,  4.43804709e+01,\n",
       "        4.32671429e+01,  4.21803028e+01,  4.11193483e+01,  4.00836903e+01,\n",
       "        3.90727524e+01,  3.80859853e+01,  3.71228283e+01,  3.61827324e+01,\n",
       "        3.52651740e+01,  3.43696409e+01,  3.34956318e+01,  3.26426561e+01,\n",
       "        3.18102339e+01,  3.09978953e+01,  3.02051808e+01,  2.94316407e+01,\n",
       "        2.86768352e+01,  2.79403337e+01,  2.72217151e+01,  2.65205676e+01,\n",
       "        2.58364880e+01,  2.51690823e+01,  2.45179647e+01,  2.38827581e+01,\n",
       "        2.32631008e+01,  2.26586324e+01,  2.20689915e+01,  2.14938359e+01,\n",
       "        2.09328308e+01,  2.03856486e+01,  1.98519686e+01,  1.93314772e+01,\n",
       "        1.88238676e+01,  1.83288394e+01,  1.78460990e+01,  1.73753589e+01,\n",
       "        1.69163382e+01,  1.64687619e+01,  1.60323610e+01,  1.56068725e+01,\n",
       "        1.51920392e+01,  1.47969118e+01,  1.44170285e+01,  1.40471214e+01,\n",
       "        1.36869513e+01,  1.33362841e+01,  1.29948912e+01,  1.26625472e+01,\n",
       "        1.23390315e+01,  1.20241278e+01,  1.17176245e+01,  1.14193132e+01,\n",
       "        1.11289912e+01,  1.08464610e+01,  1.05715270e+01,  1.03039980e+01,\n",
       "        1.00436866e+01,  9.79040976e+00,  9.54398831e+00,  9.30424711e+00,\n",
       "        9.07101485e+00,  8.84412407e+00,  8.62341107e+00,  8.40871226e+00,\n",
       "        8.19987576e+00,  7.99674710e+00,  7.79917547e+00,  7.60701364e+00,\n",
       "        7.42011787e+00,  7.23834788e+00,  7.06156675e+00,  6.88964087e+00,\n",
       "        6.72243987e+00,  6.55983654e+00,  6.40170369e+00,  6.24792287e+00,\n",
       "        6.09837609e+00,  5.95294663e+00,  5.81152075e+00,  5.67398766e+00,\n",
       "        5.54023943e+00,  5.41017092e+00,  5.28367972e+00,  5.16066610e+00,\n",
       "        5.04103293e+00,  4.92468517e+00,  4.81153053e+00,  4.70147952e+00,\n",
       "        4.59444394e+00,  4.49033801e+00,  4.38907827e+00,  4.29058355e+00,\n",
       "        4.19477489e+00,  4.10157550e+00,  4.01091069e+00,  3.92270784e+00,\n",
       "        3.83689631e+00,  3.75340745e+00,  3.67217447e+00,  3.59313245e+00,\n",
       "        3.51220202e+00,  3.42997486e+00,  3.34986721e+00,  3.27180789e+00,\n",
       "        3.19572862e+00,  3.12156379e+00,  3.04925328e+00,  2.97873272e+00,\n",
       "        2.90994699e+00,  2.84284348e+00,  2.77737149e+00,  2.71348215e+00,\n",
       "        2.65112835e+00,  2.59026470e+00,  2.53084807e+00,  2.47283645e+00,\n",
       "        2.41618994e+00,  2.36087087e+00,  2.30684279e+00,  2.25407047e+00,\n",
       "        2.20251983e+00,  2.15215790e+00,  2.10295258e+00,  2.05487353e+00,\n",
       "        2.00789118e+00,  1.96197687e+00,  1.91710284e+00,  1.87324219e+00,\n",
       "        1.83036889e+00,  1.78851341e+00,  1.74772892e+00,  1.70787270e+00,\n",
       "        1.66892410e+00,  1.63086264e+00,  1.59366828e+00,  1.55732143e+00,\n",
       "        1.52180294e+00,  1.48709408e+00,  1.45317653e+00,  1.42003225e+00,\n",
       "        1.38764372e+00,  1.35599378e+00,  1.32506557e+00,  1.29484270e+00,\n",
       "        1.26530909e+00,  1.23644898e+00,  1.20824707e+00,  1.18068836e+00,\n",
       "        1.15375820e+00,  1.12744223e+00,  1.10172647e+00,  1.07659722e+00,\n",
       "        1.05204113e+00,  1.02804512e+00,  1.00459642e+00,  9.81682561e-01,\n",
       "        9.59291345e-01,  9.37410858e-01,  9.16029454e-01,  8.95135756e-01,\n",
       "        8.74718643e-01,  8.54767248e-01,  8.35270954e-01,  8.16219270e-01,\n",
       "        7.97601997e-01,  7.79409497e-01,  7.61631677e-01,  7.44259381e-01,\n",
       "        7.27283012e-01,  7.10693210e-01,  6.94481917e-01,  6.78641145e-01,\n",
       "        6.63161617e-01,  6.48035117e-01,  6.33253605e-01,  6.18809223e-01,\n",
       "        6.04694279e-01,  5.90901265e-01,  5.77422845e-01,  5.64251840e-01,\n",
       "        5.51381229e-01,  5.38804168e-01,  5.26513964e-01,  5.14504074e-01,\n",
       "        5.02768109e-01,  4.91299820e-01,  4.80093106e-01,  4.69142001e-01,\n",
       "        4.58440676e-01,  4.47983436e-01,  4.37764672e-01,  4.27778961e-01,\n",
       "        4.18021003e-01,  4.08485604e-01,  3.99167689e-01,  3.90062297e-01,\n",
       "        3.81164581e-01,  3.72469805e-01,  3.63973341e-01,  3.55670666e-01,\n",
       "        3.47557360e-01,  3.39629104e-01,  3.31881678e-01,  3.24310930e-01,\n",
       "        3.16912854e-01,  3.09683515e-01,  3.02619063e-01,  2.95715737e-01,\n",
       "        2.88969862e-01,  2.82377847e-01,  2.75936182e-01,  2.69641439e-01,\n",
       "        2.63490265e-01,  2.57479388e-01,  2.51605605e-01,  2.45865792e-01,\n",
       "        2.40256892e-01,  2.34775919e-01,  2.29419956e-01,  2.24186154e-01,\n",
       "        2.19071720e-01,  2.14073935e-01,  2.09190137e-01,  2.04417728e-01,\n",
       "        1.99754168e-01,  1.95196974e-01,  1.90743720e-01,  1.86392036e-01,\n",
       "        1.82139603e-01,  1.77984159e-01,  1.73923493e-01,  1.69955441e-01,\n",
       "        1.66077893e-01,  1.62288783e-01,  1.58586094e-01,  1.54967856e-01])"
      ]
     },
     "execution_count": 352,
     "metadata": {},
     "output_type": "execute_result"
    }
   ],
   "source": [
    "red_chem_B_minus_L * np.exp(sol.t)"
   ]
  },
  {
   "cell_type": "code",
   "execution_count": null,
   "metadata": {},
   "outputs": [],
   "source": []
  }
 ],
 "metadata": {
  "kernelspec": {
   "display_name": "Python 3",
   "language": "python",
   "name": "python3"
  },
  "language_info": {
   "codemirror_mode": {
    "name": "ipython",
    "version": 3
   },
   "file_extension": ".py",
   "mimetype": "text/x-python",
   "name": "python",
   "nbconvert_exporter": "python",
   "pygments_lexer": "ipython3",
   "version": "3.8.5"
  }
 },
 "nbformat": 4,
 "nbformat_minor": 4
}
