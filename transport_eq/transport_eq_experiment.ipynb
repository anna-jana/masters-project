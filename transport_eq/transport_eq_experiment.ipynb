{
 "cells": [
  {
   "cell_type": "code",
   "execution_count": 47,
   "metadata": {},
   "outputs": [],
   "source": [
    "import numpy as np\n",
    "import matplotlib.pyplot as plt\n",
    "from scipy.integrate import solve_ivp\n",
    "from scipy.optimize import root\n",
    "import scipy.linalg as la\n",
    "import sys\n",
    "if \"..\" not in sys.path: sys.path.append(\"..\")\n",
    "from common import constants, cosmology"
   ]
  },
  {
   "cell_type": "markdown",
   "metadata": {},
   "source": [
    "## Standard Model "
   ]
  },
  {
   "cell_type": "code",
   "execution_count": null,
   "metadata": {},
   "outputs": [],
   "source": [
    "charge_vectors = np.array((\n",
    "    # e1 e2  e3 L1 L2 L3  u1  u2  u3  d1  d2  d3  Q1  Q2  Q3   H\n",
    "    ( 0,  0,  0, 1, 1, 1,  0,  0,  0,  0,  0,  0,  3,  3,  3,  0), # Weak Sphaleron\n",
    "    ( 0,  0,  0, 0, 0, 0, -1, -1, -1, -1, -1, -1,  2,  2,  2,  0), # Strong Sphaleron \n",
    "    (-1,  0,  0, 1, 0, 0,  0,  0,  0,  0,  0,  0,  0,  0,  0, -1), # Lepton Yukawa f = 1\n",
    "    ( 0, -1,  0, 0, 1, 0,  0,  0,  0,  0,  0,  0,  0,  0,  0, -1), # Lepton Yukawa f = 2\n",
    "    ( 0,  0, -1, 0, 0, 1,  0,  0,  0,  0,  0,  0,  0,  0,  0, -1), # Lepton Yukawa f = 3\n",
    "    (), # Quark Yukawa \n",
    "))\n",
    "\n",
    "rates = np.array((\n",
    "    \n",
    "))"
   ]
  },
  {
   "cell_type": "markdown",
   "metadata": {},
   "source": [
    "## For $T > 10^{13} \\mathrm{GeV}$"
   ]
  },
  {
   "cell_type": "code",
   "execution_count": 3,
   "metadata": {},
   "outputs": [],
   "source": [
    "N_interactions = 5\n",
    "charge_vectors = np.array((\n",
    "    # tau, L12, L3, u12, t, d12, b, Q12, Q3, H\n",
    "    # interactions:\n",
    "    (0,2,1,0,0,0,0,6,3,0), # WS\n",
    "    (0,0,0,-2,-1,-2,-1,4,2,0), # SS\n",
    "    (-1,0,1,0,0,0,0,0,0,1), # Y_tau\n",
    "    (0,0,0,0,-1,0,0,0,1,1), # Y_top\n",
    "    (0,0,0,0,0,0,-1,0,1,-1), # Y_b\n",
    "    # conserved quantaties:\n",
    "    (-1,-1/2,-1/2,2/3,2/3,-1/3,-1/3,1/6,1/6,1/2), # Y\n",
    "    (-1,-1,-1,1/3,1/3,1/3,1/3,1/3,1/3,0), # B - L\n",
    "    (0,0,0,1,0,-1,0,0,0,0), # u12 - d12\n",
    "    (-2,1,-2,0,0,0,0,0,0,0), # L12 - 2*L3\n",
    "    (0,0,0,1/3,-2/3,1/3,-2/3,1/3,-2/3,0), # B12 - 2*B3\n",
    "))"
   ]
  },
  {
   "cell_type": "code",
   "execution_count": 5,
   "metadata": {},
   "outputs": [],
   "source": [
    "dofs = np.array([1,4,2,6,3,6,3,12,6,4])"
   ]
  },
  {
   "cell_type": "code",
   "execution_count": 33,
   "metadata": {},
   "outputs": [],
   "source": [
    "def alpha2_running(q):\n",
    "    return ???\n",
    "\n",
    "def alpha3_running(q):\n",
    "    return ???\n",
    "\n",
    "def yukawa_running(q, f, f_prime):\n",
    "    return ????"
   ]
  },
  {
   "cell_type": "code",
   "execution_count": 55,
   "metadata": {},
   "outputs": [],
   "source": [
    "def calc_sphaleron_rate(T, N_H, N_c, alpha, N_f=6):\n",
    "    some_number = 3.041\n",
    "    g = np.sqrt(4*np.pi*alpha)\n",
    "    m_D = np.sqrt((2*N_c + N_f + N_H) / 6 * g**2 * T**2)\n",
    "\n",
    "    def gamma_eq(gamma):\n",
    "        return gamma - N_c * alpha * T * (np.log(m_D / gamma) + some_number)\n",
    "    p = - some_number * N_c * alpha * T\n",
    "    q = - N_c * alpha * T * m_D\n",
    "    guess = -p/2 + np.sqrt((p/2)**2 - q)\n",
    "    sol = root(gamma_eq, guess)\n",
    "    if not sol.success: return np.nan\n",
    "    gamma = sol.x[0]\n",
    "\n",
    "    Gamma_sphal = ( \n",
    "        0.21 / 2 * (N_c * g**2 * T**2 / m_D**2) * \n",
    "        (np.log(m_D / gamma) + some_number) * \n",
    "        (N_c**2 - 1) / N_c**2 * \n",
    "        (N_c * alpha)**5 * T**4\n",
    "    )\n",
    "    return Gamma_sphal\n",
    "\n",
    "alpha2 = \n",
    "def calc_Gamma_WS(T):\n",
    "    return calc_sphaleron_rate(T, N_H=1, N_c=2, alpha=alpha2)\n",
    "\n",
    "\n",
    "alpha3 = \n",
    "def calc_Gamma_SS(T):\n",
    "    return calc_sphaleron_rate(T, N_H=0, N_C=3, alpha=alpha3)"
   ]
  },
  {
   "cell_type": "code",
   "execution_count": 56,
   "metadata": {},
   "outputs": [],
   "source": [
    "Ts = np.geomspace(1e11, 1e13, 100)"
   ]
  },
  {
   "cell_type": "code",
   "execution_count": 43,
   "metadata": {},
   "outputs": [],
   "source": [
    "Gamma_WS_my = [calc_sphaleron_rate()]"
   ]
  },
  {
   "cell_type": "code",
   "execution_count": 46,
   "metadata": {},
   "outputs": [],
   "source": [
    "# not this one: -p/2 - np.sqrt((p/2)**2 - q)"
   ]
  },
  {
   "cell_type": "code",
   "execution_count": 50,
   "metadata": {},
   "outputs": [
    {
     "data": {
      "text/plain": [
       "282772153568.787"
      ]
     },
     "execution_count": 50,
     "metadata": {},
     "output_type": "execute_result"
    }
   ],
   "source": []
  },
  {
   "cell_type": "code",
   "execution_count": 59,
   "metadata": {},
   "outputs": [
    {
     "data": {
      "text/plain": [
       "<matplotlib.lines.Line2D at 0x7f1ea8cb09a0>"
      ]
     },
     "execution_count": 59,
     "metadata": {},
     "output_type": "execute_result"
    },
    {
     "data": {
      "image/png": "[encoded data removed]",
      "text/plain": [
       "<Figure size 432x288 with 1 Axes>"
      ]
     },
     "metadata": {
      "needs_background": "light"
     },
     "output_type": "display_data"
    }
   ],
   "source": [
    "gammas = np.linspace(0.01, m_D, 100)\n",
    "plt.plot(gammas, gamma_eq(gammas))\n",
    "plt.axvline(guess, ls=\"--\", color=\"black\")\n",
    "plt.axvline(gamma, ls=\"-\", color=\"black\")"
   ]
  },
  {
   "cell_type": "code",
   "execution_count": 53,
   "metadata": {},
   "outputs": [],
   "source": []
  },
  {
   "cell_type": "code",
   "execution_count": 54,
   "metadata": {},
   "outputs": [
    {
     "data": {
      "text/plain": [
       "5.090225885716629e+41"
      ]
     },
     "execution_count": 54,
     "metadata": {},
     "output_type": "execute_result"
    }
   ],
   "source": []
  },
  {
   "cell_type": "code",
   "execution_count": null,
   "metadata": {},
   "outputs": [],
   "source": []
  }
 ],
 "metadata": {
  "kernelspec": {
   "display_name": "Python 3",
   "language": "python",
   "name": "python3"
  },
  "language_info": {
   "codemirror_mode": {
    "name": "ipython",
    "version": 3
   },
   "file_extension": ".py",
   "mimetype": "text/x-python",
   "name": "python",
   "nbconvert_exporter": "python",
   "pygments_lexer": "ipython3",
   "version": "3.8.5"
  }
 },
 "nbformat": 4,
 "nbformat_minor": 4
}
