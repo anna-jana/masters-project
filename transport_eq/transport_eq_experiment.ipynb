{
 "cells": [
  {
   "cell_type": "code",
   "execution_count": 1,
   "metadata": {},
   "outputs": [],
   "source": [
    "import numpy as np\n",
    "import matplotlib.pyplot as plt\n",
    "from scipy.integrate import solve_ivp\n",
    "from scipy.optimize import root\n",
    "import scipy.linalg as la\n",
    "from scipy.interpolate import interp1d\n",
    "import sys\n",
    "if \"..\" not in sys.path: sys.path.append(\"..\")\n",
    "from common import constants, cosmology"
   ]
  },
  {
   "cell_type": "markdown",
   "metadata": {},
   "source": [
    "# $\\mathrm{B} - \\mathrm{L}$ Genesis"
   ]
  },
  {
   "cell_type": "markdown",
   "metadata": {},
   "source": [
    "## Warning: for different epoch change numbers!"
   ]
  },
  {
   "cell_type": "code",
   "execution_count": 2,
   "metadata": {},
   "outputs": [],
   "source": [
    "g2 = 0.55\n",
    "g3 = 0.6\n",
    "\n",
    "def g_to_alpha(g): return (g / (4*np.pi))**2\n",
    "\n",
    "alpha_2 = g_to_alpha(g2)\n",
    "alpha_3 = g_to_alpha(g3)\n",
    "\n",
    "Y_tau = 1e-2\n",
    "Y_top = 0.49\n",
    "Y_bottom = 6.8e-3\n",
    "\n",
    "kappa_tau = 1.7e-3\n",
    "\n",
    "def calc_yukawa_rate(T, kappa, Y):\n",
    "    return kappa * Y**2 * T**4\n",
    "\n",
    "def calc_yukawa_rate_tau(T):\n",
    "    return calc_yukawa_rate(T, kappa_tau, Y_tau)\n",
    "\n",
    "# log log -> no\n",
    "# log linear -> no\n",
    "\n",
    "kappa_quarks = np.array([8e-3, 1e-2, 1.2e-2])\n",
    "T_for_kappa_quarks = np.array([1e15, 1e12, 1e9])\n",
    "kappa_quark_interp = interp1d(T_for_kappa_quarks, kappa_quarks)\n",
    "\n",
    "def calc_yukawa_rate_quark(T, Y):\n",
    "    kappa = kappa_quarks[1] # kappa_quark_interp(T)\n",
    "    return calc_yukawa_rate(T, kappa, Y)\n",
    "\n",
    "def calc_yukawa_rate_top(T):\n",
    "    return calc_yukawa_rate_quark(T, Y_top)\n",
    "\n",
    "def calc_yukawa_rate_bottom(T):\n",
    "    return calc_yukawa_rate_quark(T, Y_bottom)"
   ]
  },
  {
   "cell_type": "code",
   "execution_count": 3,
   "metadata": {},
   "outputs": [],
   "source": [
    "def calc_sphaleron_rate(T, N_H, N_c\n",
    "                        , alpha, N_f=6):\n",
    "    some_number = 3.041\n",
    "    g = np.sqrt(4*np.pi*alpha)\n",
    "    m_D = np.sqrt((2*N_c + N_f + N_H) / 6 * g**2 * T**2)\n",
    "\n",
    "    def gamma_eq(gamma):\n",
    "        return gamma - N_c * alpha * T * (np.log(m_D / gamma) + some_number)\n",
    "    p = - some_number * N_c * alpha * T\n",
    "    q = - N_c * alpha * T * m_D\n",
    "    guess = -p/2 + np.sqrt((p/2)**2 - q)\n",
    "    sol = root(gamma_eq, guess)\n",
    "    if not sol.success: return np.nan\n",
    "    gamma = sol.x[0]\n",
    "\n",
    "    Gamma_sphal = ( \n",
    "        0.21 / 2 * (N_c * g**2 * T**2 / m_D**2) * \n",
    "        (np.log(m_D / gamma) + some_number) * \n",
    "        (N_c**2 - 1) / N_c**2 * \n",
    "        (N_c * alpha)**5 * T**4\n",
    "    )\n",
    "    return Gamma_sphal\n",
    "\n",
    "kappa_WS = 24 # for 1e12 GeV\n",
    "kappa_SS = 2.7e2 # for 1e13 GeV\n",
    "\n",
    "def calc_weak_sphaleron_rate(T):\n",
    "    return kappa_WS / 2 * alpha_2**5 * T**4\n",
    "    # return calc_sphaleron_rate(T, N_H=1, N_c=2, alpha=alpha2_running(T))\n",
    "\n",
    "def calc_strong_sphaleron_rate(T):\n",
    "    return kappa_SS / 2 * alpha_3**5 * T**4\n",
    "    # return calc_sphaleron_rate(T, N_H=0, N_C=3, alpha=alpha3_running(T))"
   ]
  },
  {
   "cell_type": "code",
   "execution_count": 4,
   "metadata": {},
   "outputs": [],
   "source": [
    "charge_vector = np.array((\n",
    "    # Interactions:\n",
    "    # tau, L12, L3, q12, t,  b,  Q12, Q3,  H\n",
    "    (0,    2,   1,  0,   0,  0,  6,   3,   0), # WS\n",
    "    (0,    0,   0, -4,  -1, -1,  4,   2,   0), # SS\n",
    "    (-1,   0,   1,  0,   0,  0,  0,   0,   1), # Y_tau\n",
    "    (0,    0,   0,  0,  -1,  0,  0,   1,   1), # Y_top\n",
    "    (0,    0,   0,  0,   0, -1,  0,   1,  -1), # Y_bottom\n",
    "    (0,    2,   0,  0,   0,  0,  0,   0,   2), # Weinberg_12\n",
    "    (0,    0,   2,  0,   0,  0,  0,   0,   2), # Weinberg_3\n",
    "    # Conserved Quantaties:\n",
    "    # tau, L12,  L3,   q12,   t,    b,  Q12,   Q3,  H\n",
    "    #( -1, -1/2, -1/2,  1/6,  2/3, -1/3, 1/6,  1/6, 1/2), # Y\n",
    "    #(  0,  0,    0,    1/3, -2/3, -2/3, 1/3, -2/3, 0),   # B12 - 2*B3\n",
    "))"
   ]
  },
  {
   "cell_type": "code",
   "execution_count": 5,
   "metadata": {},
   "outputs": [],
   "source": [
    "g = dofs = np.array([1,4,2,12,3,3,12,6,4])"
   ]
  },
  {
   "cell_type": "code",
   "execution_count": 6,
   "metadata": {},
   "outputs": [],
   "source": [
    "kappa_W = 3e-3\n",
    "nu_EW = 174 # [GeV]\n",
    "m_nu = 0.05 # np.sqrt(2.4e-3)\n",
    "def calc_weinberg_op_rate(T):\n",
    "    return kappa_W * m_nu**2 * T**6 / nu_EW**4"
   ]
  },
  {
   "cell_type": "code",
   "execution_count": 7,
   "metadata": {},
   "outputs": [],
   "source": [
    "def calc_rate_vector(T):\n",
    "    return np.array((\n",
    "        calc_weak_sphaleron_rate(T), # WS\n",
    "        calc_strong_sphaleron_rate(T), # SS\n",
    "        calc_yukawa_rate_tau(T), # Y_tau\n",
    "        calc_yukawa_rate_top(T), # Y_top\n",
    "        calc_yukawa_rate_bottom(T), # Y_bottom\n",
    "        calc_weinberg_op_rate(T), # W_12 # CORRECT?\n",
    "        calc_weinberg_op_rate(T), # W_3\n",
    "    ))"
   ]
  },
  {
   "cell_type": "code",
   "execution_count": 8,
   "metadata": {},
   "outputs": [],
   "source": [
    "#                                           WS SS  Ytau Yt Yb  W12  W3 \n",
    "source_vector_B_minus_L_current = np.array((0,  0,  0,  0,  0, -2, -2))\n",
    "source_vector_weak_sphaleron    = np.array((1,  0,  0,  0,  0,  0,  0))\n",
    "source_vector_strong_sphaleron  = np.array((0,  1,  0,  0,  0,  0,  0))"
   ]
  },
  {
   "cell_type": "code",
   "execution_count": 9,
   "metadata": {},
   "outputs": [],
   "source": [
    "initial_chemical_potentials = np.zeros(charge_vector.shape[1])\n",
    "T_RH = 1e15\n",
    "\n",
    "# a dot / f / T\n",
    "eta0 = -1e-9\n",
    "def calc_axion_motion(T):\n",
    "    return eta0"
   ]
  },
  {
   "cell_type": "code",
   "execution_count": 82,
   "metadata": {},
   "outputs": [],
   "source": [
    "# red_chem = reduced chemical potential = mu / T = chemical potetial / temperature\n",
    "inv_red_chem_unit = 1e15"
   ]
  },
  {
   "cell_type": "code",
   "execution_count": 83,
   "metadata": {},
   "outputs": [],
   "source": [
    "def transport_eq_rhs(log_T, red_chem_pot, n_S, n):\n",
    "    T = np.exp(log_T)\n",
    "    H = cosmology.calc_hubble_parameter(cosmology.calc_radiation_energy_density(T))\n",
    "    gamma = calc_rate_vector(T) / (T**3 / 6)\n",
    "    axion_motion = calc_axion_motion(T) * inv_red_chem_unit\n",
    "    d_red_chem_pot_d_ln_T = np.array([\n",
    "        1 / g[i] * sum(n[alpha, i] * gamma[alpha] / H * \n",
    "                       (np.dot(n[alpha, :], red_chem_pot) - n_S[alpha] * axion_motion) \n",
    "                        for alpha in range(n.shape[0]))\n",
    "            for i in range(n.shape[1])])\n",
    "    return d_red_chem_pot_d_ln_T"
   ]
  },
  {
   "cell_type": "code",
   "execution_count": 84,
   "metadata": {},
   "outputs": [],
   "source": [
    "start = np.log(T_RH)\n",
    "end = np.log(1e10)\n",
    "num_steps = 500\n",
    "steps = np.linspace(start, end, num_steps)\n",
    "steps[0] = start; steps[-1] = end"
   ]
  },
  {
   "cell_type": "code",
   "execution_count": 85,
   "metadata": {},
   "outputs": [],
   "source": [
    "sol = solve_ivp(transport_eq_rhs, (start, end), initial_chemical_potentials, \n",
    "         args=(source_vector_weak_sphaleron, charge_vector), \n",
    "         method=\"BDF\", rtol=1e-5, t_eval=steps)"
   ]
  },
  {
   "cell_type": "code",
   "execution_count": 86,
   "metadata": {},
   "outputs": [],
   "source": [
    "charge_names = [\"tau\", \"L12\", \"L3\", \"q12\", \"t\", \"b\", \"Q12\", \"Q3\", \"H\"]"
   ]
  },
  {
   "cell_type": "code",
   "execution_count": 87,
   "metadata": {},
   "outputs": [
    {
     "data": {
      "text/plain": [
       "<matplotlib.legend.Legend at 0x7ff451fcafd0>"
      ]
     },
     "execution_count": 87,
     "metadata": {},
     "output_type": "execute_result"
    },
    {
     "data": {
      "image/png": "[encoded data removed]",
      "text/plain": [
       "<Figure size 432x288 with 1 Axes>"
      ]
     },
     "metadata": {
      "needs_background": "light"
     },
     "output_type": "display_data"
    }
   ],
   "source": [
    "for name, y in zip(charge_names, sol.y):\n",
    "    plt.loglog(np.exp(sol.t), np.abs(y) / inv_red_chem_unit, label=name)\n",
    "plt.ylabel(r\"$|\\mu / T|$\")\n",
    "plt.xlabel(r\"T / GeV\")\n",
    "plt.gca().invert_xaxis()\n",
    "plt.legend(ncol=2)"
   ]
  },
  {
   "cell_type": "code",
   "execution_count": null,
   "metadata": {},
   "outputs": [],
   "source": []
  }
 ],
 "metadata": {
  "kernelspec": {
   "display_name": "Python 3",
   "language": "python",
   "name": "python3"
  },
  "language_info": {
   "codemirror_mode": {
    "name": "ipython",
    "version": 3
   },
   "file_extension": ".py",
   "mimetype": "text/x-python",
   "name": "python",
   "nbconvert_exporter": "python",
   "pygments_lexer": "ipython3",
   "version": "3.8.5"
  }
 },
 "nbformat": 4,
 "nbformat_minor": 4
}
