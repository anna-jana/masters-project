{
 "cells": [
  {
   "cell_type": "code",
   "execution_count": 1,
   "metadata": {},
   "outputs": [],
   "source": [
    "from importlib import reload\n",
    "import numpy as np\n",
    "import matplotlib.pyplot as plt\n",
    "\n",
    "import axion_motion\n",
    "import axion_decay\n",
    "import transport_equation\n",
    "import model\n",
    "from common import cosmology, constants, util\n",
    "import axion_leptogenesis.model\n",
    "from common.rh_neutrino import calc_Gamma_a_SU2"
   ]
  },
  {
   "cell_type": "code",
   "execution_count": 2,
   "metadata": {},
   "outputs": [],
   "source": [
    "m_a, Gamma_phi = 215443469.00318778, 1000000.0\n",
    "H_inf = 2e10\n",
    "f_a = 3e14"
   ]
  },
  {
   "cell_type": "code",
   "execution_count": 7,
   "metadata": {},
   "outputs": [
    {
     "name": "stdout",
     "output_type": "stream",
     "text": [
      "CPU times: user 13.4 s, sys: 12 ms, total: 13.4 s\n",
      "Wall time: 13.4 s\n"
     ]
    }
   ],
   "source": [
    "%%time\n",
    "decay_rate = calc_Gamma_a_SU2(m_a, f_a)\n",
    "m = model.AxionBaryogenesisModel(transport_equation.source_vector_B_minus_L_current, axion_motion.axion_rhs_simple, axion_motion.calc_d2Vdtheta2_simple, decay_rate, (m_a,))\n",
    "T_RH = cosmology.calc_reheating_temperature(Gamma_phi)\n",
    "sol = model.start(m, T_RH, (1, 0), options=model.SolverOptions(num_osc=10), calc_axion_mass=axion_motion.calc_const_axion_mass, T_end=1.369557e+11)"
   ]
  },
  {
   "cell_type": "code",
   "execution_count": 11,
   "metadata": {},
   "outputs": [
    {
     "data": {
      "text/plain": [
       "[<matplotlib.lines.Line2D at 0x7faf47460a30>]"
      ]
     },
     "execution_count": 11,
     "metadata": {},
     "output_type": "execute_result"
    },
    {
     "data": {
      "image/png": "[encoded data removed]",
      "text/plain": [
       "<Figure size 432x288 with 1 Axes>"
      ]
     },
     "metadata": {
      "needs_background": "light"
     },
     "output_type": "display_data"
    }
   ],
   "source": [
    "plt.loglog(sol.T, -sol.red_chem_B_minus_L)"
   ]
  },
  {
   "cell_type": "code",
   "execution_count": null,
   "metadata": {},
   "outputs": [],
   "source": []
  }
 ],
 "metadata": {
  "kernelspec": {
   "display_name": "Python 3",
   "language": "python",
   "name": "python3"
  },
  "language_info": {
   "codemirror_mode": {
    "name": "ipython",
    "version": 3
   },
   "file_extension": ".py",
   "mimetype": "text/x-python",
   "name": "python",
   "nbconvert_exporter": "python",
   "pygments_lexer": "ipython3",
   "version": "3.8.5"
  }
 },
 "nbformat": 4,
 "nbformat_minor": 4
}
