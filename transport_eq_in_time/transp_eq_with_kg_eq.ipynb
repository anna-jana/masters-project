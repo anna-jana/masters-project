{
 "cells": [
  {
   "cell_type": "code",
   "execution_count": 1,
   "metadata": {},
   "outputs": [],
   "source": [
    "from importlib import reload\n",
    "import time\n",
    "import numpy as np\n",
    "import matplotlib.pyplot as plt\n",
    "from scipy.integrate import solve_ivp\n",
    "import axion_motion\n",
    "import model\n",
    "import transport_equation\n",
    "import reheating\n",
    "from common import cosmology, constants, util\n",
    "from common.rh_neutrino import calc_Gamma_a_SU2\n",
    "from transport_eq import model as rad_dom_model\n",
    "from transport_eq import axion_motion as rad_dom_axion_motion\n",
    "from axion_leptogenesis import model as original_model"
   ]
  },
  {
   "cell_type": "code",
   "execution_count": 2,
   "metadata": {},
   "outputs": [
    {
     "name": "stdout",
     "output_type": "stream",
     "text": [
      "m_a(T_osc) = 4.496386e+09\n",
      "Gamma_phi(T_RH) = 2.50e+06\n"
     ]
    }
   ],
   "source": [
    "T_osc = 4e13\n",
    "T_RH = 1e12\n",
    "m_a = 2 * cosmology.calc_hubble_parameter(cosmology.calc_radiation_energy_density(T_osc))\n",
    "print(\"m_a(T_osc) = %e\" % m_a)\n",
    "m_a = 1e10\n",
    "# T_dec = 1e11\n",
    "decay_rate = 0 # cosmology.calc_hubble_parameter(cosmology.calc_radiation_energy_density(T_dec))\n",
    "Gamma_phi = cosmology.calc_inflaton_decay_rate_from_reheating_temperature(T_RH)\n",
    "print(f\"Gamma_phi(T_RH) = {Gamma_phi:.2e}\")\n",
    "H_inf = 1e12 "
   ]
  },
  {
   "cell_type": "code",
   "execution_count": 3,
   "metadata": {},
   "outputs": [],
   "source": [
    "m = model.AxionBaryogenesisModel(transport_equation.source_vector_weak_sphaleron, axion_motion.axion_rhs_simple, \n",
    "                                     axion_motion.calc_d2Vdtheta2_simple, decay_rate, (m_a,), Gamma_phi, H_inf)\n",
    "m2 = rad_dom_model.AxionBaryogenesisModel(transport_equation.source_vector_weak_sphaleron, rad_dom_axion_motion.axion_rhs_simple, \n",
    "                                     rad_dom_axion_motion.calc_d2Vdtheta2_simple, decay_rate, (m_a,))"
   ]
  },
  {
   "cell_type": "code",
   "execution_count": 4,
   "metadata": {},
   "outputs": [
    {
     "name": "stdout",
     "output_type": "stream",
     "text": [
      "solving: 1e-12 5e-06\n",
      "reheating done\n",
      "axion done\n",
      "transport eq done\n",
      "CPU times: user 5min 3s, sys: 395 ms, total: 5min 3s\n",
      "Wall time: 5min 3s\n"
     ]
    }
   ],
   "source": [
    "%time ress = model.solve_to_end(m, (1, 0), calc_axion_mass=axion_motion.calc_const_axion_mass, collect=True, t_end=5e-6)"
   ]
  },
  {
   "cell_type": "code",
   "execution_count": null,
   "metadata": {},
   "outputs": [],
   "source": [
    "%time ress2 = rad_dom_model.solve_to_end(m2, T_RH, (1, 0), calc_axion_mass=axion_motion.calc_const_axion_mass, T_end=4e11, collect=True)"
   ]
  },
  {
   "cell_type": "code",
   "execution_count": 6,
   "metadata": {},
   "outputs": [],
   "source": [
    "def plot(ress, ress2, filename=None):\n",
    "    plt.figure(figsize=(15,5))\n",
    "\n",
    "    for i, (res, res2) in enumerate(zip(ress, ress2)):\n",
    "        plt.subplot(1,2,1)\n",
    "        plt.loglog(res.t, -transport_equation.calc_B_minus_L(res.red_chem_pots), color=\"black\", label=\"reheating\" if i == 0 else None)\n",
    "        t = cosmology.switch_hubble_and_time_rad_dom(cosmology.calc_hubble_parameter(cosmology.calc_radiation_energy_density(res2.T)))\n",
    "        plt.loglog(t, -transport_equation.calc_B_minus_L(res2.red_chem_pots), color=\"red\", label=\"radiation domination\" if i == 0 else None)\n",
    "\n",
    "        plt.subplot(1,2,2)\n",
    "        T = res.T_fn(res.t)\n",
    "        plt.loglog(T, -transport_equation.calc_B_minus_L(res.red_chem_pots), color=\"black\", label=\"reheating\" if i == 0 else None)\n",
    "        plt.loglog(res2.T, -transport_equation.calc_B_minus_L(res2.red_chem_pots), color=\"red\", label=\"radiation domination\" if i == 0 else None)\n",
    "\n",
    "    plt.subplot(1,2,1)\n",
    "    plt.ylim(1e-15, 1e-7)\n",
    "    plt.xlabel(\"t * GeV\", fontsize=15)\n",
    "    plt.ylabel(r\"$\\mu_{B - L} / T$\", fontsize=15)\n",
    "    plt.legend()\n",
    "\n",
    "    plt.subplot(1,2,2)\n",
    "    plt.ylim(1e-15, 1e-7)\n",
    "    plt.xlabel(\"T / GeV\", fontsize=15)\n",
    "    plt.gca().invert_xaxis()\n",
    "    plt.yticks([])\n",
    "    plt.legend()\n",
    "    \n",
    "    plt.tight_layout()\n",
    "    \n",
    "    if filename is not None:\n",
    "        plt.savefig(util.make_plot_path(filename))\n",
    "    \n",
    "    plt.show()"
   ]
  },
  {
   "cell_type": "code",
   "execution_count": null,
   "metadata": {},
   "outputs": [],
   "source": [
    "roots = lambda theta: np.sum(np.sign(theta[:-1]) != np.sign(theta[1:]))\n",
    "sum([roots(res.axion[0]) for res in ress])"
   ]
  },
  {
   "cell_type": "code",
   "execution_count": null,
   "metadata": {},
   "outputs": [],
   "source": [
    "plot(ress, ress2, \"rh_vs_raddom_bad_case.pdf\")"
   ]
  },
  {
   "cell_type": "code",
   "execution_count": null,
   "metadata": {},
   "outputs": [],
   "source": []
  },
  {
   "cell_type": "code",
   "execution_count": 3,
   "metadata": {},
   "outputs": [],
   "source": [
    "m_a = 1e6\n",
    "Gamma_phi = cosmology.calc_inflaton_decay_rate_from_reheating_temperature(T_RH)"
   ]
  },
  {
   "cell_type": "code",
   "execution_count": 4,
   "metadata": {},
   "outputs": [],
   "source": [
    "m = model.AxionBaryogenesisModel(transport_equation.source_vector_weak_sphaleron, axion_motion.axion_rhs_simple, \n",
    "                                     axion_motion.calc_d2Vdtheta2_simple, decay_rate, (m_a,), Gamma_phi, H_inf)\n",
    "m2 = rad_dom_model.AxionBaryogenesisModel(transport_equation.source_vector_weak_sphaleron, rad_dom_axion_motion.axion_rhs_simple, \n",
    "                                     rad_dom_axion_motion.calc_d2Vdtheta2_simple, decay_rate, (m_a,))"
   ]
  },
  {
   "cell_type": "code",
   "execution_count": 5,
   "metadata": {},
   "outputs": [
    {
     "name": "stdout",
     "output_type": "stream",
     "text": [
      "solving: 1e-12 5e-05\n",
      "reheating done\n",
      "axion done\n",
      "transport eq done\n",
      "CPU times: user 1.25 s, sys: 4.23 ms, total: 1.26 s\n",
      "Wall time: 1.27 s\n",
      "CPU times: user 1.46 s, sys: 3.93 ms, total: 1.47 s\n",
      "Wall time: 1.47 s\n"
     ]
    }
   ],
   "source": [
    "%time ress_good = model.solve_to_end(m, (1, 0), calc_axion_mass=axion_motion.calc_const_axion_mass, collect=True, t_end=5e-5)\n",
    "%time ress2_good = rad_dom_model.solve_to_end(m2, T_RH, (1, 0), calc_axion_mass=axion_motion.calc_const_axion_mass, T_end=4e11, collect=True)"
   ]
  },
  {
   "cell_type": "code",
   "execution_count": 7,
   "metadata": {},
   "outputs": [
    {
     "name": "stderr",
     "output_type": "stream",
     "text": [
      "<ipython-input-6-dbcb5bbaa7d6>:5: MatplotlibDeprecationWarning: Adding an axes using the same arguments as a previous axes currently reuses the earlier instance.  In a future version, a new instance will always be created and returned.  Meanwhile, this warning can be suppressed, and the future behavior ensured, by passing a unique label to each axes instance.\n",
      "  plt.subplot(1,2,1)\n",
      "<ipython-input-6-dbcb5bbaa7d6>:10: MatplotlibDeprecationWarning: Adding an axes using the same arguments as a previous axes currently reuses the earlier instance.  In a future version, a new instance will always be created and returned.  Meanwhile, this warning can be suppressed, and the future behavior ensured, by passing a unique label to each axes instance.\n",
      "  plt.subplot(1,2,2)\n",
      "<ipython-input-6-dbcb5bbaa7d6>:15: MatplotlibDeprecationWarning: Adding an axes using the same arguments as a previous axes currently reuses the earlier instance.  In a future version, a new instance will always be created and returned.  Meanwhile, this warning can be suppressed, and the future behavior ensured, by passing a unique label to each axes instance.\n",
      "  plt.subplot(1,2,1)\n",
      "<ipython-input-6-dbcb5bbaa7d6>:21: MatplotlibDeprecationWarning: Adding an axes using the same arguments as a previous axes currently reuses the earlier instance.  In a future version, a new instance will always be created and returned.  Meanwhile, this warning can be suppressed, and the future behavior ensured, by passing a unique label to each axes instance.\n",
      "  plt.subplot(1,2,2)\n"
     ]
    },
    {
     "data": {
      "image/png": "[encoded data removed]",
      "text/plain": [
       "<Figure size 1080x360 with 2 Axes>"
      ]
     },
     "metadata": {
      "needs_background": "light"
     },
     "output_type": "display_data"
    }
   ],
   "source": [
    "plot(ress_good, ress2_good, \"rh_vs_raddom_good_case.pdf\")"
   ]
  },
  {
   "cell_type": "code",
   "execution_count": null,
   "metadata": {},
   "outputs": [],
   "source": [
    "m_a_range = np.geomspace(1e6, 1e9, 21)\n",
    "Gamma_phi_range = np.geomspace(1e6, 1e9, 20)\n",
    "H_inf = 2e10\n",
    "f_a = 3e14"
   ]
  },
  {
   "cell_type": "code",
   "execution_count": null,
   "metadata": {},
   "outputs": [],
   "source": [
    "%%time\n",
    "def f(m_a, Gamma_phi):\n",
    "    start_time = time.time()\n",
    "    print(f\"starting m_a = {m_a:.2e}, Gamma_phi = {Gamma_phi:.2e}\", end=\"\")\n",
    "    ans = model.solve(model.AxionBaryogenesisModel(transport_equation.source_vector_weak_sphaleron, axion_motion.axion_rhs_simple, \n",
    "                                                           axion_motion.calc_d2Vdtheta2_simple, calc_Gamma_a_SU2(m_a, f_a), (m_a,), Gamma_phi, H_inf),\n",
    "                              (1,0), f_a, calc_axion_mass=axion_motion.calc_const_axion_mass)\n",
    "    end_time = time.time()\n",
    "    print(\" done in\", end_time - start_time, \"seconds\")\n",
    "    return ans\n",
    "eta_B_rh = [[f(m_a, Gamma_phi) for m_a in m_a_range] for Gamma_phi in Gamma_phi_range]"
   ]
  },
  {
   "cell_type": "code",
   "execution_count": null,
   "metadata": {},
   "outputs": [],
   "source": [
    "%%time\n",
    "eta_B_rad_dom = [[rad_dom_model.solve(rad_dom_model.AxionBaryogenesisModel(transport_equation.source_vector_weak_sphaleron, rad_dom_axion_motion.axion_rhs_simple, \n",
    "                                                                      rad_dom_axion_motion.calc_d2Vdtheta2_simple, calc_Gamma_a_SU2(m_a, f_a), (m_a,)), \n",
    "                                 cosmology.calc_reheating_temperature(Gamma_phi), (1,0), f_a, calc_axion_mass=rad_dom_axion_motion.calc_const_axion_mass)\n",
    "                for m_a in m_a_range] for Gamma_phi in Gamma_phi_range]"
   ]
  },
  {
   "cell_type": "code",
   "execution_count": null,
   "metadata": {},
   "outputs": [],
   "source": [
    "%%time\n",
    "eta_B_original = [[original_model.compute_B_asymmetry(m_a, f_a, Gamma_phi, H_inf) for m_a in m_a_range] for Gamma_phi in Gamma_phi_range]"
   ]
  },
  {
   "cell_type": "code",
   "execution_count": null,
   "metadata": {},
   "outputs": [],
   "source": [
    "fname = \"background_cosmology_comparison.pkl\"\n",
    "#util.save_data(fname, m_a_range, Gamma_phi_range, H_inf, f_a, eta_B_original, eta_B_rad_dom, eta_B_rh)\n",
    "#m_a_range, Gamma_phi_range, H_inf, f_a, eta_B_original, eta_B_rad_dom, eta_B_rh = util.load_data(fname)"
   ]
  },
  {
   "cell_type": "code",
   "execution_count": null,
   "metadata": {},
   "outputs": [],
   "source": [
    "levels = np.hstack([np.arange(np.floor(np.log10(min(np.min(eta_B_rad_dom), np.min(eta_B_rh)))), \n",
    "          np.ceil(np.log10(max(np.max(eta_B_rad_dom), np.max(eta_B_rh)))),\n",
    "          1), np.log10(constants.eta_B_observed)])\n",
    "levels.sort()\n",
    "\n",
    "CS = plt.contour(m_a_range, Gamma_phi_range, np.log10(eta_B_rad_dom), levels)\n",
    "plt.colorbar().set_label(r\"$\\log_{10} (\\eta_B^0)$\", fontsize=15)\n",
    "CS.collections[np.where(CS.levels == np.log10(constants.eta_B_observed))[0][0]].set_color(\"red\")\n",
    "\n",
    "CS2 = plt.contour(m_a_range, Gamma_phi_range, np.log10(eta_B_rh), levels, linestyles=\"--\")\n",
    "CS2.collections[np.where(CS2.levels == np.log10(constants.eta_B_observed))[0][0]].set_color(\"red\")\n",
    "\n",
    "CS3 = plt.contour(m_a_range, Gamma_phi_range, np.log10(eta_B_original), levels, linestyles=\":\")\n",
    "CS3.collections[np.where(CS3.levels == np.log10(constants.eta_B_observed))[0][0]].set_color(\"red\")\n",
    "\n",
    "plt.title(f\"f_a = {f_a:.2e} GeV\", fontsize=15)\n",
    "plt.xscale(\"log\"); plt.yscale(\"log\")\n",
    "plt.xlabel(\"$m_a$ / GeV\", fontsize=15)\n",
    "plt.ylabel(r\"$\\Gamma_\\phi$ / GeV\", fontsize=15)\n",
    "h1, _ = CS.legend_elements()\n",
    "h2, _ = CS2.legend_elements()\n",
    "h3, _ = CS3.legend_elements()\n",
    "plt.legend([h1[0], h2[0], h3[0]], [\"pure rad. dom.\", \"reheating\", \"original\"], framealpha=1.0, loc=4)\n",
    "plt.tight_layout()\n",
    "plt.savefig(util.make_plot_path(\"rad_dom_vs_rh_parameter_space.pdf\"))"
   ]
  },
  {
   "cell_type": "code",
   "execution_count": null,
   "metadata": {},
   "outputs": [],
   "source": [
    "t_start, init = reheating.calc_initial_reheating(H_inf)\n",
    "t_end = 1e3*cosmology.switch_hubble_and_time_rad_dom(\n",
    "    cosmology.calc_hubble_parameter(cosmology.calc_radiation_energy_density(cosmology.calc_reheating_temperature(Gamma_phi))))\n",
    "T_fn, H_fn, T_dot_fn, _ = reheating.solve_reheating_eq(t_start, t_end, init, Gamma_phi)\n",
    "ts = np.geomspace(t_start, t_end, 300)"
   ]
  },
  {
   "cell_type": "code",
   "execution_count": null,
   "metadata": {},
   "outputs": [],
   "source": [
    "def axion_jac(t, y):\n",
    "    theta, theta_dot = y\n",
    "    H = H_fn(t)\n",
    "    T = T_fn(t)\n",
    "    return np.array([\n",
    "        [0,                                                     -1],\n",
    "        [- axion_motion.calc_d2Vdtheta2_simple(T, theta, m_a), -3*H]\n",
    "    ])"
   ]
  },
  {
   "cell_type": "code",
   "execution_count": null,
   "metadata": {},
   "outputs": [],
   "source": [
    "from numba import njit"
   ]
  },
  {
   "cell_type": "code",
   "execution_count": null,
   "metadata": {},
   "outputs": [],
   "source": [
    "type(T_fn)"
   ]
  },
  {
   "cell_type": "code",
   "execution_count": null,
   "metadata": {},
   "outputs": [],
   "source": [
    "%%time\n",
    "\n",
    "m_a = 1e10\n",
    "\n",
    "def rhs(log_t, y):\n",
    "    theta, v = y\n",
    "    t = np.exp(log_t)\n",
    "    T = T_fn(t)\n",
    "    H = H_fn(t)\n",
    "    return (\n",
    "        v * t,\n",
    "        (- 3 * H_fn(t) * v - m_a**2 * theta) * t\n",
    "    ) \n",
    "\n",
    "sol = solve_ivp(rhs, (np.log(t_start), np.log(5e-6)), (1, 0), dense_output=True, rtol=1e-3)"
   ]
  },
  {
   "cell_type": "code",
   "execution_count": null,
   "metadata": {},
   "outputs": [],
   "source": [
    "plt.l"
   ]
  },
  {
   "cell_type": "code",
   "execution_count": null,
   "metadata": {},
   "outputs": [],
   "source": [
    "theta = sol.sol(sol.t)[0]"
   ]
  },
  {
   "cell_type": "code",
   "execution_count": null,
   "metadata": {},
   "outputs": [],
   "source": [
    "plt.plot(sol.t, theta)"
   ]
  },
  {
   "cell_type": "code",
   "execution_count": null,
   "metadata": {},
   "outputs": [],
   "source": [
    "theta_dot = sol.sol(sol.t)[1]\n",
    "c = theta + theta_dot/m_a*1j\n",
    "a = np.angle(c)\n",
    "r = np.abs(c)"
   ]
  },
  {
   "cell_type": "code",
   "execution_count": null,
   "metadata": {},
   "outputs": [],
   "source": [
    "plt.loglog(sol.t, r)\n",
    "plt.loglog(sol.t, a)"
   ]
  },
  {
   "cell_type": "code",
   "execution_count": null,
   "metadata": {},
   "outputs": [],
   "source": [
    "plt.plot(theta, theta_dot/m_a)"
   ]
  },
  {
   "cell_type": "code",
   "execution_count": null,
   "metadata": {},
   "outputs": [],
   "source": []
  }
 ],
 "metadata": {
  "kernelspec": {
   "display_name": "Python 3",
   "language": "python",
   "name": "python3"
  },
  "language_info": {
   "codemirror_mode": {
    "name": "ipython",
    "version": 3
   },
   "file_extension": ".py",
   "mimetype": "text/x-python",
   "name": "python",
   "nbconvert_exporter": "python",
   "pygments_lexer": "ipython3",
   "version": "3.8.5"
  }
 },
 "nbformat": 4,
 "nbformat_minor": 4
}
