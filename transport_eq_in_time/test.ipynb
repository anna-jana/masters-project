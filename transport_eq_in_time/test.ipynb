{
 "cells": [
  {
   "cell_type": "code",
   "execution_count": 94,
   "id": "6f33e3a1-e567-40c8-8b83-b62c7c1b735f",
   "metadata": {},
   "outputs": [],
   "source": [
    "%run test.py"
   ]
  },
  {
   "cell_type": "code",
   "execution_count": 5,
   "id": "7aaf4dfa-9224-4254-a217-1010a631da6e",
   "metadata": {},
   "outputs": [],
   "source": [
    "%run convergence.py"
   ]
  },
  {
   "cell_type": "code",
   "execution_count": 6,
   "id": "1b046fea-9804-44c7-bd56-bd893e39c57c",
   "metadata": {
    "tags": []
   },
   "outputs": [
    {
     "name": "stdout",
     "output_type": "stream",
     "text": [
      "step: 1 of 110"
     ]
    },
    {
     "name": "stderr",
     "output_type": "stream",
     "text": [
      "/home/jana/Documents/masters-project/transport_eq_in_time/convergence.py:95: RuntimeWarning: invalid value encountered in log\n",
      "  log_ts_inf = np.linspace(np.log(decay_process.t0 + tmax_inf_time - conv_factor * step_tmax_axion_time),\n"
     ]
    },
    {
     "name": "stdout",
     "output_type": "stream",
     "text": [
      " done (1.423844 seconds)\n",
      "step: 2 of 110 done (1.246334 seconds)\n",
      "step: 3 of 110 done (1.264973 seconds)\n",
      "step: 4 of 110 done (1.506800 seconds)\n",
      "step: 5 of 110 done (1.915652 seconds)\n",
      "step: 6 of 110 done (2.487858 seconds)\n",
      "step: 7 of 110 done (3.976478 seconds)\n",
      "step: 8 of 110 done (6.034357 seconds)\n",
      "step: 9 of 110 done (13.155241 seconds)\n",
      "step: 10 of 110 done (40.582292 seconds)\n",
      "step: 11 of 110 done (1.293783 seconds)\n",
      "step: 12 of 110 done (1.181269 seconds)\n",
      "step: 13 of 110 done (1.191313 seconds)\n",
      "step: 14 of 110 done (1.189224 seconds)\n",
      "step: 15 of 110 done (1.394260 seconds)\n",
      "step: 16 of 110 done (1.707989 seconds)\n",
      "step: 17 of 110 done (2.309880 seconds)\n",
      "step: 18 of 110 done (3.547410 seconds)\n",
      "step: 19 of 110 done (5.954037 seconds)\n",
      "step: 20 of 110 done (12.978670 seconds)\n",
      "step: 21 of 110 done (1.308818 seconds)\n",
      "step: 22 of 110 done (1.215898 seconds)\n",
      "step: 23 of 110 done (1.117695 seconds)\n",
      "step: 24 of 110 done (1.156222 seconds)\n",
      "step: 25 of 110 done (1.282083 seconds)\n",
      "step: 26 of 110 done (1.481055 seconds)\n",
      "step: 27 of 110 done (1.694645 seconds)\n",
      "step: 28 of 110 done (2.325135 seconds)\n",
      "step: 29 of 110 done (3.615224 seconds)\n",
      "step: 30 of 110 done (6.227837 seconds)\n",
      "step: 31 of 110 done (1.361028 seconds)\n",
      "step: 32 of 110 done (1.197984 seconds)\n",
      "step: 33 of 110 done (1.157778 seconds)\n",
      "step: 34 of 110 done (1.196640 seconds)\n",
      "step: 35 of 110 done (1.305429 seconds)\n",
      "step: 36 of 110 done (1.429443 seconds)\n",
      "step: 37 of 110 done (1.480004 seconds)\n",
      "step: 38 of 110 done (1.648739 seconds)\n",
      "step: 39 of 110 done (2.300321 seconds)\n",
      "step: 40 of 110 done (3.635951 seconds)\n",
      "step: 41 of 110 done (1.375617 seconds)\n",
      "step: 42 of 110 done (1.256046 seconds)\n",
      "step: 43 of 110 done (1.211465 seconds)\n",
      "step: 44 of 110 done (1.230753 seconds)\n",
      "step: 45 of 110 done (1.358273 seconds)\n",
      "step: 46 of 110 done (1.511492 seconds)\n",
      "step: 47 of 110 done (1.571258 seconds)\n",
      "step: 48 of 110 done (1.558634 seconds)\n",
      "step: 49 of 110 done (1.561422 seconds)\n",
      "step: 50 of 110 done (2.345377 seconds)\n",
      "step: 51 of 110 done (1.362282 seconds)\n",
      "step: 52 of 110 done (1.282598 seconds)\n",
      "step: 53 of 110 done (1.224818 seconds)\n",
      "step: 54 of 110 done (1.220423 seconds)\n",
      "step: 55 of 110 done (1.407795 seconds)\n",
      "step: 56 of 110 done (1.532153 seconds)\n",
      "step: 57 of 110 done (1.678706 seconds)\n",
      "step: 58 of 110 done (1.749219 seconds)\n",
      "step: 59 of 110 done (1.527395 seconds)\n",
      "step: 60 of 110 done (1.610015 seconds)\n",
      "step: 61 of 110 done (1.387540 seconds)\n",
      "step: 62 of 110 done (1.303220 seconds)\n",
      "step: 63 of 110 done (1.246743 seconds)\n",
      "step: 64 of 110 done (1.318853 seconds)\n",
      "step: 65 of 110 done (1.459228 seconds)\n",
      "step: 66 of 110 done (1.566751 seconds)\n",
      "step: 67 of 110 done (1.803909 seconds)\n",
      "step: 68 of 110 done (1.979447 seconds)\n",
      "step: 69 of 110 done (2.031174 seconds)\n",
      "step: 70 of 110 done (1.650244 seconds)\n",
      "step: 71 of 110 done (1.381224 seconds)\n",
      "step: 72 of 110 done (1.292321 seconds)\n",
      "step: 73 of 110 done (1.271865 seconds)\n",
      "step: 74 of 110 done (1.343512 seconds)\n",
      "step: 75 of 110 done (1.491094 seconds)\n",
      "step: 76 of 110 done (1.608289 seconds)\n",
      "step: 77 of 110 done (1.891320 seconds)\n",
      "step: 78 of 110 done (2.066250 seconds)\n",
      "step: 79 of 110 done (2.244982 seconds)\n",
      "step: 80 of 110 done (2.118203 seconds)\n",
      "step: 81 of 110 done (1.412387 seconds)\n",
      "step: 82 of 110 done (1.265999 seconds)\n",
      "step: 83 of 110 done (1.257776 seconds)\n",
      "step: 84 of 110 done (1.378855 seconds)\n",
      "step: 85 of 110 done (1.558379 seconds)\n",
      "step: 86 of 110 done (1.701752 seconds)\n",
      "step: 87 of 110 done (1.957983 seconds)\n",
      "step: 88 of 110 done (2.121770 seconds)\n",
      "step: 89 of 110 done (2.460148 seconds)\n",
      "step: 90 of 110 done (2.467820 seconds)\n",
      "step: 91 of 110 done (1.426032 seconds)\n",
      "step: 92 of 110 done (1.300772 seconds)\n",
      "step: 93 of 110 done (1.257693 seconds)\n",
      "step: 94 of 110 done (1.390082 seconds)\n",
      "step: 95 of 110 done (1.587848 seconds)\n",
      "step: 96 of 110 done (1.741030 seconds)\n",
      "step: 97 of 110 done (2.068815 seconds)\n",
      "step: 98 of 110 done (0.569691 seconds)\n",
      "step: 99 of 110 done (2.335524 seconds)\n",
      "step: 100 of 110 done (2.634789 seconds)\n",
      "step: 101 of 110 done (1.452267 seconds)\n",
      "step: 102 of 110 done (1.323534 seconds)\n",
      "step: 103 of 110 done (1.291156 seconds)\n",
      "step: 104 of 110 done (1.402162 seconds)\n",
      "step: 105 of 110 done (1.621176 seconds)\n",
      "step: 106 of 110 done (1.800524 seconds)\n",
      "step: 107 of 110 done (2.134894 seconds)\n",
      "step: 108 of 110 done (2.343979 seconds)\n",
      "step: 109 of 110 done (2.570442 seconds)\n",
      "step: 110 of 110 done (2.637747 seconds)\n",
      "CPU times: user 4min 18s, sys: 368 ms, total: 4min 18s\n",
      "Wall time: 4min 19s\n"
     ]
    }
   ],
   "source": [
    "%%time\n",
    "H_inf = 2e12\n",
    "f_a = 3e14\n",
    "Gamma_inf_list = np.geomspace(1e6, 1e9, 11)\n",
    "m_a_list = np.geomspace(1e6, 1e9, 10)\n",
    "def f(Gamma_inf, m_a, i, j):\n",
    "    n = i + j * len(m_a_list) + 1\n",
    "    print(\"step:\", n, \"of\", len(Gamma_inf_list) * len(m_a_list), end=\"\")\n",
    "    start = time.time()\n",
    "    x = compute_asymmetry(H_inf, Gamma_inf, (m_a,), f_a, calc_init_time=True)\n",
    "    end = time.time()\n",
    "    print(\" done (%f seconds)\" % (end - start))\n",
    "    return x\n",
    "eta = np.array([[f(Gamma_inf, m_a, i, j) \n",
    "                 for i, m_a in enumerate(m_a_list)] for j, Gamma_inf in enumerate(Gamma_inf_list)])"
   ]
  },
  {
   "cell_type": "code",
   "execution_count": 7,
   "id": "e9b837cb-97f9-4a81-969c-f7bf460b59d7",
   "metadata": {},
   "outputs": [
    {
     "data": {
      "text/plain": [
       "Text(0, 0.5, '$\\\\Gamma_\\\\mathrm{inf}$ / GeV')"
      ]
     },
     "execution_count": 7,
     "metadata": {},
     "output_type": "execute_result"
    },
    {
     "data": {
      "image/png": "[encoded data removed]",
      "text/plain": [
       "<Figure size 432x288 with 2 Axes>"
      ]
     },
     "metadata": {
      "needs_background": "light"
     },
     "output_type": "display_data"
    }
   ],
   "source": [
    "eta_observed = 6e-10 # from paper\n",
    "plt.contour(m_a_list, Gamma_inf_list, np.log10(eta / eta_observed))\n",
    "plt.xscale(\"log\")\n",
    "plt.yscale(\"log\")\n",
    "plt.colorbar(label=r\"$log_{10}(\\eta_B / \\eta_B^\\mathrm{obs})$\")\n",
    "plt.xlabel(\"$m_a$ / GeV\")\n",
    "plt.ylabel(r\"$\\Gamma_\\mathrm{inf}$ / GeV\")"
   ]
  },
  {
   "cell_type": "code",
   "execution_count": null,
   "id": "5cc32c0d-b3fb-4b5a-a8e5-532892175566",
   "metadata": {},
   "outputs": [],
   "source": []
  }
 ],
 "metadata": {
  "kernelspec": {
   "display_name": "Python 3",
   "language": "python",
   "name": "python3"
  },
  "language_info": {
   "codemirror_mode": {
    "name": "ipython",
    "version": 3
   },
   "file_extension": ".py",
   "mimetype": "text/x-python",
   "name": "python",
   "nbconvert_exporter": "python",
   "pygments_lexer": "ipython3",
   "version": "3.8.8"
  }
 },
 "nbformat": 4,
 "nbformat_minor": 5
}
