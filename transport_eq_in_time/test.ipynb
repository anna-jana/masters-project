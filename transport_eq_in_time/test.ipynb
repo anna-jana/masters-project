{
 "cells": [
  {
   "cell_type": "code",
   "execution_count": 10,
   "id": "7143015e",
   "metadata": {},
   "outputs": [
    {
     "name": "stdout",
     "output_type": "stream",
     "text": [
      "old\n",
      "decay done, took: 0.037526845932006836 seconds\n",
      "axion done, took: 0.12345004081726074 seconds\n"
     ]
    },
    {
     "name": "stderr",
     "output_type": "stream",
     "text": [
      "/home/jana/Documents/masters-project/transport_eq_in_time/decay_process.py:113: RuntimeWarning: divide by zero encountered in true_divide\n",
      "  \n",
      "/home/jana/Documents/masters-project/transport_eq_in_time/decay_process.py:113: RuntimeWarning: divide by zero encountered in double_scalars\n",
      "  \n"
     ]
    },
    {
     "name": "stdout",
     "output_type": "stream",
     "text": [
      "trans done, took: 1.0000004768371582 seconds\n",
      "old\n",
      "axion decay done, took: 0.04489564895629883 seconds\n"
     ]
    }
   ],
   "source": [
    "%run test.py\n",
    "test(1e12, 1e6, 1e6, 1e8, tmax_axion_time=100.0, axion_decay_time=100.0, debug=False)"
   ]
  },
  {
   "cell_type": "code",
   "execution_count": 11,
   "id": "00cefad6-5176-483e-8590-127f1eee13d3",
   "metadata": {},
   "outputs": [
    {
     "name": "stdout",
     "output_type": "stream",
     "text": [
      "old\n"
     ]
    },
    {
     "name": "stderr",
     "output_type": "stream",
     "text": [
      "/home/jana/Documents/masters-project/transport_eq_in_time/test.py:100: RuntimeWarning: invalid value encountered in log\n",
      "  log_ts_inf = np.linspace(np.log(decay_process.t0 + tmax_inf_time - conv_factor * step_tmax_axion_time),\n"
     ]
    },
    {
     "name": "stdout",
     "output_type": "stream",
     "text": [
      "old\n",
      "old\n",
      "old\n",
      "old\n",
      "old\n",
      "old\n",
      "old\n",
      "old\n",
      "old\n",
      "old\n",
      "old\n",
      "old\n",
      "old\n",
      "old\n",
      "old\n",
      "old\n",
      "old\n",
      "old\n",
      "old\n",
      "old\n",
      "old\n",
      "old\n",
      "old\n",
      "old\n",
      "old\n",
      "old\n",
      "old\n",
      "old\n",
      "old\n",
      "old\n",
      "old\n",
      "old\n",
      "old\n",
      "old\n",
      "old\n",
      "old\n",
      "old\n",
      "old\n",
      "old\n",
      "old\n",
      "old\n",
      "old\n",
      "old\n",
      "old\n",
      "old\n",
      "old\n",
      "old\n",
      "old\n",
      "old\n",
      "old\n",
      "old\n",
      "old\n",
      "old\n",
      "old\n",
      "old\n",
      "1.19 s ± 6.61 ms per loop (mean ± std. dev. of 7 runs, 1 loop each)\n"
     ]
    }
   ],
   "source": [
    "%timeit compute_asymmetry(1e12, 1e6, 1e6, 1e8, debug=False)"
   ]
  },
  {
   "cell_type": "code",
   "execution_count": 7,
   "id": "bb9cfddf-1bdb-4b75-a69c-2c5fef719a07",
   "metadata": {},
   "outputs": [],
   "source": [
    "import itertools"
   ]
  },
  {
   "cell_type": "code",
   "execution_count": 9,
   "id": "303d41c4-8a0a-4d03-b8df-b83f16227f38",
   "metadata": {},
   "outputs": [
    {
     "data": {
      "text/plain": [
       "[1, 2, 1, 2, 1, 2, 1, 2, 1, 2]"
      ]
     },
     "execution_count": 9,
     "metadata": {},
     "output_type": "execute_result"
    }
   ],
   "source": [
    "list(itertools.islice(itertools.cycle([1,2]), 10))"
   ]
  },
  {
   "cell_type": "markdown",
   "id": "9efca8e1-1205-4e53-9450-e441bf98d819",
   "metadata": {},
   "source": [
    "# Compare the old and the new decay code"
   ]
  },
  {
   "cell_type": "code",
   "execution_count": null,
   "id": "38b0a986-3f3f-4075-bf12-ab0157eb8bbd",
   "metadata": {},
   "outputs": [],
   "source": [
    "# new: 1.19 s ± 25.7 ms per loop (mean ± std. dev. of 7 runs, 1 loop each)\n",
    "# old: 1.19 s ± 6.61 ms per loop (mean ± std. dev. of 7 runs, 1 loop each)"
   ]
  },
  {
   "cell_type": "code",
   "execution_count": 12,
   "id": "75cd47cd-5299-4145-b315-11f7c4289b3e",
   "metadata": {},
   "outputs": [],
   "source": [
    "import old_decay_process, new_decay_process\n",
    "old_decay_process = importlib.reload(old_decay_process)\n",
    "new_decay_process = importlib.reload(new_decay_process)"
   ]
  },
  {
   "cell_type": "code",
   "execution_count": 20,
   "id": "6f618c88-fdf7-4f8d-b764-d23628b6f3b2",
   "metadata": {},
   "outputs": [
    {
     "data": {
      "image/png": "[encoded data removed]",
      "text/plain": [
       "<Figure size 432x288 with 1 Axes>"
      ]
     },
     "metadata": {
      "needs_background": "light"
     },
     "output_type": "display_data"
    },
    {
     "data": {
      "image/png": "[encoded data removed]",
      "text/plain": [
       "<Figure size 432x288 with 1 Axes>"
      ]
     },
     "metadata": {
      "needs_background": "light"
     },
     "output_type": "display_data"
    }
   ],
   "source": [
    "H0 = 1e10\n",
    "rho_inf = 3*old_decay_process.M_pl**2*H0**2\n",
    "Gamma = 1e8\n",
    "tmax = 10.0\n",
    "sol_old = old_decay_process.solve(tmax, 0.0, rho_inf, Gamma)\n",
    "sol_new = new_decay_process.solve(tmax, 0.0, rho_inf, Gamma)\n",
    "old_fn, _ = old_decay_process.to_temperature_and_hubble_fns(sol_old, rho_inf, Gamma)\n",
    "new_fn, _ = new_decay_process.to_temperature_and_hubble_fns(sol_new, rho_inf, Gamma)\n",
    "ts = np.geomspace(decay_process.t0, tmax, 400)\n",
    "T_old, H_old = old_fn(ts)\n",
    "T_new, H_new = new_fn(ts)\n",
    "plt.figure()\n",
    "plt.plot(ts, H_old, label=\"old\")\n",
    "plt.plot(ts, H_new, label=\"new\")\n",
    "plt.xlabel(\"t * Gamma\")\n",
    "plt.ylabel(\"H\")\n",
    "plt.xscale(\"log\")\n",
    "plt.yscale(\"log\")\n",
    "plt.figure()\n",
    "plt.plot(ts, T_old, label=\"old\")\n",
    "plt.plot(ts, T_new, label=\"new\")\n",
    "plt.xlabel(\"t * Gamma\")\n",
    "plt.ylabel(\"T\")\n",
    "plt.xscale(\"log\")\n",
    "plt.yscale(\"log\")"
   ]
  },
  {
   "cell_type": "code",
   "execution_count": 22,
   "id": "a22b01a7-c3a0-4978-a795-63b8ce32d147",
   "metadata": {},
   "outputs": [
    {
     "name": "stderr",
     "output_type": "stream",
     "text": [
      "/home/jana/Documents/masters-project/transport_eq_in_time/old_decay_process.py:101: RuntimeWarning: invalid value encountered in double_scalars\n",
      "  T = T_const * rho_R_prime**(1/4)\n"
     ]
    }
   ],
   "source": [
    "m_a = 1e7\n",
    "ax_sol = axion_motion.single_axion_field.solve((1.0, 0.0), (m_a,), 10.0, old_fn, Gamma)"
   ]
  },
  {
   "cell_type": "code",
   "execution_count": 25,
   "id": "98444128-e0cd-4e41-a3a6-200de5691cbd",
   "metadata": {},
   "outputs": [],
   "source": [
    "f_a = 1e12\n",
    "rho_a = axion_motion.single_axion_field.get_energy(ax_sol.y[:, -1], f_a, Gamma, m_a)\n",
    "rho_rad_end = decay_process.find_end_rad_energy(sol_old, rho_inf)\n",
    "Gamma_a = axion_motion.single_axion_field.get_decay_constant(f_a, m_a)"
   ]
  },
  {
   "cell_type": "code",
   "execution_count": 30,
   "id": "4782720e-d598-4e08-ac12-4a2c40b2ba88",
   "metadata": {},
   "outputs": [
    {
     "data": {
      "image/png": "[encoded data removed]",
      "text/plain": [
       "<Figure size 432x288 with 1 Axes>"
      ]
     },
     "metadata": {
      "needs_background": "light"
     },
     "output_type": "display_data"
    },
    {
     "data": {
      "image/png": "[encoded data removed]",
      "text/plain": [
       "<Figure size 432x288 with 1 Axes>"
      ]
     },
     "metadata": {
      "needs_background": "light"
     },
     "output_type": "display_data"
    }
   ],
   "source": [
    "tmax = 100.0\n",
    "sol_old = old_decay_process.solve(tmax, rho_rad_end, rho_a, Gamma)\n",
    "sol_new = new_decay_process.solve(tmax, rho_rad_end, rho_a, Gamma)\n",
    "old_fn, _ = old_decay_process.to_temperature_and_hubble_fns(sol_old, rho_a, Gamma)\n",
    "new_fn, _ = new_decay_process.to_temperature_and_hubble_fns(sol_new, rho_a, Gamma)\n",
    "ts = np.geomspace(decay_process.t0, tmax, 400)\n",
    "T_old, H_old = old_fn(ts)\n",
    "T_new, H_new = new_fn(ts)\n",
    "plt.figure()\n",
    "plt.plot(ts, H_old, label=\"old\")\n",
    "plt.plot(ts, H_new, label=\"new\")\n",
    "plt.xlabel(\"t * Gamma\")\n",
    "plt.ylabel(\"H\")\n",
    "plt.xscale(\"log\")\n",
    "plt.yscale(\"log\")\n",
    "plt.figure()\n",
    "plt.plot(ts, T_old, label=\"old\")\n",
    "plt.plot(ts, T_new, label=\"new\")\n",
    "plt.xlabel(\"t * Gamma\")\n",
    "plt.ylabel(\"T\")\n",
    "plt.xscale(\"log\")\n",
    "plt.yscale(\"log\")\n",
    "old_decay_process.find_dilution_factor(sol_old, old_fn, debug=True)\n",
    "new_decay_process.find_dilution_factor(sol_new, new_fn, debug=True)"
   ]
  },
  {
   "cell_type": "code",
   "execution_count": null,
   "id": "63d98faf-0f0a-45a3-baf2-ff5f390da997",
   "metadata": {},
   "outputs": [],
   "source": []
  }
 ],
 "metadata": {
  "kernelspec": {
   "display_name": "Python 3",
   "language": "python",
   "name": "python3"
  },
  "language_info": {
   "codemirror_mode": {
    "name": "ipython",
    "version": 3
   },
   "file_extension": ".py",
   "mimetype": "text/x-python",
   "name": "python",
   "nbconvert_exporter": "python",
   "pygments_lexer": "ipython3",
   "version": "3.8.8"
  }
 },
 "nbformat": 4,
 "nbformat_minor": 5
}
