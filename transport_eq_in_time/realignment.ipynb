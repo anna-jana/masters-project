{
 "cells": [
  {
   "cell_type": "code",
   "execution_count": 1,
   "id": "7aaf4dfa-9224-4254-a217-1010a631da6e",
   "metadata": {},
   "outputs": [],
   "source": [
    "%run convergence.py"
   ]
  },
  {
   "cell_type": "code",
   "execution_count": 2,
   "id": "1b046fea-9804-44c7-bd56-bd893e39c57c",
   "metadata": {
    "tags": []
   },
   "outputs": [
    {
     "name": "stdout",
     "output_type": "stream",
     "text": [
      "step: 1 of 110"
     ]
    },
    {
     "name": "stderr",
     "output_type": "stream",
     "text": [
      "/home/jana/Documents/masters-project/transport_eq_in_time/decay_process.py:36: RuntimeWarning: invalid value encountered in power\n",
      "  T = T_const * rho_rad**(1/4)\n",
      "/home/jana/Documents/masters-project/transport_eq_in_time/decay_process.py:37: RuntimeWarning: invalid value encountered in sqrt\n",
      "  H = H_const * np.sqrt(rho_rad + rho_field)\n",
      "/home/jana/Documents/masters-project/transport_eq_in_time/decay_process.py:46: RuntimeWarning: divide by zero encountered in true_divide\n",
      "  T_dot = np.where(T == 0, np.inf, T_dot_const * (Gamma * rho_field - 4*H*rho_rad) / T**3)\n",
      "/home/jana/Documents/masters-project/transport_eq_in_time/decay_process.py:46: RuntimeWarning: divide by zero encountered in double_scalars\n",
      "  T_dot = np.where(T == 0, np.inf, T_dot_const * (Gamma * rho_field - 4*H*rho_rad) / T**3)\n",
      "/home/jana/Documents/masters-project/transport_eq_in_time/decay_process.py:12: RuntimeWarning: invalid value encountered in sqrt\n",
      "  H = np.sqrt(rho_field + rho_rad) * C\n"
     ]
    },
    {
     "name": "stdout",
     "output_type": "stream",
     "text": [
      " done (2.954646 seconds)\n",
      "step: 2 of 110 done (3.289764 seconds)\n",
      "step: 3 of 110 done (3.356006 seconds)\n",
      "step: 4 of 110 done (3.914402 seconds)\n",
      "step: 5 of 110"
     ]
    },
    {
     "name": "stderr",
     "output_type": "stream",
     "text": [
      "/home/jana/Documents/masters-project/transport_eq_in_time/decay_process.py:36: RuntimeWarning: invalid value encountered in double_scalars\n",
      "  T = T_const * rho_rad**(1/4)\n"
     ]
    },
    {
     "name": "stdout",
     "output_type": "stream",
     "text": [
      " done (4.608491 seconds)\n",
      "step: 6 of 110 done (4.941022 seconds)\n",
      "step: 7 of 110 done (6.098836 seconds)\n",
      "step: 8 of 110 done (7.697726 seconds)\n",
      "step: 9 of 110 done (13.238779 seconds)\n",
      "step: 10 of 110 done (18.092072 seconds)\n",
      "step: 11 of 110 done (2.545217 seconds)\n",
      "step: 12 of 110 done (3.184390 seconds)\n",
      "step: 13 of 110 done (3.109143 seconds)\n",
      "step: 14 of 110 done (3.615355 seconds)\n",
      "step: 15 of 110 done (4.319523 seconds)\n",
      "step: 16 of 110 done (4.591423 seconds)\n",
      "step: 17 of 110 done (4.736145 seconds)\n",
      "step: 18 of 110 done (5.643100 seconds)\n",
      "step: 19 of 110 done (7.240982 seconds)\n",
      "step: 20 of 110 done (9.841259 seconds)\n",
      "step: 21 of 110 done (2.886552 seconds)\n",
      "step: 22 of 110 done (2.881886 seconds)\n",
      "step: 23 of 110 done (3.475732 seconds)\n",
      "step: 24 of 110 done (3.568994 seconds)\n",
      "step: 25 of 110 done (3.911505 seconds)\n",
      "step: 26 of 110 done (4.286368 seconds)\n",
      "step: 27 of 110 done (4.299641 seconds)\n",
      "step: 28 of 110 done (4.859697 seconds)\n",
      "step: 29 of 110 done (5.740531 seconds)\n",
      "step: 30 of 110 done (7.576484 seconds)\n",
      "step: 31 of 110 done (2.988213 seconds)\n",
      "step: 32 of 110 done (2.742393 seconds)\n",
      "step: 33 of 110 done (3.316446 seconds)\n",
      "step: 34 of 110 done (3.719358 seconds)\n",
      "step: 35 of 110 done (3.879961 seconds)\n",
      "step: 36 of 110 done (4.289934 seconds)\n",
      "step: 37 of 110 done (3.959973 seconds)\n",
      "step: 38 of 110 done (4.394316 seconds)\n",
      "step: 39 of 110 done (5.097786 seconds)\n",
      "step: 40 of 110 done (6.435176 seconds)\n",
      "step: 41 of 110 done (2.992269 seconds)\n",
      "step: 42 of 110 done (2.776850 seconds)\n",
      "step: 43 of 110 done (3.272510 seconds)\n",
      "step: 44 of 110 done (3.618422 seconds)\n",
      "step: 45 of 110 done (3.957535 seconds)\n",
      "step: 46 of 110 done (4.297044 seconds)\n",
      "step: 47 of 110 done (4.449429 seconds)\n",
      "step: 48 of 110 done (3.651705 seconds)\n",
      "step: 49 of 110 done (3.804423 seconds)\n",
      "step: 50 of 110 done (4.949915 seconds)\n",
      "step: 51 of 110 done (3.000022 seconds)\n",
      "step: 52 of 110 done (3.202222 seconds)\n",
      "step: 53 of 110 done (3.271179 seconds)\n",
      "step: 54 of 110 done (3.652605 seconds)\n",
      "step: 55 of 110 done (4.131625 seconds)\n",
      "step: 56 of 110 done (4.449462 seconds)\n",
      "step: 57 of 110 done (4.706985 seconds)\n",
      "step: 58 of 110 done (4.519808 seconds)\n",
      "step: 59 of 110 done (3.001748 seconds)\n",
      "step: 60 of 110 done (3.562285 seconds)\n",
      "step: 61 of 110 done (3.050442 seconds)\n",
      "step: 62 of 110 done (3.266726 seconds)\n",
      "step: 63 of 110 done (3.334256 seconds)\n",
      "step: 64 of 110 done (3.768448 seconds)\n",
      "step: 65 of 110 done (4.207769 seconds)\n",
      "step: 66 of 110 done (4.549598 seconds)\n",
      "step: 67 of 110 done (4.844496 seconds)\n",
      "step: 68 of 110 done (4.757136 seconds)\n",
      "step: 69 of 110 done (4.513031 seconds)\n",
      "step: 70 of 110 done (3.504242 seconds)\n",
      "step: 71 of 110 done (3.101266 seconds)\n",
      "step: 72 of 110 done (3.224487 seconds)\n",
      "step: 73 of 110 done (3.473156 seconds)\n",
      "step: 74 of 110 done (3.884880 seconds)\n",
      "step: 75 of 110 done (4.237937 seconds)\n",
      "step: 76 of 110 done (4.658683 seconds)\n",
      "step: 77 of 110 done (5.059321 seconds)\n",
      "step: 78 of 110 done (4.891890 seconds)\n",
      "step: 79 of 110 done (5.417435 seconds)\n",
      "step: 80 of 110 done (4.531012 seconds)\n",
      "step: 81 of 110 done (3.111449 seconds)\n",
      "step: 82 of 110 done (3.321252 seconds)\n",
      "step: 83 of 110 done (3.424012 seconds)\n",
      "step: 84 of 110 done (3.938015 seconds)\n",
      "step: 85 of 110 done (4.263563 seconds)\n",
      "step: 86 of 110 done (4.648148 seconds)\n",
      "step: 87 of 110 done (4.929324 seconds)\n",
      "step: 88 of 110 done (5.125874 seconds)\n",
      "step: 89 of 110 done (5.540177 seconds)\n",
      "step: 90 of 110 done (4.944972 seconds)\n",
      "step: 91 of 110 done (3.507618 seconds)\n",
      "step: 92 of 110 done (3.507806 seconds)\n",
      "step: 93 of 110 done (3.595481 seconds)\n",
      "step: 94 of 110 done (4.015174 seconds)\n",
      "step: 95 of 110 done (4.339278 seconds)\n",
      "step: 96 of 110 done (4.766237 seconds)\n",
      "step: 97 of 110 done (5.097465 seconds)\n",
      "step: 98 of 110 done (5.298218 seconds)\n",
      "step: 99 of 110 done (5.816986 seconds)\n",
      "step: 100 of 110 done (5.496997 seconds)\n",
      "step: 101 of 110"
     ]
    },
    {
     "name": "stderr",
     "output_type": "stream",
     "text": [
      "/home/jana/Documents/masters-project/transport_eq_in_time/decay_process.py:9: RuntimeWarning: overflow encountered in exp\n",
      "  t = np.exp(log_t)\n"
     ]
    },
    {
     "name": "stdout",
     "output_type": "stream",
     "text": [
      " done (3.749633 seconds)\n",
      "step: 102 of 110 done (3.967541 seconds)\n",
      "step: 103 of 110 done (3.652473 seconds)\n",
      "step: 104 of 110 done (3.965692 seconds)\n",
      "step: 105 of 110 done (4.395335 seconds)\n",
      "step: 106 of 110 done (4.961474 seconds)\n",
      "step: 107 of 110 done (5.257663 seconds)\n",
      "step: 108 of 110 done (5.499109 seconds)\n",
      "step: 109 of 110 done (6.159387 seconds)\n",
      "step: 110 of 110 done (5.673651 seconds)\n",
      "CPU times: user 8min 10s, sys: 1.22 s, total: 8min 11s\n",
      "Wall time: 8min 14s\n"
     ]
    }
   ],
   "source": [
    "%%time\n",
    "H_inf = 2e12\n",
    "f_a = 3e14\n",
    "Gamma_inf_list = np.geomspace(1e6, 1e9, 11)\n",
    "m_a_list = np.geomspace(1e6, 1e9, 10)\n",
    "def f(Gamma_inf, m_a, i, j):\n",
    "    n = i + j * len(m_a_list) + 1\n",
    "    print(\"step:\", n, \"of\", len(Gamma_inf_list) * len(m_a_list), end=\"\")\n",
    "    start = time.time()\n",
    "    x = compute_asymmetry(H_inf, Gamma_inf, (m_a,), f_a, calc_init_time=True)\n",
    "    end = time.time()\n",
    "    print(\" done (%f seconds)\" % (end - start))\n",
    "    return x\n",
    "eta = np.array([[f(Gamma_inf, m_a, i, j) \n",
    "                 for i, m_a in enumerate(m_a_list)] for j, Gamma_inf in enumerate(Gamma_inf_list)])"
   ]
  },
  {
   "cell_type": "code",
   "execution_count": 3,
   "id": "e9b837cb-97f9-4a81-969c-f7bf460b59d7",
   "metadata": {},
   "outputs": [
    {
     "data": {
      "text/plain": [
       "Text(0, 0.5, '$\\\\Gamma_\\\\mathrm{inf}$ / GeV')"
      ]
     },
     "execution_count": 3,
     "metadata": {},
     "output_type": "execute_result"
    },
    {
     "data": {
      "image/png": "[encoded data removed]",
      "text/plain": [
       "<Figure size 432x288 with 2 Axes>"
      ]
     },
     "metadata": {
      "needs_background": "light"
     },
     "output_type": "display_data"
    }
   ],
   "source": [
    "eta_observed = 6e-10 # from paper\n",
    "plt.contour(m_a_list, Gamma_inf_list, np.log10(eta / eta_observed))\n",
    "plt.xscale(\"log\")\n",
    "plt.yscale(\"log\")\n",
    "plt.colorbar(label=r\"$log_{10}(\\eta_B / \\eta_B^\\mathrm{obs})$\")\n",
    "plt.xlabel(\"$m_a$ / GeV\")\n",
    "plt.ylabel(r\"$\\Gamma_\\mathrm{inf}$ / GeV\")"
   ]
  },
  {
   "cell_type": "code",
   "execution_count": null,
   "id": "a1570620-5b67-4428-b70c-91ba5508986a",
   "metadata": {},
   "outputs": [],
   "source": []
  }
 ],
 "metadata": {
  "kernelspec": {
   "display_name": "Python 3",
   "language": "python",
   "name": "python3"
  },
  "language_info": {
   "codemirror_mode": {
    "name": "ipython",
    "version": 3
   },
   "file_extension": ".py",
   "mimetype": "text/x-python",
   "name": "python",
   "nbconvert_exporter": "python",
   "pygments_lexer": "ipython3",
   "version": "3.8.8"
  },
  "toc-autonumbering": true,
  "toc-showcode": true,
  "toc-showmarkdowntxt": true
 },
 "nbformat": 4,
 "nbformat_minor": 5
}
