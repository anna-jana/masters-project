{
 "cells": [
  {
   "cell_type": "markdown",
   "id": "7013bf3a-0ede-4dc8-af51-aa24b2aff617",
   "metadata": {},
   "source": [
    "# Multi Axion System"
   ]
  },
  {
   "cell_type": "code",
   "execution_count": 11,
   "id": "cc73fe0e-dc88-4f60-9cba-9e034cf56e6f",
   "metadata": {},
   "outputs": [],
   "source": [
    "%run observables.py\n",
    "%run multi_axion.py"
   ]
  },
  {
   "cell_type": "code",
   "execution_count": 25,
   "id": "bf7fff34-aef5-475e-9f35-0add761277e9",
   "metadata": {},
   "outputs": [],
   "source": [
    "Q = np.array([[1,1], [1, 0]])\n",
    "Q_inv = np.linalg.inv(Q)\n",
    "eps = 1e-3\n",
    "Lambda = 1e7**2 * np.array([1, 1 + eps]) # [GeV]\n",
    "thetas0 = [1, -1]\n",
    "H_inf = Gamma_inf = 1e8\n",
    "tmax_axion_time = 10.0\n",
    "\n",
    "energy_scale, conv_factor, rho_R_init, rho_inf_init, scale, tmax_inf_time, red_chem_pots_init = \\\n",
    "    init_system(H_inf, Gamma_inf, (Q, Lambda), multi_axion_field, tmax_axion_time)\n",
    "\n",
    "sol, T_and_H_fn, _ = decay_process.solve(tmax_inf, rho_R_init, rho_inf_init, scale, Gamma_inf)\n",
    "\n",
    "axsol = multi_axion_field.solve(np.hstack([thetas0, np.zeros(len(Lambda))]), (Q, Lambda), tmax_axion, T_and_H_fn, Gamma_inf)"
   ]
  },
  {
   "cell_type": "code",
   "execution_count": 21,
   "id": "3bf0537e-4c31-484e-a979-1efc7aeb37c1",
   "metadata": {},
   "outputs": [],
   "source": [
    "ts = np.linspace(0, tmax_axion, 500)\n",
    "y = axsol.sol(ts) "
   ]
  },
  {
   "cell_type": "code",
   "execution_count": 24,
   "id": "6c2d5a81-3dea-4f4c-a5bd-f74f2f9debdd",
   "metadata": {},
   "outputs": [
    {
     "data": {
      "text/plain": [
       "[<matplotlib.lines.Line2D at 0x7f066e58ecb0>]"
      ]
     },
     "execution_count": 24,
     "metadata": {},
     "output_type": "execute_result"
    },
    {
     "data": {
      "image/png": "[encoded data removed]",
      "text/plain": [
       "<Figure size 432x288 with 1 Axes>"
      ]
     },
     "metadata": {
      "needs_background": "light"
     },
     "output_type": "display_data"
    }
   ],
   "source": [
    "plt.plot(y[1,:], y[0,:],\"*\")"
   ]
  },
  {
   "cell_type": "code",
   "execution_count": null,
   "id": "f7248835-93ec-4337-a634-47161415cdec",
   "metadata": {},
   "outputs": [],
   "source": []
  }
 ],
 "metadata": {
  "kernelspec": {
   "display_name": "Python 3 (ipykernel)",
   "language": "python",
   "name": "python3"
  },
  "language_info": {
   "codemirror_mode": {
    "name": "ipython",
    "version": 3
   },
   "file_extension": ".py",
   "mimetype": "text/x-python",
   "name": "python",
   "nbconvert_exporter": "python",
   "pygments_lexer": "ipython3",
   "version": "3.10.4"
  }
 },
 "nbformat": 4,
 "nbformat_minor": 5
}
