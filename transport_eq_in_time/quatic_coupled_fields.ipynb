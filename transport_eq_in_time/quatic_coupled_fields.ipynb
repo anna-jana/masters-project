{
 "cells": [
  {
   "cell_type": "code",
   "execution_count": 4,
   "id": "3d5ab21c-4a82-4a1f-a734-7751819d4334",
   "metadata": {},
   "outputs": [],
   "source": [
    "%run quatic_coupled_fields.py\n",
    "%run observables.py\n",
    "%run transport_equation.py"
   ]
  },
  {
   "cell_type": "code",
   "execution_count": 5,
   "id": "973ab7be-432f-460f-b8f5-c014ddb9f898",
   "metadata": {},
   "outputs": [],
   "source": [
    "def compute_quatic_observables(H_inf, Gamma_inf, initial_ratio, q, m_1, m_2, g, f_1, f_2):\n",
    "    ax_params = (m_1, m_2, g, f_1, f_2)\n",
    "    ax_init = (1.0, initial_ratio, 0.0, 0.0)\n",
    "    eta_B, _, _, _, _, status = \\\n",
    "        compute_observables(H_inf, Gamma_inf, ax  _params, f_a, quatic_coupled_fields, \n",
    "                            ax0, source_vector_weak_sphaleron) \n",
    "    Omega_h_eq = relic_density_quatic_coupled_two_fields(initial_ratio, q, m_1, m_2, g, f_1, f_2)\n",
    "    np.log10(eta_B / eta_B_observed), np.log10(Omega_h_sq / Omega_DM_h_sq)"
   ]
  },
  {
   "cell_type": "code",
   "execution_count": 9,
   "id": "aa961b5a-f696-460d-ab91-3f3da0284769",
   "metadata": {},
   "outputs": [],
   "source": [
    "intial_ratio = 1.0 # np.geomspace(1e-2, 1e2, 20)\n",
    "m_1 = np.geomspace(1e-22, 1e0, 20) * 1e-9 # [GeV]\n",
    "m_2 = np.geomspace(1e-22, 1e0, 20) * 1e-9 \n",
    "f_1 = np.geomspace(1e8, 1e14, 20) \n",
    "f_2 = np.geomspace(1e8, 1e14, 20)\n",
    "g = 1.0 # np.geomspace(1e-2, 1e2, 20) \n",
    "q = 2 # np.linspace(2,)\n",
    "m_1_s, m_2_s, f_1_s, f_2_s = np.meshgrid(m_1, m_2, f_1, f_2)"
   ]
  }
 ],
 "metadata": {
  "kernelspec": {
   "display_name": "Python 3 (ipykernel)",
   "language": "python",
   "name": "python3"
  },
  "language_info": {
   "codemirror_mode": {
    "name": "ipython",
    "version": 3
   },
   "file_extension": ".py",
   "mimetype": "text/x-python",
   "name": "python",
   "nbconvert_exporter": "python",
   "pygments_lexer": "ipython3",
   "version": "3.10.4"
  }
 },
 "nbformat": 4,
 "nbformat_minor": 5
}
