{
 "cells": [
  {
   "cell_type": "code",
   "execution_count": 2,
   "id": "d37e67c8-61be-437d-834a-257b535f5c76",
   "metadata": {},
   "outputs": [],
   "source": [
    "%run kinetic_axion.py\n",
    "%run observables.py"
   ]
  },
  {
   "cell_type": "code",
   "execution_count": 3,
   "id": "27f98997-900f-4e09-81eb-5c1b9a1c036d",
   "metadata": {},
   "outputs": [],
   "source": [
    "def min_theta_dot(theta_i): \n",
    "    return np.sqrt(2*(1 - np.cos(theta_i)))\n",
    "def calc_kinetic_stop(H_inf, m_a, theta_dot_i): \n",
    "    return 1 / (3 * (H_inf / m_a)) * (2 / theta_dot_i)**(-2/3) # axion units "
   ]
  },
  {
   "cell_type": "code",
   "execution_count": 4,
   "id": "08a0b3ee-4569-442a-b403-362ef11ec6a7",
   "metadata": {},
   "outputs": [],
   "source": [
    "H_inf = 2.51e12\n",
    "Gamma_inf = 1e8\n",
    "m_a = 1e11\n",
    "theta_i = 1\n",
    "theta_dot_i = 1e2 * min_theta_dot(theta_i)\n",
    "num_osc = 10\n",
    "\n",
    "tmax_axion_time = calc_kinetic_stop(H_inf, m_a, theta_dot_i) + 2*np.pi*num_osc\n",
    "\n",
    "energy_scale, conv_factor, rho_R_init, rho_inf_init, scale, tmax_inf_time, red_chem_pots_init = \\\n",
    "    init_system(H_inf, Gamma_inf, (m_a,), kinetic_axion_field, tmax_axion_time)\n",
    "\n",
    "sol_rh, T_and_H_fn, T_and_H_and_T_dot_fn, sol_axion, axion_source, sol_transp_eq, tmax_axion_time = \\\n",
    "    solve_system(H_inf, rho_R_init, rho_inf_init, (theta_i, theta_dot_i), red_chem_pots_init,\n",
    "                 tmax_axion_time, conv_factor, Gamma_inf, scale, \n",
    "                 (m_a,), kinetic_axion_field, transport_equation.source_vector_weak_sphaleron,\n",
    "                 False, False)"
   ]
  },
  {
   "cell_type": "code",
   "execution_count": 5,
   "id": "fcf05132-bd6e-47d7-ad37-de25b7604684",
   "metadata": {},
   "outputs": [
    {
     "data": {
      "text/plain": [
       "[<matplotlib.lines.Line2D at 0x7f4e6122ab00>]"
      ]
     },
     "execution_count": 5,
     "metadata": {},
     "output_type": "execute_result"
    },
    {
     "data": {
      "image/png": "[encoded data removed]",
      "text/plain": [
       "<Figure size 432x288 with 1 Axes>"
      ]
     },
     "metadata": {
      "needs_background": "light"
     },
     "output_type": "display_data"
    }
   ],
   "source": [
    "t = sol_axion.t\n",
    "theta, theta_dot = sol_axion.sol(t)\n",
    "plt.semilogx(t, theta)"
   ]
  },
  {
   "cell_type": "code",
   "execution_count": 21,
   "id": "df549767-a47b-48d2-8f71-d18b5d4dcba1",
   "metadata": {},
   "outputs": [
    {
     "data": {
      "text/plain": [
       "<function transport_equation.solve.<locals>.<lambda>(log_t)>"
      ]
     },
     "execution_count": 21,
     "metadata": {},
     "output_type": "execute_result"
    }
   ],
   "source": []
  },
  {
   "cell_type": "code",
   "execution_count": null,
   "id": "587d6092-55a4-4d4f-90e0-fb0a21cb62bf",
   "metadata": {},
   "outputs": [],
   "source": []
  }
 ],
 "metadata": {
  "kernelspec": {
   "display_name": "Python 3",
   "language": "python",
   "name": "python3"
  },
  "language_info": {
   "codemirror_mode": {
    "name": "ipython",
    "version": 3
   },
   "file_extension": ".py",
   "mimetype": "text/x-python",
   "name": "python",
   "nbconvert_exporter": "python",
   "pygments_lexer": "ipython3",
   "version": "3.10.6"
  }
 },
 "nbformat": 4,
 "nbformat_minor": 5
}
