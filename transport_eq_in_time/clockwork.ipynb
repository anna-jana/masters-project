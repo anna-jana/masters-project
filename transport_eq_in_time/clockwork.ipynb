{
 "cells": [
  {
   "cell_type": "code",
   "execution_count": 1,
   "metadata": {},
   "outputs": [],
   "source": [
    "import numpy as np\n",
    "import matplotlib.pyplot as plt\n",
    "from scipy.integrate import solve_ivp\n",
    "from scipy.special import ellipj, ellipk, ellipkinc, ellipkm1\n",
    "import axion_motion\n",
    "import clock_work_axion\n",
    "import model\n",
    "import transport_equation\n",
    "import reheating\n",
    "from common import constants, cosmology"
   ]
  },
  {
   "cell_type": "code",
   "execution_count": 2,
   "metadata": {},
   "outputs": [],
   "source": [
    "def sc(x, y):\n",
    "    sn, cn, _dn, _ph = ellipj(x, y)\n",
    "    return sn / cn"
   ]
  },
  {
   "cell_type": "code",
   "execution_count": 3,
   "metadata": {},
   "outputs": [],
   "source": [
    "def calc_f_eff(f, eps):\n",
    "    return 2 / np.pi * f * ellipkm1(eps**2)"
   ]
  },
  {
   "cell_type": "code",
   "execution_count": 4,
   "metadata": {},
   "outputs": [],
   "source": [
    "def calc_eps(mR):\n",
    "    return np.exp(- np.pi * mR)\n",
    "\n",
    "def calc_m_phi(mR, M):\n",
    "    return calc_eps(mR) * M\n",
    "\n",
    "def calc_mass(_T, eps, M):\n",
    "    return eps * M\n",
    "\n",
    "def calc_u(phi_over_f, eps):\n",
    "    return eps * sc(phi_over_f / 2, 1 - eps**2)\n",
    "\n",
    "def calc_V_eff_over_f_sq(phi_over_f, eps, M):\n",
    "    return M**2 * 2 / (1 + 1 / calc_u(phi_over_f, eps)**2)\n",
    "\n",
    "def theta_to_phi_over_f(theta, eps):\n",
    "    return 2 / eps * ellipkinc(theta / 2, - 1 / eps**2)"
   ]
  },
  {
   "cell_type": "code",
   "execution_count": 5,
   "metadata": {},
   "outputs": [],
   "source": [
    "def calc_du_dphi_times_f(phi_over_f, eps):\n",
    "    _sn, cn, dn, _ph = ellipj(phi_over_f / 2, 1 - eps**2)\n",
    "    return eps / 2 * dn / cn**2\n",
    "\n",
    "def calc_dV_eff_dphi_over_f(phi_over_f, eps, M):\n",
    "    u = calc_u(phi_over_f, eps)\n",
    "    return 4 * M**2 * calc_du_dphi_times_f(phi_over_f, eps) / (u**3 * (1 + 1 / u**2)**2)"
   ]
  },
  {
   "cell_type": "code",
   "execution_count": 6,
   "metadata": {},
   "outputs": [],
   "source": [
    "def rhs(t, y, eps, M, H_fn):\n",
    "    phi_over_f, phi_dot_over_f = y\n",
    "    H = H_fn(t)\n",
    "    phi_dot_dot_over_f = - 3 * H * phi_dot_over_f - calc_dV_eff_dphi_over_f(phi_over_f, eps, M)\n",
    "    return phi_dot_over_f, phi_dot_dot_over_f"
   ]
  },
  {
   "cell_type": "code",
   "execution_count": 7,
   "metadata": {},
   "outputs": [],
   "source": [
    "def rhs_log_t(log_t, y, _T_fn, H_fn, p):\n",
    "    eps, M = p\n",
    "    t = np.exp(log_t)\n",
    "    phi_dot_over_f, phi_dot_dot_over_f = rhs(t, y, eps, M, H_fn)\n",
    "    return phi_dot_over_f * t, phi_dot_dot_over_f * t"
   ]
  },
  {
   "cell_type": "code",
   "execution_count": 8,
   "metadata": {},
   "outputs": [],
   "source": [
    "def make_rad_dom_H_fn(t_init, T_init):\n",
    "    T_fn = lambda t: T_init * (t / t_init)**(-0.5)\n",
    "    H_fn = lambda t: 1 / (2*t)\n",
    "    return T_fn, H_fn"
   ]
  },
  {
   "cell_type": "code",
   "execution_count": 17,
   "metadata": {},
   "outputs": [],
   "source": [
    "def calc_theta_dot(phi_over_f, phi_dot_over_f, eps, M):\n",
    "    MM = 2*M**2\n",
    "    A = calc_V_eff_over_f_sq(phi_over_f, eps, M) / MM\n",
    "    return (\n",
    "        1 / MM * np.abs(calc_dV_eff_dphi_over_f(phi_over_f, eps, M)) * phi_dot_over_f\n",
    "        / ((1 - A)*A)**0.5\n",
    "    )\n",
    "def get_axion_source_clockwork(field_fn, p):\n",
    "    eps, M = p\n",
    "    def source_fn(log_t):\n",
    "        phi_over_f, phi_dot_over_f = field_fn(log_t)\n",
    "        return calc_theta_dot(phi_over_f, phi_dot_over_f, eps, M)\n",
    "    return source_fn"
   ]
  },
  {
   "cell_type": "code",
   "execution_count": 18,
   "metadata": {},
   "outputs": [],
   "source": [
    "Gamma_phi = 1e7\n",
    "H_inf = 2e10\n",
    "mR = 6\n",
    "m_phi = 100 * 1e-9 # [GeV]\n",
    "eps = calc_eps(mR)\n",
    "f = 1e12\n",
    "f_eff = calc_f_eff(f, eps)\n",
    "t0, initial = reheating.calc_initial_reheating(H_inf)\n",
    "tf = t0*1e7\n",
    "M = m_phi / eps\n",
    "params = (mR, M)\n",
    "T_osc = (90 * constants.M_pl**2 * m_phi**2 / (constants.g_star * np.pi**2))**(1/4)"
   ]
  },
  {
   "cell_type": "code",
   "execution_count": 19,
   "metadata": {},
   "outputs": [
    {
     "name": "stdout",
     "output_type": "stream",
     "text": [
      "CPU times: user 23.4 ms, sys: 4.38 ms, total: 27.8 ms\n",
      "Wall time: 19.8 ms\n"
     ]
    }
   ],
   "source": [
    "%time T_fn, H_fn, T_dot_fn, final = reheating.solve_reheating_eq(t0, tf, initial, Gamma_phi)"
   ]
  },
  {
   "cell_type": "code",
   "execution_count": 22,
   "metadata": {},
   "outputs": [
    {
     "name": "stderr",
     "output_type": "stream",
     "text": [
      "<ipython-input-7-a3c7de6667fc>:3: RuntimeWarning: overflow encountered in exp\n",
      "  t = np.exp(log_t)\n"
     ]
    }
   ],
   "source": [
    "m = model.AxionBaryogenesisModel(\n",
    "    source_vector=transport_equation.source_vector_weak_sphaleron, \n",
    "    get_axion_source=get_axion_source_clockwork,\n",
    "    axion_rhs=rhs_log_t,\n",
    "    calc_axion_mass=calc_mass,\n",
    "    axion_parameter=(eps, M),\n",
    "    axion_initial=(theta_to_phi_over_f(1.0, eps), 0),\n",
    "    Gamma_phi=Gamma_phi,\n",
    "    H_inf=H_inf,\n",
    ")\n",
    "res = model.solve(m, collect=True)"
   ]
  },
  {
   "cell_type": "code",
   "execution_count": 24,
   "metadata": {},
   "outputs": [],
   "source": []
  },
  {
   "cell_type": "code",
   "execution_count": 25,
   "metadata": {},
   "outputs": [
    {
     "name": "stderr",
     "output_type": "stream",
     "text": [
      "<ipython-input-24-0aead7bd945d>:20: RuntimeWarning: invalid value encountered in true_divide\n",
      "  y = theta_dot / T / 1e-6\n"
     ]
    },
    {
     "name": "stdout",
     "output_type": "stream",
     "text": [
      "name 'root' is not defined\n",
      "name 'root' is not defined\n",
      "name 'root' is not defined\n",
      "name 'root' is not defined\n",
      "name 'root' is not defined\n",
      "name 'root' is not defined\n",
      "name 'root' is not defined\n",
      "name 'root' is not defined\n",
      "name 'root' is not defined\n",
      "name 'root' is not defined\n"
     ]
    },
    {
     "data": {
      "image/png": "[encoded data removed]",
      "text/plain": [
       "<Figure size 720x720 with 3 Axes>"
      ]
     },
     "metadata": {
      "needs_background": "light"
     },
     "output_type": "display_data"
    }
   ],
   "source": [
    "plot(res)"
   ]
  },
  {
   "cell_type": "code",
   "execution_count": 26,
   "metadata": {},
   "outputs": [
    {
     "data": {
      "text/plain": [
       "[<matplotlib.lines.Line2D at 0x7ffa7e233340>]"
      ]
     },
     "execution_count": 26,
     "metadata": {},
     "output_type": "execute_result"
    },
    {
     "data": {
      "image/png": "[encoded data removed]",
      "text/plain": [
       "<Figure size 432x288 with 1 Axes>"
      ]
     },
     "metadata": {
      "needs_background": "light"
     },
     "output_type": "display_data"
    }
   ],
   "source": [
    "def evolve(t_start, t_end, initial, args, steps=None):\n",
    "    sol = solve_ivp(rhs, (t_start, t_end), initial, t_eval=steps, method=\"Radau\", args=args)\n",
    "    assert sol.success\n",
    "    return sol\n",
    "\n",
    "sol_sbg = evolve(t0, tf, (theta_to_phi_over_f(1.0, eps), 0), (eps, M, H_fn))\n",
    "plt.semilogx(sol_sbg.t, sol_sbg.y[0])"
   ]
  },
  {
   "cell_type": "code",
   "execution_count": 27,
   "metadata": {},
   "outputs": [
    {
     "data": {
      "text/plain": [
       "Text(0, 0.5, 'V_eff / GeV^4')"
      ]
     },
     "execution_count": 27,
     "metadata": {},
     "output_type": "execute_result"
    },
    {
     "data": {
      "image/png": "[encoded data removed]",
      "text/plain": [
       "<Figure size 432x288 with 1 Axes>"
      ]
     },
     "metadata": {
      "needs_background": "light"
     },
     "output_type": "display_data"
    }
   ],
   "source": [
    "theta_range = np.linspace(-np.pi, np.pi, 100)\n",
    "phi_over_f_range = f_eff * theta_range / f # not a linear map\n",
    "plt.plot(theta_range, calc_V_eff_over_f_sq(phi_over_f_range, eps, M))\n",
    "plt.xlabel(\"phi / f_eff\")\n",
    "plt.ylabel(\"V_eff / GeV^4\")"
   ]
  },
  {
   "cell_type": "code",
   "execution_count": 28,
   "metadata": {},
   "outputs": [],
   "source": [
    "t_osc = cosmology.switch_hubble_and_time_rad_dom(cosmology.calc_hubble_parameter(cosmology.calc_entropy_density(T_osc)))"
   ]
  },
  {
   "cell_type": "code",
   "execution_count": 30,
   "metadata": {},
   "outputs": [
    {
     "data": {
      "text/plain": [
       "'2.236517e+09'"
      ]
     },
     "execution_count": 30,
     "metadata": {},
     "output_type": "execute_result"
    }
   ],
   "source": [
    "\"%e\" % t_osc"
   ]
  },
  {
   "cell_type": "code",
   "execution_count": null,
   "metadata": {},
   "outputs": [],
   "source": [
    "T_fn_rad_dom, H_fn_rad_dom = make_rad_dom_H_fn(tf, T_fn(tf))"
   ]
  },
  {
   "cell_type": "code",
   "execution_count": null,
   "metadata": {},
   "outputs": [],
   "source": [
    "sol_relic = evolve(tf, t_osc, sol_sbg.y[:, -1], (eps, M, H_fn_rad_dom))\n",
    "plt.semilogx(sol_relic.t, sol_relic.y[0])"
   ]
  },
  {
   "cell_type": "code",
   "execution_count": null,
   "metadata": {},
   "outputs": [],
   "source": [
    "def calc_abundance(phi_over_f, phi_dot_over_f, T, eps, f, M):\n",
    "    rho = f**2 * (0.5 * phi_dot_over_f**2 + calc_V_eff_over_f_sq(phi_over_f, eps, M))\n",
    "    n = rho / m_phi\n",
    "    s = cosmology.calc_entropy_density(T)\n",
    "    return n / s"
   ]
  },
  {
   "cell_type": "code",
   "execution_count": null,
   "metadata": {},
   "outputs": [],
   "source": [
    "Y = calc_abundance(*sol_relic.y, T_fn_rad_dom(sol_relic.t), eps, f, M)\n",
    "plt.loglog(sol_relic.t, Y)\n",
    "plt.xlabel(\"t * GeV\")\n",
    "plt.ylabel(\"Y\")"
   ]
  },
  {
   "cell_type": "code",
   "execution_count": null,
   "metadata": {},
   "outputs": [],
   "source": [
    "def compute_relic_density(field_initial_over_f, T_initial, t_initial, f, mR, M, \n",
    "                          num_osc_per_step=10, convergence_epsilon=1e-3, debug=False):\n",
    "    T_fn_rad_dom, H_fn_rad_dom = make_rad_dom_H_fn(t_initial, T_initial)\n",
    "    m_phi = calc_m_phi(mR, M)\n",
    "    t_osc = cosmology.switch_hubble_and_time_rad_dom(m_phi)\n",
    "    Delta_t = 2*np.pi / m_phi * num_osc_per_step \n",
    "    eps = calc_eps(mR)\n",
    "    args = (eps, M, H_fn)\n",
    "    sol = evolve(t_initial, t_osc, field_initial_over_f, args)\n",
    "    change = 1\n",
    "    while change > convergence_epsilon:\n",
    "        t_start = sol.t[-1]\n",
    "        t_end = t_start + Delta_t\n",
    "        t_steps = np.linspace(t_start, t_end, num_osc_per_step * 10)\n",
    "        t_steps[0] = t_start; t_steps[-1] = t_end\n",
    "        sol = evolve(t_start, t_end, sol.y[:, -1], args, steps=t_steps)\n",
    "        Y = calc_abundance(*sol.y, T_fn(sol.t), eps, f, M)\n",
    "        Y_max, Y_min = np.max(Y), np.min(Y)\n",
    "        change = Y_max - Y_min\n",
    "        if debug:\n",
    "            print(\"change:\", change, \"Y_mean:\", Y_mean, \"convergence_eps:\", convergence_epsilon)\n",
    "    Y = (Y_max + Y_min) / 2\n",
    "    n_today = Y * cosmology.calc_entropy_density(constants.T_CMB)\n",
    "    rho_today = m_phi * n_today\n",
    "    Omega_h_sq = rho_today / constants.rho_c * constants.h**2\n",
    "    return Omega_h_sq"
   ]
  },
  {
   "cell_type": "code",
   "execution_count": null,
   "metadata": {},
   "outputs": [],
   "source": [
    "compute_relic_density(sol_sbg.y[:, -1], T_fn(sol_sbg.t[-1]), sol_sbg.t[-1], f, mR, M)"
   ]
  },
  {
   "cell_type": "code",
   "execution_count": null,
   "metadata": {},
   "outputs": [],
   "source": []
  }
 ],
 "metadata": {
  "kernelspec": {
   "display_name": "Python 3",
   "language": "python",
   "name": "python3"
  },
  "language_info": {
   "codemirror_mode": {
    "name": "ipython",
    "version": 3
   },
   "file_extension": ".py",
   "mimetype": "text/x-python",
   "name": "python",
   "nbconvert_exporter": "python",
   "pygments_lexer": "ipython3",
   "version": "3.8.5"
  }
 },
 "nbformat": 4,
 "nbformat_minor": 4
}
